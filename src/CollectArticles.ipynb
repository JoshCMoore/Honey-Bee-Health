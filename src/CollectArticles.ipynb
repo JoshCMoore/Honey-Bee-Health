{
 "cells": [
  {
   "cell_type": "code",
   "execution_count": 1,
   "metadata": {},
   "outputs": [],
   "source": [
    "import requests\n",
    "from requests.auth import HTTPBasicAuth\n",
    "from bs4 import BeautifulSoup\n",
    "import urllib"
   ]
  },
  {
   "cell_type": "code",
   "execution_count": 2,
   "metadata": {},
   "outputs": [],
   "source": [
    "#The 'query' key contains the search terms exactly\n",
    "args = {'query':'Apis Mellifera','apiKey':'582c2ee616e8c4119ae4201ce59a5e06'}\n",
    "r = requests.get('http://api.elsevier.com/content/search/scopus?'+urllib.urlencode(args))\n",
    "data = r.json()\n",
    "results = int(data['search-results']['opensearch:totalResults'])\n"
   ]
  },
  {
   "cell_type": "code",
   "execution_count": 4,
   "metadata": {},
   "outputs": [
    {
     "name": "stdout",
     "output_type": "stream",
     "text": [
      "39085\n"
     ]
    }
   ],
   "source": [
    "print results\n",
    "login = open(\"./LoginInfo.txt\",\"r\")\n",
    "user = login.readline()\n",
    "password = login.readline()\n",
    "login.close()"
   ]
  },
  {
   "cell_type": "code",
   "execution_count": 5,
   "metadata": {},
   "outputs": [
    {
     "name": "stdout",
     "output_type": "stream",
     "text": [
      "[<span class=\"badges\">Hough transform</span>, <span class=\"badges\">Kalman filter</span>, <span class=\"badges\">Pollen detection</span>, <span class=\"badges\">Pollen measurement</span>, <span class=\"badges\">Receiver operating characteristic</span>]\n"
     ]
    }
   ],
   "source": [
    "abstractPage = requests.get(\"https://www.scopus.com/inward/record.uri?partnerID=HzOxMe3b&scp=85039924208&origin=inward\",auth = HTTPBasicAuth(user,password))\n",
    "bSoupObj = BeautifulSoup(abstractPage.content,\"html5lib\")\n",
    "abstractText = bSoupObj.find(\"section\",{\"id\":\"authorKeywords\"}).findAll(\"span\",{\"class\":\"badges\"})\n",
    "# print abstractText\n",
    "print abstractText"
   ]
  },
  {
   "cell_type": "code",
   "execution_count": 6,
   "metadata": {},
   "outputs": [
    {
     "name": "stdout",
     "output_type": "stream",
     "text": [
      "Color, Food products, Food storage, Hough transforms, Elliptical shapes, Image moments, Object discrimination, Pollen counting, Pollen discriminations, Receiver operating characteristics, Tracking models, Video monitoring, Kalman filters\n"
     ]
    }
   ],
   "source": [
    "sKeywords = \"\"\n",
    "for word in bSoupObj.find(\"section\",{\"id\":\"indexedKeywords\"}).findAll(\"span\"):\n",
    "    sKeywords+= word.text+\", \"\n",
    "print sKeywords[:-2]"
   ]
  },
  {
   "cell_type": "code",
   "execution_count": 13,
   "metadata": {},
   "outputs": [
    {
     "name": "stdout",
     "output_type": "stream",
     "text": [
      "25\n"
     ]
    }
   ],
   "source": [
    "f = open(\"../data/paperTable1.tsv\",\"w\")\n",
    "entry_size = len(data['search-results']['entry'])\n",
    "print entry_size"
   ]
  },
  {
   "cell_type": "code",
   "execution_count": 16,
   "metadata": {},
   "outputs": [
    {
     "name": "stdout",
     "output_type": "stream",
     "text": [
      "{u'service-error': {u'status': {u'statusText': u'Exceeds the number of search results', u'statusCode': u'INVALID_INPUT'}}}\n",
      "{u'service-error': {u'status': {u'statusText': u'Exceeds the number of search results', u'statusCode': u'INVALID_INPUT'}}}\n",
      "{u'service-error': {u'status': {u'statusText': u'Exceeds the number of search results', u'statusCode': u'INVALID_INPUT'}}}\n",
      "{u'service-error': {u'status': {u'statusText': u'Exceeds the number of search results', u'statusCode': u'INVALID_INPUT'}}}\n",
      "{u'service-error': {u'status': {u'statusText': u'Exceeds the number of search results', u'statusCode': u'INVALID_INPUT'}}}\n",
      "{u'service-error': {u'status': {u'statusText': u'Exceeds the number of search results', u'statusCode': u'INVALID_INPUT'}}}\n",
      "{u'service-error': {u'status': {u'statusText': u'Exceeds the number of search results', u'statusCode': u'INVALID_INPUT'}}}\n",
      "{u'service-error': {u'status': {u'statusText': u'Exceeds the number of search results', u'statusCode': u'INVALID_INPUT'}}}\n",
      "{u'service-error': {u'status': {u'statusText': u'Exceeds the number of search results', u'statusCode': u'INVALID_INPUT'}}}\n",
      "{u'service-error': {u'status': {u'statusText': u'Exceeds the number of search results', u'statusCode': u'INVALID_INPUT'}}}\n",
      "{u'service-error': {u'status': {u'statusText': u'Exceeds the number of search results', u'statusCode': u'INVALID_INPUT'}}}\n",
      "{u'service-error': {u'status': {u'statusText': u'Exceeds the number of search results', u'statusCode': u'INVALID_INPUT'}}}\n",
      "{u'service-error': {u'status': {u'statusText': u'Exceeds the number of search results', u'statusCode': u'INVALID_INPUT'}}}\n",
      "{u'service-error': {u'status': {u'statusText': u'Exceeds the number of search results', u'statusCode': u'INVALID_INPUT'}}}\n",
      "{u'service-error': {u'status': {u'statusText': u'Exceeds the number of search results', u'statusCode': u'INVALID_INPUT'}}}\n",
      "{u'service-error': {u'status': {u'statusText': u'Exceeds the number of search results', u'statusCode': u'INVALID_INPUT'}}}\n",
      "{u'service-error': {u'status': {u'statusText': u'Exceeds the number of search results', u'statusCode': u'INVALID_INPUT'}}}\n",
      "{u'service-error': {u'status': {u'statusText': u'Exceeds the number of search results', u'statusCode': u'INVALID_INPUT'}}}\n",
      "{u'service-error': {u'status': {u'statusText': u'Exceeds the number of search results', u'statusCode': u'INVALID_INPUT'}}}\n",
      "{u'service-error': {u'status': {u'statusText': u'Exceeds the number of search results', u'statusCode': u'INVALID_INPUT'}}}\n",
      "{u'service-error': {u'status': {u'statusText': u'Exceeds the number of search results', u'statusCode': u'INVALID_INPUT'}}}\n",
      "{u'service-error': {u'status': {u'statusText': u'Exceeds the number of search results', u'statusCode': u'INVALID_INPUT'}}}\n",
      "{u'service-error': {u'status': {u'statusText': u'Exceeds the number of search results', u'statusCode': u'INVALID_INPUT'}}}\n",
      "{u'service-error': {u'status': {u'statusText': u'Exceeds the number of search results', u'statusCode': u'INVALID_INPUT'}}}\n",
      "{u'service-error': {u'status': {u'statusText': u'Exceeds the number of search results', u'statusCode': u'INVALID_INPUT'}}}\n",
      "{u'service-error': {u'status': {u'statusText': u'Exceeds the number of search results', u'statusCode': u'INVALID_INPUT'}}}\n",
      "{u'service-error': {u'status': {u'statusText': u'Exceeds the number of search results', u'statusCode': u'INVALID_INPUT'}}}\n",
      "{u'service-error': {u'status': {u'statusText': u'Exceeds the number of search results', u'statusCode': u'INVALID_INPUT'}}}\n",
      "{u'service-error': {u'status': {u'statusText': u'Exceeds the number of search results', u'statusCode': u'INVALID_INPUT'}}}\n",
      "{u'service-error': {u'status': {u'statusText': u'Exceeds the number of search results', u'statusCode': u'INVALID_INPUT'}}}\n",
      "{u'service-error': {u'status': {u'statusText': u'Exceeds the number of search results', u'statusCode': u'INVALID_INPUT'}}}\n",
      "{u'service-error': {u'status': {u'statusText': u'Exceeds the number of search results', u'statusCode': u'INVALID_INPUT'}}}\n",
      "{u'service-error': {u'status': {u'statusText': u'Exceeds the number of search results', u'statusCode': u'INVALID_INPUT'}}}\n",
      "{u'service-error': {u'status': {u'statusText': u'Exceeds the number of search results', u'statusCode': u'INVALID_INPUT'}}}\n",
      "{u'service-error': {u'status': {u'statusText': u'Exceeds the number of search results', u'statusCode': u'INVALID_INPUT'}}}\n",
      "{u'service-error': {u'status': {u'statusText': u'Exceeds the number of search results', u'statusCode': u'INVALID_INPUT'}}}\n",
      "{u'service-error': {u'status': {u'statusText': u'Exceeds the number of search results', u'statusCode': u'INVALID_INPUT'}}}\n",
      "{u'service-error': {u'status': {u'statusText': u'Exceeds the number of search results', u'statusCode': u'INVALID_INPUT'}}}\n",
      "{u'service-error': {u'status': {u'statusText': u'Exceeds the number of search results', u'statusCode': u'INVALID_INPUT'}}}\n",
      "{u'service-error': {u'status': {u'statusText': u'Exceeds the number of search results', u'statusCode': u'INVALID_INPUT'}}}\n"
     ]
    }
   ],
   "source": [
    "# f = open(\"../data/paperTable.tsv\",\"w\")\n",
    "# entry_size = len(data['search-results']['entry'])\n",
    "# start_point = 25\n",
    "import threading\n",
    "import CustomApi as api\n",
    "dist = results/3\n",
    "def readAbstracts(start,stop):\n",
    "    while(start < stop):\n",
    "        data = requests.get('http://api.elsevier.com/content/search/scopus?'+urllib.urlencode(args)+'&start='+str(start)).json()\n",
    "        entries = None\n",
    "        try:\n",
    "            print data\n",
    "            entries = data['search-results']['entry']\n",
    "            print entries\n",
    "        except:\n",
    "            start += 25\n",
    "            continue\n",
    "        for entry in entries:\n",
    "            #gets abstract text\n",
    "            abstractPage = requests.get(entry['link'][2]['@href'],auth = HTTPBasicAuth(user,password))\n",
    "            bSoupObj = BeautifulSoup(abstractPage.content,\"html5lib\")\n",
    "            if(len(bSoupObj.findAll(\"p\"))>1):\n",
    "                abstractText = bSoupObj.findAll(\"p\")[1].text\n",
    "                #creates lists of keywords, seperated into author keywords and scopus assigned keywords\n",
    "                aKeywords = \"\"\n",
    "                sKeywords = \"\"\n",
    "                if bSoupObj.find(\"section\",{\"id\":\"authorKeywords\"}) is not None:\n",
    "                    for word in bSoupObj.find(\"section\",{\"id\":\"authorKeywords\"}).findAll(\"li\"):\n",
    "                        aKeywords+= word.text+\", \"\n",
    "                if bSoupObj.find(\"section\",{\"id\":\"indexedKeywords\"}) is not None:\n",
    "                    for word in bSoupObj.find(\"section\",{\"id\":\"indexedKeywords\"}).findAll(\"span\"):\n",
    "                        sKeywords+= word.text+\", \"\n",
    "\n",
    "                #prints title, abstract, tags, and date created\n",
    "                if abstractText.encode(\"utf8\")==\"[No abstract available]\":\n",
    "                    print(\"no abs\")\n",
    "                else:\n",
    "                    try:\n",
    "                        #abstracts.append(api.MyAbstract(title=entry['dc:title'].encode(\"utf8\"),date=entry['prism:coverDate'].encode(\"utf8\"),text=abstractText.encode(\"utf8\")))\n",
    "                        f.write(entry['dc:title'].encode(\"utf8\")+\"\\t\"+abstractText.encode(\"utf8\")+\"\\t\"+aKeywords[:-2].encode(\"utf8\")+\"\\t\"+sKeywords[:-2].encode(\"utf8\")+\"\\t\"+entry['prism:coverDate'].encode(\"utf8\")+\"\\n\")\n",
    "                    except:\n",
    "                        pass\n",
    "        start += 25\n",
    "# thread1 = threading.Thread(target=readAbstracts,args=(5000,6000))\n",
    "# thread2 = threading.Thread(target=readAbstracts,args=(6000,7000))\n",
    "# thread3 = threading.Thread(target=readAbstracts,args=(7000,8000))\n",
    "# thread1.start()\n",
    "# thread2.start()\n",
    "# thread3.start()\n",
    "# while True:\n",
    "#     if thread1.isAlive() or thread2.isAlive() or thread3.isAlive():\n",
    "#         continue\n",
    "#     else:\n",
    "#         break\n",
    "readAbstracts(5000,6000)\n",
    "#readAbstracts(0,25)"
   ]
  },
  {
   "cell_type": "code",
   "execution_count": null,
   "metadata": {},
   "outputs": [],
   "source": [
    "from datetime import datetime\n",
    "f = lambda x : datetime.strptime(x.date,'%Y-%m-%d')\n",
    "abstracts.sort(key=f)"
   ]
  },
  {
   "cell_type": "code",
   "execution_count": null,
   "metadata": {},
   "outputs": [],
   "source": [
    "abstracts[0]\n",
    "\n"
   ]
  },
  {
   "cell_type": "code",
   "execution_count": 17,
   "metadata": {},
   "outputs": [],
   "source": [
    "f.close()"
   ]
  },
  {
   "cell_type": "code",
   "execution_count": null,
   "metadata": {},
   "outputs": [],
   "source": []
  }
 ],
 "metadata": {
  "kernelspec": {
   "display_name": "Python 2",
   "language": "python",
   "name": "python2"
  },
  "language_info": {
   "codemirror_mode": {
    "name": "ipython",
    "version": 2
   },
   "file_extension": ".py",
   "mimetype": "text/x-python",
   "name": "python",
   "nbconvert_exporter": "python",
   "pygments_lexer": "ipython2",
   "version": "2.7.14"
  }
 },
 "nbformat": 4,
 "nbformat_minor": 2
}
