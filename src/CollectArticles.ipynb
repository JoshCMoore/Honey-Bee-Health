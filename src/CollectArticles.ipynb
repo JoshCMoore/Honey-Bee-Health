{
 "cells": [
  {
   "cell_type": "code",
   "execution_count": 74,
   "metadata": {
    "collapsed": true
   },
   "outputs": [],
   "source": [
    "import requests\n",
    "from requests.auth import HTTPBasicAuth\n",
    "from bs4 import BeautifulSoup"
   ]
  },
  {
   "cell_type": "code",
   "execution_count": 75,
   "metadata": {
    "collapsed": true
   },
   "outputs": [],
   "source": [
    "r = requests.get('http://api.elsevier.com/content/search/scopus?query=bee&apiKey=eb73f64c03599119a51db065202c555f')\n",
    "data = r.json()"
   ]
  },
  {
   "cell_type": "code",
   "execution_count": 76,
   "metadata": {
    "collapsed": true
   },
   "outputs": [],
   "source": [
    "login = open(\"./LoginInfo.txt\",\"r\")\n",
    "user = login.readline()\n",
    "password = login.readline()\n",
    "login.close()"
   ]
  },
  {
   "cell_type": "code",
   "execution_count": 72,
   "metadata": {},
   "outputs": [
    {
     "name": "stdout",
     "output_type": "stream",
     "text": [
      "Kalman filter\n"
     ]
    }
   ],
   "source": [
    "abstractPage = requests.get(\"https://www.scopus.com/inward/record.uri?partnerID=HzOxMe3b&scp=85039924208&origin=inward\",auth = HTTPBasicAuth(user,password))\n",
    "bSoupObj = BeautifulSoup(abstractPage.content,\"html5lib\")\n",
    "abstractText = bSoupObj.find(\"section\",{\"id\":\"authorKeywords\"}).findAll(\"li\")\n",
    "print abstractText[1].text"
   ]
  },
  {
   "cell_type": "code",
   "execution_count": 68,
   "metadata": {},
   "outputs": [
    {
     "name": "stdout",
     "output_type": "stream",
     "text": [
      "Color, Food products, Food storage, Hough transforms, Elliptical shapes, Image moments, Object discrimination, Pollen counting, Pollen discriminations, Receiver operating characteristics, Tracking models, Video monitoring, Kalman filters\n"
     ]
    }
   ],
   "source": [
    "sKeywords = \"\"\n",
    "for word in bSoupObj.find(\"section\",{\"id\":\"indexedKeywords\"}).findAll(\"span\"):\n",
    "    sKeywords+= word.text+\", \"\n",
    "print sKeywords[:-2]"
   ]
  },
  {
   "cell_type": "code",
   "execution_count": 86,
   "metadata": {
    "scrolled": true
   },
   "outputs": [],
   "source": [
    "f = open(\"../data/paperTable.tsv\",\"w\")\n",
    "for entry in data['search-results']['entry']:\n",
    "    #gets abstract text\n",
    "    abstractPage = requests.get(entry['link'][2]['@href'],auth = HTTPBasicAuth(user,password))\n",
    "    bSoupObj = BeautifulSoup(abstractPage.content,\"html5lib\")\n",
    "    abstractText = bSoupObj.findAll(\"p\")[1].text\n",
    "    \n",
    "    #creates lists of keywords, seperated into author keywords and scopus assigned keywords\n",
    "    aKeywords = \"\"\n",
    "    sKeywords = \"\"\n",
    "    if bSoupObj.find(\"section\",{\"id\":\"authorKeywords\"}) is not None:\n",
    "        for word in bSoupObj.find(\"section\",{\"id\":\"authorKeywords\"}).findAll(\"li\"):\n",
    "            aKeywords+= word.text+\", \"\n",
    "    if bSoupObj.find(\"section\",{\"id\":\"indexedKeywords\"}) is not None:\n",
    "        for word in bSoupObj.find(\"section\",{\"id\":\"indexedKeywords\"}).findAll(\"span\"):\n",
    "            sKeywords+= word.text+\", \"\n",
    "\n",
    "    #prints title, abstract, tags, and date created\n",
    "    f.write(entry['dc:title'].encode(\"utf8\")+\"\\t\"+abstractText.encode(\"utf8\")+\"\\t\"+aKeywords[:-2].encode(\"utf8\")+\"\\t\"+sKeywords[:-2].encode(\"utf8\")+\"\\t\"+entry['prism:coverDate'].encode(\"utf8\")+\"\\n\")\n",
    "f.close()"
   ]
  },
  {
   "cell_type": "markdown",
   "metadata": {},
   "source": [
    "### TODO\n",
    "    -Get Keywords\n",
    "        >Differentiate between scopus assigned and author assigned\n",
    "    -Get Year\n",
    "    -Topic Modeling \n",
    "        >ADA\n",
    "        >LSI\n",
    "    -Jenkins Automation"
   ]
  },
  {
   "cell_type": "code",
   "execution_count": null,
   "metadata": {
    "collapsed": true
   },
   "outputs": [],
   "source": []
  }
 ],
 "metadata": {
  "kernelspec": {
   "display_name": "Python 2",
   "language": "python",
   "name": "python2"
  },
  "language_info": {
   "codemirror_mode": {
    "name": "ipython",
    "version": 2
   },
   "file_extension": ".py",
   "mimetype": "text/x-python",
   "name": "python",
   "nbconvert_exporter": "python",
   "pygments_lexer": "ipython2",
   "version": "2.7.12+"
  }
 },
 "nbformat": 4,
 "nbformat_minor": 2
}
