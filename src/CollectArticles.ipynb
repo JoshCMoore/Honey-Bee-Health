{
 "cells": [
  {
   "cell_type": "code",
   "execution_count": null,
   "metadata": {
    "collapsed": true
   },
   "outputs": [],
   "source": [
    "import requests"
   ]
  },
  {
   "cell_type": "code",
   "execution_count": null,
   "metadata": {},
   "outputs": [],
   "source": [
    "r = requests.get('http://api.elsevier.com/content/search/scopus?query=bee&apiKey=eb73f64c03599119a51db065202c555f')\n",
    "data = r.json()"
   ]
  },
  {
   "cell_type": "code",
   "execution_count": null,
   "metadata": {
    "scrolled": true
   },
   "outputs": [],
   "source": [
    "f = open(\"../data/paperTable.tsv\",\"w\")\n",
    "for entry in data['search-results']['entry']:\n",
    "    #prints title, link to abstract,and creator\n",
    "    f.write(entry['dc:title']+\"\\t\"+entry['link'][2]['@href']+\"\\t\"+entry['dc:creator']+\"\\n\")\n",
    "    print entry['dc:title']          \n",
    "    print entry['link'][2]['@href']\n",
    "    print entry['dc:creator']\n",
    "f.close()"
   ]
  },
  {
   "cell_type": "markdown",
   "metadata": {},
   "source": [
    "### TODO\n",
    "    -Get full abstract\n",
    "    -Get all authors\n",
    "    -Only use real bee articles"
   ]
  }
 ],
 "metadata": {
  "kernelspec": {
   "display_name": "Python 2",
   "language": "python",
   "name": "python2"
  },
  "language_info": {
   "codemirror_mode": {
    "name": "ipython",
    "version": 2
   },
   "file_extension": ".py",
   "mimetype": "text/x-python",
   "name": "python",
   "nbconvert_exporter": "python",
   "pygments_lexer": "ipython2",
   "version": "2.7.12+"
  }
 },
 "nbformat": 4,
 "nbformat_minor": 2
}
