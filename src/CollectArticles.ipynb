{
 "cells": [
  {
   "cell_type": "code",
   "execution_count": 31,
   "metadata": {},
   "outputs": [],
   "source": [
    "import requests\n",
    "from requests.auth import HTTPBasicAuth\n",
    "from bs4 import BeautifulSoup"
   ]
  },
  {
   "cell_type": "code",
   "execution_count": 23,
   "metadata": {
    "collapsed": true
   },
   "outputs": [],
   "source": [
    "r = requests.get('http://api.elsevier.com/content/search/scopus?query=bee&apiKey=eb73f64c03599119a51db065202c555f')\n",
    "data = r.json()"
   ]
  },
  {
   "cell_type": "code",
   "execution_count": 61,
   "metadata": {},
   "outputs": [],
   "source": [
    "login = open(\"./LoginInfo.txt\",\"r\")\n",
    "user = login.readline()\n",
    "password = login.readline()\n",
    "login.close()"
   ]
  },
  {
   "cell_type": "code",
   "execution_count": 62,
   "metadata": {
    "scrolled": true
   },
   "outputs": [],
   "source": [
    "f = open(\"../data/paperTable.tsv\",\"w\")\n",
    "for entry in data['search-results']['entry']:\n",
    "    #gets abstract text\n",
    "    abstractPage = requests.get(entry['link'][2]['@href'],auth = HTTPBasicAuth(user,password))\n",
    "    bSoupObj = BeautifulSoup(abstractPage.content)\n",
    "    abstractText = bSoupObj.findAll(\"p\")[1].text\n",
    "    \n",
    "    #prints title, link to abstract,and creator\n",
    "    f.write(entry['dc:title'].encode(\"utf8\")+\"\\t\"+abstractText.encode(\"utf8\")+\"\\t\"+entry['dc:creator'].encode(\"utf8\")+\"\\n\")\n",
    "f.close()"
   ]
  },
  {
   "cell_type": "markdown",
   "metadata": {},
   "source": [
    "### TODO\n",
    "    -Get Keywords\n",
    "        >Differentiate between scopus assigned and author assigned\n",
    "    -Get Year\n",
    "    -Topic Modeling \n",
    "        >ADA\n",
    "        >LSI\n",
    "    -Jenkins Automation"
   ]
  },
  {
   "cell_type": "code",
   "execution_count": null,
   "metadata": {
    "collapsed": true
   },
   "outputs": [],
   "source": []
  }
 ],
 "metadata": {
  "kernelspec": {
   "display_name": "Python 2",
   "language": "python",
   "name": "python2"
  },
  "language_info": {
   "codemirror_mode": {
    "name": "ipython",
    "version": 2
   },
   "file_extension": ".py",
   "mimetype": "text/x-python",
   "name": "python",
   "nbconvert_exporter": "python",
   "pygments_lexer": "ipython2",
   "version": "2.7.12+"
  }
 },
 "nbformat": 4,
 "nbformat_minor": 2
}
