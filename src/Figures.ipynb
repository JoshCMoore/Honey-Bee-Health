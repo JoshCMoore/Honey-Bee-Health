{
 "cells": [
  {
   "cell_type": "code",
   "execution_count": 22,
   "metadata": {},
   "outputs": [
    {
     "name": "stdout",
     "output_type": "stream",
     "text": [
      "2013-2012.csv\n",
      "1974-1957.csv\n",
      "2009-2007.csv\n",
      "2011-2010.csv\n",
      "2006-2003.csv\n",
      "2018-2016.csv\n",
      "2015-2014.csv\n",
      "1995-1975.csv\n",
      "2002-1996.csv\n",
      "{'1962': 11, '2018': 346, '2015': 774, '2014': 701, '2017': 782, '2016': 699, '2011': 767, '2010': 764, '2013': 726, '2012': 840, '1957': 7, '1959': 7, '1958': 6, '1999': 283, '1986': 90, '1987': 88, '1984': 78, '1985': 97, '1982': 51, '1983': 81, '1980': 51, '1981': 43, '1988': 82, '1989': 111, '1991': 170, '1990': 157, '1993': 158, '1992': 164, '1995': 186, '1994': 199, '1997': 249, '1996': 222, '1998': 252, '1968': 19, '1969': 17, '1964': 13, '1965': 16, '1966': 8, '1967': 15, '1960': 11, '1961': 8, '1963': 9, '1979': 41, '1978': 32, '1977': 31, '1976': 39, '1975': 38, '1974': 38, '1973': 23, '1972': 34, '1971': 24, '1970': 29, '2002': 319, '2003': 442, '2000': 284, '2001': 314, '2006': 489, '2007': 573, '2004': 493, '2005': 492, '2008': 660, '2009': 677}\n"
     ]
    }
   ],
   "source": [
    "import os\n",
    "\n",
    "# This Counts the number of publications per year\n",
    "\n",
    "year_num = {}\n",
    "for filename in os.listdir('.'):\n",
    "    if \".csv\" in filename and \"KeywordSynonym\" not in filename:\n",
    "        f = open(\"./\"+filename)\n",
    "        print filename\n",
    "        f.readline()\n",
    "        for line in f:\n",
    "            year = line.split(\"\\\",\")[2][:4]\n",
    "            if year in year_num:\n",
    "                year_num[year]+=1\n",
    "            else:\n",
    "                year_num[year]=1\n",
    "delete_list = []\n",
    "for key in year_num:\n",
    "    if any(s in key for s in(\"\\\"\",\"Bah\")):\n",
    "        delete_list.append(key)\n",
    "for key in delete_list:\n",
    "    year_num.pop(key,None)\n",
    "        \n",
    "print year_num\n",
    "            "
   ]
  },
  {
   "cell_type": "code",
   "execution_count": 3,
   "metadata": {},
   "outputs": [
    {
     "name": "stdout",
     "output_type": "stream",
     "text": [
      "4647 4915 4522\n"
     ]
    }
   ],
   "source": [
    "import matplotlib.pyplot as plt\n",
    "\n",
    "#This plots the number of articles per year\n",
    "\n",
    "x_val = []\n",
    "y_val = []\n",
    "\n",
    "test = sorted(year_num)[:-1]\n",
    "s1 = s2 = s3 = 0\n",
    "for key in test:\n",
    "    x_val.append(key)\n",
    "    y_val.append(year_num[key])\n",
    "    if int(key)<2004:\n",
    "        s1+=year_num[key]\n",
    "    elif int(key)<2012:\n",
    "        s2+=year_num[key]\n",
    "    else:\n",
    "        s3+=year_num[key]\n",
    "print str(s1)+\" \"+str(s2)+\" \"+str(s3)\n",
    "plt.plot(x_val,y_val)\n",
    "plt.ylabel('Number of Articles')\n",
    "plt.xlabel('Year of Publication')\n",
    "\n",
    "\n",
    "plt.savefig(\"Years.eps\",dpi=1200)\n"
   ]
  },
  {
   "cell_type": "code",
   "execution_count": 25,
   "metadata": {},
   "outputs": [
    {
     "name": "stdout",
     "output_type": "stream",
     "text": [
      "['honey bee', 'african honey bee', 'api mellifera jemenitica', 'api mellifera adansonii', 'api mellifera anatoliaca', 'api mellifera iberiensi', 'api mellifera meda', 'api mellifera mellifera', 'api mellifera caucasica', 'api mellifera intermissa', 'api mellifera syriaca', 'api mellifera macedonica', 'api mellifera carnica pollmann 1879', 'api mellifera capensi', 'gene flow', 'asian honey bee', 'api dorsata', 'api laboriosa', 'api florea', 'bee', 'api', 'apida', 'bumblebee', 'stingless bee', 'native bee', 'drosophila', 'wasp', 'ant', 'hoverfli', 'bombyx mori', 'mosquito', 'insect', 'hymenoptera', 'social insect', 'insect pollin', 'pesticid', 'neonicotinoid', 'nicotin', 'imidacloprid', 'insecticid', 'acaricid', 'miticid', 'thymol', 'thiamethoxam', 'fipronil', 'clothianidin', 'fluvalin', 'pyrethroid', 'coumapho', 'amitraz', 'fungicid', 'flumethrin', 'pesticid residu', 'formic acid', 'oxalic acid', 'bacillu thuringiensi', 'varroa destructor', 'varroa jacobsoni', 'varroa', 'spore', 'mite', 'parasit mite', 'nosema cerana', 'nosema api', 'nosema', 'acarapis', 'acari', 'american foulbrood', 'european foulbrood', 'chalkbrood', 'deformed wing virus', 'sacbrood virus', 'chronic bee paralysis virus', 'acute bee paralysis virus', 'black queen cell viru', 'kashmir bee viru', 'virus', 'dicistrovirida', 'small hive beetl', 'wax moth', 'pathogen', 'disease', 'patholog', 'parasitoid', 'brood diseas', 'parasite', 'pest', 'microsatellite', 'gene express', 'transcriptom', 'microarray', 'rna-seq', 'pcr', 'rt-pcr', 'gpcr', 'rflp', 'electrophoresi', 'cdna clone', 'dna methyl', 'cdna', 'sequenc', 'qtl', 'polymorph', 'snp', 'genet marker', 'molecular marker', 'epigenet', 'diagnosis', 'morphometry', 'phylogeny', 'proteom', 'mass spectrometri', 'allozym', 'ga chromatographi', 'gc-m', 'mathemat model', 'immunocytochemistri', 'histolog', 'scan electron microscopi', 'electron microscopi', 'instrument insemin', 'multivari analysi', 'mtdna', 'genom', 'rna interfer', 'propolis', 'hygienic behavior', 'grooming behavior', 'immunity', 'antimicrobial', 'defensin', 'abaecin', 'social immun', 'russian honey bee', 'flavonoid', 'honey', 'nectar', 'pollen', 'wax', 'yield', 'bee product', 'pollen load', 'pollen collect', 'pollen type', 'olfactori learn', 'worker polic', 'forag behaviour', 'defense behavior', 'social behavior', 'alarm pheromon', 'queen pheromon', 'swarm', 'venom', 'danc languag', 'divis of labour', 'cuticular hydrocarbon', 'proboscis extension reflex', 'pheromon', 'brood pheromon', 'thermoregul', 'mitochondria', 'gene regul', 'transcript factor', 'biogen amin', 'octopamin', 'juvenil hormon', 'protein', 'vitellogenin', 'antenn lobe', 'antioxidant', 'ecdysteroid', 'metamorphosi', 'microrna', 'mushroom bodi', 'brain', 'metabol', 'apoptosi', 'hemolymph', 'caffeic acid phenethyl ester', 'neuropeptid', 'acetylcholinesteras', 'melittin', 'dopamin', 'hypopharyng gland', 'royal jelly']\n"
     ]
    }
   ],
   "source": [
    "syns = {}\n",
    "keywords = []\n",
    "unaltered_keywords = {}\n",
    "with open(\"./KeywordSynonym.csv\",\"r\") as f:\n",
    "    f.readline()\n",
    "    for line in f:\n",
    "        if len(line.split(\",\")[1])>1:\n",
    "            if line.split(\",\")[1].strip().lower() not in keywords:\n",
    "                keywords.append(line.split(\",\")[1].strip().lower())\n",
    "                unaltered_keywords[line.split(\",\")[1].strip().lower()] = line.split(\",\")[1].strip()\n",
    "            syns[line.split(\",\")[0]]=line.split(\",\")[1]\n",
    "        elif line.split(\",\")[0].strip().lower() not in keywords:\n",
    "            keywords.append(line.split(\",\")[0].strip().lower())\n",
    "            unaltered_keywords[line.split(\",\")[0].strip().lower()] = line.split(\",\")[0].strip()\n",
    "print keywords"
   ]
  },
  {
   "cell_type": "code",
   "execution_count": null,
   "metadata": {},
   "outputs": [],
   "source": [
    "import os\n",
    "\n",
    "\n",
    "keyword_year_num = {}\n",
    "for key in keywords:\n",
    "    keyword_year_num[key] = {}\n",
    "    for year in range(1957,2019):\n",
    "        keyword_year_num[key][year] = 0\n",
    "\n",
    "for filename in os.listdir('.'):\n",
    "    if \".csv\" in filename and \"KeywordSynonym\" not in filename:\n",
    "        f = open(\"./\"+filename)\n",
    "        print filename\n",
    "        f.readline()\n",
    "        for line in f:\n",
    "            year = line.split(\"\\\",\")[2][:4]\n",
    "            if any(s in year for s in(\"\\\"\",\"Bah\")):\n",
    "                line = \"\"\n",
    "            for key in keywords:\n",
    "                if key in line.lower():\n",
    "                    keyword_year_num[key][int(year)]+=1\n",
    "print keyword_year_num"
   ]
  },
  {
   "cell_type": "code",
   "execution_count": null,
   "metadata": {},
   "outputs": [],
   "source": [
    "import matplotlib.pyplot as plt\n",
    "\n",
    "#This plots the data above\n",
    "\n",
    "for key in keyword_year_num:\n",
    "    current = keyword_year_num[key]\n",
    "#     print year_num[str(1957)]\n",
    "    print key\n",
    "    x_val = []\n",
    "    y_val = []\n",
    "    \n",
    "    plt.title(unaltered_keywords[key])\n",
    "    title = key\n",
    "    test = sorted(current)\n",
    "    for year in test:\n",
    "        x_val.append(year)\n",
    "#         print (float(current[year])/year_num[year])\n",
    "        y_val.append(float(current[int(year)])/year_num[str(year)])\n",
    "    plt.xlim(1955,2017)\n",
    "    plt.plot(x_val,y_val)\n",
    "    plt.ylabel('Percentage of Appearences in the Year')\n",
    "    plt.xlabel('Year of Publication')\n",
    "    \n",
    "#     plt.show()\n",
    "    plt.savefig(key+\"Percentage.eps\",dpi=1200)\n",
    "    plt.close()"
   ]
  },
  {
   "cell_type": "code",
   "execution_count": 13,
   "metadata": {},
   "outputs": [],
   "source": [
    "x_val = []\n",
    "y_val = []\n",
    "\n",
    "key = \"Varroa Destructor\"\n",
    "current = keyword_year_num[key]\n",
    "plt.title(\"Varroa Destructor vs Varroa jacobsoni\")\n",
    "title = key\n",
    "test = sorted(current)\n",
    "for key in test:\n",
    "    x_val.append(key)\n",
    "    y_val.append(float(current[key])/float(year_num[key]))\n",
    "plt.xlim(1955,2017)\n",
    "line1, = plt.plot(x_val,y_val)\n",
    "line1.set_label(\"Varroa Destructor\")\n",
    "plt.legend()\n",
    "plt.ylabel('Percentage of Articles Containing Those Keywords')\n",
    "plt.xlabel('Year of Publication')\n",
    "\n",
    "x_val = []\n",
    "y_val = []\n",
    "\n",
    "key = \"Varroa Jacobsoni\"\n",
    "current = keyword_year_num[key]\n",
    "title = key\n",
    "test = sorted(current)\n",
    "for key in test:\n",
    "    x_val.append(key)\n",
    "    y_val.append(float(current[key])/float(year_num[key]))\n",
    "line2, = plt.plot(x_val,y_val)\n",
    "line2.set_label(\"Varroa jacobsoni\")\n",
    "plt.legend()\n",
    "plt.savefig(\"VarroaDestructorvsjacobsoni.eps\",dpi=1200)\n",
    "plt.close()"
   ]
  },
  {
   "cell_type": "code",
   "execution_count": 44,
   "metadata": {},
   "outputs": [
    {
     "name": "stdout",
     "output_type": "stream",
     "text": [
      "{'Catecholamines in bees': 1, 'Dopamine dopa and norepinephrine in bees': 1, 'Bees and biogenic amines': 1}\n",
      "{'Fenitrothion': 1, 'Flower development': 1, 'Diterpenoic acid': 1, 'Tergal gland secretions': 1, 'Alkali bees': 1, 'Hippocampus': 1, 'Flavonoid compounds': 1, 'Equatorial region': 1, 'Skatole': 1, 'Activity level': 1, 'Colour constancy': 1, 'Accessory pulsatile organs': 1, 'Cobalt hexamine chloride': 1, 'Code of ethics': 1, 'Direct and indirect mutagens': 1, 'Alternate patterns': 1, 'Apis millifera': 1, 'Centromere index': 1, 'Impatiens': 1, 'Nectar production rate': 1, 'Central Anatolian ecotypes (A. m. Anatoliaca)': 1, 'Gammarus': 1, 'Temperature variations': 1, 'Method of evaluation': 1, 'Transition/transversion ratio': 1}\n",
      "{'anemotaxis': 1, 'Third optic ganglion (lobula)': 1, 'geranic acid': 2, 'worker bees': 2, 'tarsal glands': 1, 'queen-cups': 1, 'Neuronal elements': 1, 'enzymic oxidation': 2, 'Golgi studies': 1, 'queen bees': 1, 'Solanum': 1, 'radiolabelled sterols': 1, 'Potato': 1, 'Methomyl': 1, 'footprint pheromone': 1, 'construction': 1, 'nerobic acid': 1, 'sterol metabolism': 1, 'Feeding systems': 1, '(EE)-farnesol': 1, '(Z)-citral': 1, 'Cornea': 1, 'Second optic ganglion (medulla)': 1, 'foot-print pheromone': 1, 'defined diet': 1}\n",
      "{'Blatta orientalis': 1, 'bee rickettsiosis transmission of': 1, 'Galleria mellonella': 17, 'insect fat tissue insect ovarian tissue': 1, 'Juvenile Hormone 3': 1}\n",
      "{'alkyl amine': 1, 'Ecballium elaterium': 1, 'behavioral responses': 1, 'interspecifically mixed colonies': 1, 'thermal balance': 1, 'entrainment by feeding cycles': 1, 'glial cell degeneration': 1, 'pheromone perception': 1, 'alkanes': 1, 'Mimicrysolitary bees': 1, 'cannibalism': 1, 'sting gland': 1, 'queen acceptance': 1, 'social group': 1, 'insect mating behaviour': 1, 'anticipation of feeding time': 1, 'cytopathology': 1, 'pheromone production': 1, 'Juvenile Hormone III': 1, 'peritrophic membrane': 1, 'histopathology': 1, 'azasteroids': 1, 'ectotherms': 1, 'ventilation': 1, 'Mast cell degranulating peptide': 1}\n",
      "{'mature spores': 1, 'Band 3': 1, 'individual constancy foraging': 1, 'immature queen': 1, 'histochemistry': 1, 'Silene dioica': 1, 'zymogen granules': 1, 'hemoproteins': 1, 'erythrocyte': 1, 'endoplasmic reticulum': 1, 'transient dichroism': 1, 'midgut infection': 1, 'dioecy': 1, 'Sex linkage': 1, 'minimal uncertainty foraging': 1, 'bee retina': 1, 'Haplo-diploidy': 1, 'alimentary canal': 1, 'E\\xe2\\x80\\x90field': 1, '5\\xe2\\x80\\x90HT': 1, 'optimal diet foraging': 1, 'rotational diffusion': 1, 'extracellular volume': 1, 'epithelial cell lysis': 1, 'calcium': 1}\n",
      "{'Serot\\xc3\\xb4nin': 1, 'Dorsal unpaired median (DUM) neurones': 1, 'isolation by distance': 1, 'motion parallax': 1, 'biosynthetic precursors': 1, 'Dufour\\xe2\\x80\\x99s gland': 1, 'arousal': 1, 'Ribosomal RNA genes': 1, 'Template': 1, '5-bromo-2\\xe2\\x80\\xb2-deoxyuridine': 1, 'spores': 1, 'Ovary differentiation': 1, 'dynamic population': 1, 'mycoflora': 1, 'Nectar content': 1, 'transverse cytoskeletal network': 1, 'Phospholipid bioconversion': 1, 'Morocco': 1, 'imaginal development': 1, 'discrimination conditioning': 1, 'Alanine': 1, 'positioning': 1, 'P05': 1, 'PAGE': 1, 'transgenic oilseed rape (Brassica napus)': 1}\n",
      "{'amino acid': 3, 'Experimental degeneration': 1, 'energy': 2, 'ecdysis': 1, 'malate dehydrogenase': 3, 'drones': 3, '\\xce\\xb1-glycerophosphate dehydrogenase': 1, 'Sensory antennal fibres': 1, 'electrophoresis': 3, 'proline': 1, 'esterase': 2, 'flight': 3, 'Light microscopy': 5, 'lactate dehydrogenase': 2, 'polyacrylamide gel': 1, 'Deuterocerebrum': 1, 'moulting fluid': 1, 'enzymes': 1, 'age': 7, '\\xce\\xb2-alanine': 1, 'muscle': 1, 'Apis mellifera L': 17}\n",
      "{'Nutritional crossbreed': 1, 'Chemical taxonomy': 1, 'Thymus loscosii': 1, 'Plastic foundation': 1, 'Phenological complementarity': 1, 'Reserve capacity': 1, 'Cane fruit': 1, 'Distributed decision making': 1, 'Capability gene': 1, 'Proteome analysis': 1, '(Z)-ocimenone': 1, 'Apiculture industry': 1, 'Host-finding': 1, 'Risk-assessment': 1, 'Patagona gigas': 1, 'Main components technique': 1, 'Hydrolysis': 1, 'Queen fight': 1, 'Egg-eating': 1, 'Intraspecific variation': 1, 'Egg marking': 1, 'Trichoplusia': 1, 'The alfalfa weevil': 1, 'Catechin': 1, 'New South Wales': 1}\n",
      "{'Juvenile Hormones': 1, 'Retina-lamina projection': 2, 'Insects': 63, 'Quantitative Determination': 1, 'Insect visual system': 4}\n",
      "{'Alternating stripe intensities': 1, 'Vision Chromatic contrast': 1, 'attractants': 1, 'Dansyl labeling': 1, 'SCH-23390': 1, 'Colletes': 1, 'RH795': 1, 'Vibration sense': 1, 'Biovac\\xc2\\xae': 1, 'Comb production': 1, 'Stress-induced analgesia': 1, 'Sporicidal activity': 1, 'populations': 1, 'Density-dependent growth': 1, 'Cell differentiation': 1, 'Plant Source': 1, 'Entomophilous plants': 1, 'Endangered plant species': 1, 'Banksia brownii': 1, 'ol factory bioassay': 1, 'Nasanov gland secretion': 1, 'Subjective evaluation': 1, 'Gravireception': 1, 'Gliocladium roseum': 1, 'Mold': 1}\n",
      "{'Drug treatment': 1, 'fish': 1, 'Regulation mechanisms': 1, 'Diet supplements': 1, 'SNP array': 1, 'Amino acid substitution': 1, 'Major Royal Jelly Proteins': 1, 'Drug release': 1, 'worker brood': 1, 'bacterial interference': 1, 'Chemosensory perception': 1, 'Logit': 1, 'Imidazole-osmium': 1, 'Vectors': 1, 'Atmospheric pollutant': 1, 'MRL': 1, 'adult bee mass': 1, 'proteogenomics': 1, 'evolutionary lineages': 1, 'Agri-environment scheme (AES)': 1, 'Pro-inflammatory cytokines': 1, 'larvae development': 1, 'MaxEnt': 1, 'genetic standard': 1, 'Pristine\\xc2\\xae': 1}\n",
      "{'Apis mellifera adanansonii': 1, 'Acacia hybrid': 1, 'Pyrus communis': 1, 'Conspecific neighbours': 1, 'Potato protease inhibitors': 1, 'Confidence levels': 1, 'Hind leg': 1, 'Diterpenes': 1, 'Paleontology': 1, 'Neuroblasts': 1, 'Hydroxy acids': 1, 'Papua New Guinea': 1, 'Baris coerulescens': 1, 'Fire ecology': 1, 'Thiol proteases': 1, 'Nuclear transplantation': 1, 'Self organization': 1, '\\xce\\xb1-helix': 1, 'Artificial pollination': 1, 'Geometric distribution': 1, 'Basitarsus': 1, 'Arylphorin': 1, 'Muscarinic antagonists': 1, 'Concordance correlation': 1, 'Caste ontogeny': 1}\n",
      "{'(E)-10-hydroxy-decen-2-oic acid': 1, 'Centaurea jacea': 1, 'Insegar 25 wg': 1, 'Eulophidae': 1, 'Cytochemical': 1, 'Invasive weeds': 1, 'Resources': 1, 'Hierarchic Cluster Analysis': 1, 'Mitotic index': 1, 'Elemental processing': 1, 'Responsiveness to sucrose': 1, 'Wing kinematics': 1, 'Simazine': 1, '7-oxooctanoic acid': 1, 'Adult worker': 1, 'Social encapsulation': 1, 'Power output': 1, 'Weed management': 1, 'Preimaginal weight loss': 1, 'Oxygenated acids': 1, 'Schoolfield et al. model': 1, 'Tumor invasion': 1, 'Odor concentrations': 1, 'Cream': 1, 'Transition area': 1}\n",
      "{'Colony failure': 1, 'Information acquisition': 1, 'circular dichroism': 1, 'freezing and thawing effect': 1, 'Mutagenicity': 1, 'yolk lipid': 1, 'Caffeic acid esters': 1, 'Ornithine decarboxylase': 1, 'Restriction mapping': 1, 'degeneration': 1, 'resorption': 1, 'Eye compound': 1, 'Deformed': 1, 'male-haploid system': 1, 'Cuticle dissolution': 1, 'Scent-mark': 1, 'Genetic change': 1, 'Homeotic genes': 1, 'fatty acid ethyl ester': 1, 'Echium plantagineum': 1, 'Antigen/allergen': 1, 'retinue': 1, 'Protein tyrosine kinase': 1, 'host finding': 1, 'Synthetic gene': 1}\n",
      "{'Philosamia cynthia (C. Silkmoth)': 1, 'cycles': 1, 'Schistocerca gregaria (locust)': 1, 'worker': 6, 'temperature regulation': 1, 'Philanthus triangulum (beewolf)': 1, 'animal heat production': 1, 'conductance': 1, 'insect-metabolism': 1, 'Proteins': 15, 'cold': 1, 'miniature (E- and I-) potentials': 1, 'neuromuscular transmission in insects': 1, 'oxygen consumption': 1}\n",
      "{'Host switch': 1, 'Clusia hilariana': 1, 'Kin conflict': 1, 'Mummified': 1, 'Grifolin': 1, '5.8S': 1, 'Amine receptors': 1, 'Apple pollination': 1, 'Strips': 1, 'Reporter assay': 1, 'Dendritic spines': 1, 'Myelin protein evolution': 1, 'Formic acid fumigator': 1, '\\xce\\xb1-amylase': 1, 'Petunia xhybrida': 1, 'Floral resource subsidies': 1, 'Differentiation human leukemia HL-60 cells': 1, 'Liotrigona': 1, 'cDNA microarrays': 1, 'Electrospray ionization': 1, 'Virgin queen pheromones': 1, 'Rifampicin-resistant mutant': 1, 'Rhabdomyolysis': 1, 'Trans-muurola-4(14)': 1, 'Natural infestation': 1}\n"
     ]
    },
    {
     "name": "stdout",
     "output_type": "stream",
     "text": [
      "{'Zymogen': 1, 'Drylands': 1, 'DRR': 1, '10-hydroxy-2-decenoic acid (10H2DA)': 1, 'Highly eusocial bees': 1, 'Phase-space': 1, 'Croton urucurana': 1, 'Ocimum sellowii': 1, 'Monoesters': 1, 'DNA-PKcs': 1, 'Polytrophic meroistic ovary': 1, 'Supercedure': 1, 'Multi agent simulation': 1, 'Protein pattern': 1, 'Median lethal time (LT50)': 1, 'Retinula cell axons': 1, 'Catalytic domain': 1, 'Nerves': 1, 'CSPA': 1, 'Server allocation': 1, 'Bee movements': 1, 'Sperm-limitation hypothesis': 1, 'Bee cliffs': 1, 'Fungal control': 1, 'Egg provisioning': 1}\n",
      "{'bee ball': 1, 'Chronobiology': 1, 'Abdominal ganglia': 1, 'Erythromycin enol ether': 1, 'Methodology': 1, 'Genbank': 1, 'Colonial signature': 1, 'bromelain': 1, 'Age cohorts': 1, 'Bee Keeping': 1, 'brain proteome': 1, 'sucrase': 1, 'Single Nucleotide Polymorphism': 1, 'Galleria Mellonella': 1, 'Pymetrozine': 1, 'pollinator services': 1, 'Continuous reinforcement schedule': 1, 'Pollinaria': 1, 'Nesting cliffs': 1, 'Medicinal': 1, 'Near infrared': 1, 'Chelifer': 1, 'abnormal cristae': 1, 'Foraging trade-off': 1, '\\xce\\xb2 subunit': 1}\n",
      "{'Cuticular envelope': 1, 'Multistability': 1, 'Melon hybrids': 1, 'Risk management': 1, 'Fall and spring': 1, 'Microbiological safety': 1, 'Interspecific flower density': 1, 'Targeted drug delivery': 1, 'Turf grass': 1, 'Centaurea dealbata': 1, 'Gut contractions': 1, 'Rover-sitter polymorphism': 1, 'Response': 1, 'Infrared spectroscopy': 1, 'worker quality': 1, 'Testosterone': 1, 'Formononetin': 1, 'Leptotrombidium pallidum': 1, 'Hedera helix': 1, 'SPE': 1, 'Spherical treadmill': 1, 'Coral Bleaching': 1, 'Large cardamom and Pollinator': 1, 'Box hive': 1, 'Grammia': 1}\n",
      "{'Bavaria': 1, 'Neural modulation': 1, 'Trapping': 1, 'Glial cell': 1, 'Lobula neurons': 1, 'olfactory behavior': 1, 'corpora allata': 1, 'rhabdom': 1, 'Instantaneous oxygen consumption': 1, 'diploid drones': 1, 'Subfamily differences': 1, 'Achromobacter eurydice': 1, 'Intercellular space': 1, 'glial cells': 1, 'Animal model Tolerance Mouse': 1, 'muskmelon': 1, 'maternal gene flow': 1, 'BglII': 1, 'screening pigments': 1, 'A25822B': 1, 'Directional selectivity': 1, 'sex\\xe2\\x80\\x90determining locus': 1, 'invertebrates': 1, 'colour preferences': 1, 'olfactometer': 1}\n",
      "{'Homologous recombination': 1, 'Autumnal flowering': 1, 'Precision Agriculture': 1, 'Protein hydrolysate.': 1, 'DNA methylome': 1, 'Parameter identification': 1, 'Mutational bias': 1, 'Sinorhizobium meliloti': 1, 'Temporal activity': 1, 'Odour segregation': 1, '20E': 1, 'degree of degeneration': 1, 'reticulocalbin': 1, 'Predictive marker': 1, 'transmission mode': 1, 'Water distribution network (WDN)': 1, 'night-sheltering': 1, 'Secondary swarms': 1, 'sTRAIL': 1, 'Pollinator density': 1, 'Apiarian product': 1, 'competitive foraging pressure': 1, 'Clean tag': 1, 'Laboratory methods': 1, 'wind': 1}\n",
      "{'sting alarm pheromone': 1, 'pheromonal gland': 1, 'frass': 3, 'acetate': 1, 'Spiroplasma apis': 3, 'Abeille': 1, 'field sites': 1, 'starch gel electrophoresis': 1, 'intracellular crystal': 1, 'Gram-positive cocci': 1, 'Hygroreception': 1, 'alcohol': 1, 'setaceous membrane': 1, 'Environmental Research': 1, 'Mal de mai': 1, 'pycnosis': 1, 'Thermoreception': 2, 'degenerating cell': 1, 'Insect neuroanatomy': 2, 'Glyoxylic acid': 1, 'esterases': 1, 'Sensillum': 1, 'Radioenzymatic assay': 1, 'corpora allata in vitro': 1, 'epithelial gland': 1}\n",
      "{'Heartbeats': 1, 'Lupeol Alkanoates': 1, 'BAC': 1, 'Bacterial persistence': 1, 'GnRH': 1, 'Exotic plants and flower visitors': 1, 'Hatching': 1, \"Wegener's granulomatosis\": 1, 'Turn back and look (TBL)': 1, 'Mortality evaluation': 1, 'Environmental weeds': 1, 'Explosiv e detection': 1, 'STC': 1, 'PnPV': 1, 'Bee traps': 1, 'Movement': 1, 'Extraction methods': 1, 'Body movements': 1, 'Southern South America': 1, 'Genetic crosses': 1, 'Acarinaria': 1, 'Antennal lobe neurons': 1, 'Vitellarium': 1, 'Basket hives': 1, 'Olfactory receptor neurones': 1}\n",
      "{'Veterinary medicine': 1, 'Macadamia tetraphylla L. A. S. Johnson': 1, 'Flower biology': 1, 'Digestive tract': 1, 'Colour-blindness': 1, 'ceramide': 1, 'cantaloupe': 1, 'tolerance index': 1, 'Impatiens capensis': 1, 'Water-collection': 1, 'Verhulst-Pearl model': 1, 'Palms': 1, 'attractivity': 1, 'protein metabolism': 1, 'Topical application': 1, 'anandamide': 1, 'drone spermatozoa': 1, 'Range expansion': 1, 'Artificial flower patches': 1, 'DNA-protein complexes': 1, 'FACS': 1, 'self pollination': 1, 'Bifunctional protein': 1, 'Birth-death process': 1, 'Energy Maximization': 1}\n",
      "{'Robinia pseudo-acacia nectar': 2, 'insect reproduction': 1, 'saccharides': 1, 'spermatheca': 5, 'cellulose acetate': 1, 'sperm survival': 1, 'amylase': 3, 'Apis mellifera food glands': 2, 'protein': 13, 'ionic concentration': 1}\n",
      "{'Insect brain': 18, 'polymorphism': 6, 'Ocellar system': 1, 'bees isozymes': 1, 'Cobalt stain': 1, 'Royal jelly': 114, 'Endocrinology': 3, 'Hypoglycemia': 1, 'Apis mellifera Juvenile hormone esterase caste differentiation development': 1, 'alcohol dehydrogenase': 1, 'Insulin': 5, 'Caste Determination': 1, 'Juvenile Hormone': 1}\n",
      "{'Cleaning rate': 1, 'sucrose-response threshold': 1, 'Vertebrate': 1, 'Behavioral strategy': 1, 'Short-sighted selection': 1, 'Genome project': 1, 'Tropical monsoon forest': 1, 'Introduced crop pollinators': 1, 'Ctenioschelus': 1, 'Lag': 1, 'Savannah area': 1, 'Martinique': 1, 'Metarhizium': 1, 'Interference competition': 1, 'MLA': 1, 'National security': 1, 'Design-operation': 1, 'Radial distribution function': 1, 'Chestnut tree': 1, 'Muscarinic receptor': 1, 'Associated risk': 1, \"Pharaoh's ant\": 1, 'Sucrose-response thresholds': 1, 'Cotesia glomerata': 1, 'Ectrichodiinae': 1}\n",
      "{'Ultraviolet receptors': 1, 'Worker bee Apis mellifera': 1, 'aggressiveness': 1, 'chondroitin sulfate': 1, 'Microsomal enzyme inhibitor': 1, 'Visual cells Apis mellifera': 1, 'Twisting of rhabdom': 1, 'neurotransmitter': 2, 'mutants': 1, 'strain differences': 1, 'haploidy': 1, 'testes': 1, 'tryptamine': 1, 'backcross': 1, 'hyaluronic acid': 1, 'norepinephrine': 1, 'segregation': 1, 'Structural specialization': 1, '5-hydroxytryptamine': 1, 'Polarized light detection': 1, 'Second order neurons': 1, 'Dorsal retina': 1, 'acetyl transferase': 1, 'Fused rhabdom': 1, 'tryptophan \\xe2\\x86\\x92 ommochrome pathway': 1}\n",
      "{'Neurofibril': 1, 'Survivability': 1, 'Colletotrichum gloeosporioides': 1, 'Homoenolate anion': 1, 'Distance measurement': 1, 'Dominant': 1, 'SPV': 1, 'Radiolabel': 1, 'Risk elements': 1, 'Radar tracing': 1, 'Cms line': 1, 'Mdbk cells': 1, 'vitality': 1, 'Field cages': 1, 'ETH receptor': 1, 'Tilia cordata': 1, 'Bcl-2': 1, 'endangered plant species': 1, 'Shield': 1, 'Antigen retrieval': 1, 'Hive entrance learning': 1, 'Snake-gourd': 1, 'Extreme vertices design': 1, 'Gap genes': 1, 'Amlac2': 1}\n",
      "{'Hygroreceptor': 1, 'morphogenesis': 1, 'multicomponent pheromone': 1, 'depolarization': 1, 'Isoelectric focusing': 1, 'affinity chromatography': 1, 'flight control': 1, 'chirality': 1, 'tree biology': 1, 'Host protein utilization': 1, 'synaptosomes': 1, '[3H]GABA release': 1, '9-hydroxy-(E)-2-decenoic acid': 1, 'Jamaica': 1, 'DNP': 1, 'Cruciferae': 1, 'electret': 1, 'chemosensillae': 1, 'Coelocapitular sensillum': 1, 'electro-antennography': 1, '(E)-10-hydroxy-2-decenoic acid': 1, 'optomotor response': 1, 'queen substance': 1, '45CaCl2 fluxes': 1, 'epoxides': 1}\n",
      "{'agroecological zones': 1, 'postcapping duration': 1, 'mite removal': 1, 'Small-angle neutron scattering': 1, 'Urban landscapes': 1, 'Forewings': 1, 'Quality traits': 1, 'ERIC I-IV': 1, 'Three tier evaluation': 1, 'SER': 1, 'Gene duplications': 1, 'Microsporidiosis': 1, 'Parental effects': 1, 'lincRNAs': 1, 'Commercial bumble bees': 1, 'Total RNA': 1, 'Thioredoxin peroxidasem': 1, 'A. Cerana indica': 1, 'Compositional analysis': 1, 'Closed loop': 1, 'Herbal drugs': 1, 'SweepAir\\xc2\\xae kit': 1, 'Apis mellifera intermissa queen': 1, 'SPME-GC-MS': 1, 'Insect drug': 1}\n",
      "{'Durio zibethinus': 1, 'classification': 1, 'Linamarin': 1, 'precocious foraging': 1, 'essential oils mixture': 1, 'Counting mechanisms': 1, 'Dihydroactinidiolide': 1, 'Morphology of apoptosis': 1, 'Health belief model': 1, 'range size': 1, 'Pollinator-species richness': 1, 'Microbiocenosis': 1, 'Personal care products': 1, 'Poricidal anthers': 1, 'Pericum\\xc3\\xa3': 1, 'sublethal pesticide concentrations': 1, 'Colony population model': 1, 'gonad development': 1, 'Multiresidual analysis': 1, 'Sugar beet': 1, 'Neutrophils': 1, 'Brassica Napus': 1, 'Binary mixture': 1, 'distyly': 1, 'Diabetes mellitus': 1}\n"
     ]
    },
    {
     "name": "stdout",
     "output_type": "stream",
     "text": [
      "{'Cinnamic acid derivative': 1, 'Royal Jelly proteins': 1, 'Environmental cue': 1, 'Displacement': 1, 'Neural correlate of learning': 1, 'Xylocopa splendidula': 1, 'Olfactory pathway': 1, 'Pollinator foraging activity': 1, 'Streptococci': 1, 'Accessory tubules': 1, 'Spatial heterogeneity': 1, 'Formamidine': 1, 'Sucrose reward': 1, 'Charge screening': 1, 'Canola oil': 1, 'Phenolamine': 1, 'Durio': 1, 'Hopliini': 1, 'Nemorosone II': 1, 'B. capsicum n. sp': 1, 'APV': 1, 'Chemical evaluation': 1, 'Conspecific recognition': 1, 'Anticoagulant activity': 1, 'SYBR-14': 1}\n",
      "{'sensilla basiconica': 1, 'Procion Yellow': 1, 'Ocelli': 5, 'First and second': 1, 'Lamina ganglionaris': 1, 'taste receptors': 1, 'Optic cartridge': 1, 'Central projections': 1, 'order neurons': 1, 'Scanning electron microscopy': 10, 'sensilla chaetica': 2, 'transmission electron microscopy': 1}\n",
      "{'Kiwi fruit': 1, 'foraging patterns': 1, 'Panama': 1, 'Apiomerus': 1, '\\xce\\xb3\\xe2\\x80\\x90aminobutyric acid': 1, 'Apis meWfera': 1, 'Juvenile hormone (III)': 1, 'Liliaceae': 1, 'relatedness': 1, 'flower distribution': 1, '1st and 2nd rami': 1, 'Diptera Formicidae': 1, 'RIA': 1, 'function': 1, 'Argiope': 1, 'in vitro fluorescent antibody': 1, 'lancet valves': 1, 'dorsal closure': 1, 'sperm competition': 1, 'Urginea maritima': 1, 'Anther dehiscence': 1, 'Allozyme variation': 1, 'omnivorous': 1, 'particle filtering': 1, 'germ band': 1}\n",
      "{'intercellular junction': 1, 'Nothofagus': 1, 'cell adhesion molecules': 1, 'Loranthaceae': 1, 'Electromyograms': 1, 'ribosomes': 1, 'homeobox sequence': 1, 'Pheromone Ontogeny': 1, 'evolutionary conservation': 1, 'Anoura geoffroyi': 1, 'Corrosion casts': 1, 'Melastomataceae': 1, 'tristyly': 1, 'adult drone': 1, 'CART': 1, 'Diglossa duidae': 1, 'artificial flower': 1, 'impedance': 1, 'induced currents': 1, 'recruitment communication': 1, 'waggle dances': 1, 'Spectral sensitivities': 1, 'cytology': 1, 'nucleocapsid': 1, 'deutocerebral neurones': 1}\n",
      "{'cold tolerance': 1, 'sensory processing': 1, 'central complex': 1, 'Flight directionality': 1, 'Phospholipid vesicle': 1, 'cost': 1, 'acetyl lactate diastereoisomers': 1, 'heat conductance': 1, 'rule\\xe2\\x80\\x90of\\xe2\\x80\\x90thumb': 1, 'cisternae subrhabdomeric': 1, 'Aoney bee embryogenesis': 1, 'Cucujidae': 1, 'Mitotic waves': 1, 'comb volatiles': 1, 'choice': 1, 'Interneurones': 1, 'Cryptolestes Ferrugineus': 1, 'staining techniques': 1, 'intake': 1, 'protozean cysts': 1, 'moulting hormone': 1, 'alarm': 1, 'in vitro protein synthesis': 1, 'organ culture medium': 1, 'Tarsal glands': 1}\n",
      "{'Cap analysis gene expression': 1, 'Legislation': 1, 'Larval gut': 1, 'Oxidative stress response': 1, 'seed germination': 1, 'Bee colony temperature and weight dynamics': 1, 'public information': 1, 'Linguistic disabilities': 1, 'Persisters': 1, 'phototoxicity': 1, 'occluded corolla': 1, 'Fuzzy logic': 1, 'Apis mellifera Ligustica': 1, 'nurse behaviour': 1, 'crop yield benefit': 1, 'Super-cooling point (SCP)': 1, 'Crop diversification': 1, 'UV': 1, 'Land use management': 1, 'genotoxicity': 1, 'Agricultural pollination': 1, 'ultra-low volume sprayer': 1, 'Kr\\xc3\\xaf\\xc2\\xbf\\xc2\\xbdppel homolog 1': 1, 'Homing ability': 1, 'Diagnostic ratios': 1}\n",
      "{'Go-betweens in ecosystems': 1, 'Adult bee': 1, 'Information pooling': 1, 'Systemic lupus Erythematosus': 1, 'Color contrast': 1, 'Nursing workers': 1, 'Fixative compounds': 1, 'Protandrous': 1, 'Veterinary drug residues': 1, '2-DLC': 1, 'specialist': 1, 'Pollination and Macrodactylus suturalis': 1, 'Nested subsets': 1, 'Hexachlorocyclohexane': 1, 'Preferred food': 1, 'Undertakers': 1, 'Bertiera zaluzania': 1, 'Non-native species': 1, 'Octanoic acid': 1, 'Amigilla sp.': 1, 'Kousa dogwood': 1, 'Gas chromatography-electroantennographic detection': 1, 'O evolutionary lineage': 1, 'Foraging onset': 1, 'Yate\\xc3\\xad': 1}\n",
      "{'Eucalyptus sp.': 1, 'Protective reactions': 1, 'Phenol oxidase': 1, 'PROCHECK': 1, 'social stimulation': 1, 'Native wild pollinators': 1, 'Field monitoring': 1, 'Liquid crystal projector': 1, 'ISWI': 1, 'Genetic response': 1, 'Organic acid glycoside': 1, 'Blue vane trap': 1, 'Internal lesions': 1, 'Phase-shift': 1, 'Nursing load': 1, 'modulatory communication': 1, 'Bee colonies': 1, 'Task plasticity': 1, 'Snapshot': 1, 'Thomsen-Friedenreich antigen (Gal\\xce\\xb21-3GalNAc)': 1, 'Swiss-PdbViewer': 1, 'Homogenization': 1, 'Agapostemon': 1, 'Isoelectric focussing': 1, 'Environmental cues': 1}\n",
      "{'Subsite affinity': 1, 'Carnolian bee': 1, 'Organophosphorus pesticides': 1, 'Thermography Profitability': 1, 'Chloronicotinyl': 1, 'Plums': 1, 'Disulfide bonds': 1, 'Eicosanoids': 1, 'Juvenile hormone analogue': 1, 'Fatty acid amide hydrolase': 1, 'Fungus infestation': 1, 'Biometrical': 1, 'Bor\\xc3\\xa7ka-Camili': 1, 'Crotalus adamanteus': 1, 'Impact studies': 1, 'Hive odors': 1, 'Spine density': 1, 'Eucalyptus oil': 1, 'Similarity': 1, 'Ommatidia': 1, 'Serine proteases': 1, 'Germ-line transformation': 1, 'Rare species': 1, 'Marker': 1, 'Associative learning Division of labor': 1}\n",
      "{'insect cholinesterase': 1, 'Hexagema bilineata': 1, 'isozymes': 3, 'acetylcholinesterase': 2, 'Apis mellifera': 3380, 'molecular properties of cholinesterase': 1, 'aggregation of cholinesterase': 1, 'cholinesterase': 1}\n",
      "{'bicoid orthologous homeobox fragments': 1, 'Botanical Origin': 1, 'light\\xe2\\x80\\x93dark cycles': 1, 'semen storage': 1, 'NaK-ATPase': 1, 'greenhouse': 1, 'DraI': 1, 'Pepper': 1, 'genotypic diversity': 1, 'Spiroplasma taiwanense': 1, 'colony demographics': 1, 'male\\xe2\\x80\\x90sterility': 1, 'Germ-line cells': 1, 'routine metabolic cost': 1, 'temperature cycles.': 1, 'levels': 1, 'floret inspection': 1, 'floral characteristics': 1, 'allelochemicals': 1, 'black globe temperature': 1, 'remote sensing': 1, 'glutathione S\\xe2\\x80\\x90transferase': 1, 'Corpora allata activity': 1, 'Multipeptide': 1, 'nectaries': 1}\n"
     ]
    },
    {
     "ename": "ValueError",
     "evalue": "invalid literal for int() with base 10: '%!PS-Adobe-3.0 EPSF-3.0\\n'",
     "output_type": "error",
     "traceback": [
      "\u001b[0;31m---------------------------------------------------------------------------\u001b[0m",
      "\u001b[0;31mValueError\u001b[0m                                Traceback (most recent call last)",
      "\u001b[0;32m<ipython-input-44-ee7fc568724f>\u001b[0m in \u001b[0;36m<module>\u001b[0;34m()\u001b[0m\n\u001b[1;32m     19\u001b[0m         \u001b[0;32melse\u001b[0m\u001b[0;34m:\u001b[0m\u001b[0;34m\u001b[0m\u001b[0m\n\u001b[1;32m     20\u001b[0m             \u001b[0mtemp\u001b[0m \u001b[0;34m=\u001b[0m \u001b[0mline\u001b[0m\u001b[0;34m.\u001b[0m\u001b[0msplit\u001b[0m\u001b[0;34m(\u001b[0m\u001b[0;34m\",\"\u001b[0m\u001b[0;34m)\u001b[0m\u001b[0;34m[\u001b[0m\u001b[0;36m0\u001b[0m\u001b[0;34m]\u001b[0m\u001b[0;34m\u001b[0m\u001b[0m\n\u001b[0;32m---> 21\u001b[0;31m         \u001b[0mdiction\u001b[0m\u001b[0;34m[\u001b[0m\u001b[0mtemp\u001b[0m\u001b[0;34m]\u001b[0m \u001b[0;34m=\u001b[0m \u001b[0mint\u001b[0m\u001b[0;34m(\u001b[0m\u001b[0mline\u001b[0m\u001b[0;34m.\u001b[0m\u001b[0msplit\u001b[0m\u001b[0;34m(\u001b[0m\u001b[0;34m\",\"\u001b[0m\u001b[0;34m)\u001b[0m\u001b[0;34m[\u001b[0m\u001b[0;34m-\u001b[0m\u001b[0;36m1\u001b[0m\u001b[0;34m]\u001b[0m\u001b[0;34m)\u001b[0m\u001b[0;34m\u001b[0m\u001b[0m\n\u001b[0m\u001b[1;32m     22\u001b[0m \u001b[0;31m#     diction = {'Foraging': 185, 'Royal jelly': 114, 'Pollination': 393, 'Apis': 133, 'Hymenoptera': 177, 'Apis mellifera': 480, 'Insect': 119, 'Bees': 140, 'Apidae': 117, 'Apis cerana': 162}\u001b[0m\u001b[0;34m\u001b[0m\u001b[0;34m\u001b[0m\u001b[0m\n\u001b[1;32m     23\u001b[0m     \u001b[0mwordcloud\u001b[0m \u001b[0;34m=\u001b[0m \u001b[0mWordCloud\u001b[0m\u001b[0;34m(\u001b[0m\u001b[0mwidth\u001b[0m\u001b[0;34m=\u001b[0m\u001b[0;36m900\u001b[0m\u001b[0;34m,\u001b[0m\u001b[0mheight\u001b[0m\u001b[0;34m=\u001b[0m\u001b[0;36m500\u001b[0m\u001b[0;34m,\u001b[0m \u001b[0mmax_words\u001b[0m\u001b[0;34m=\u001b[0m\u001b[0;36m21\u001b[0m\u001b[0;34m,\u001b[0m\u001b[0mrelative_scaling\u001b[0m\u001b[0;34m=\u001b[0m\u001b[0;36m1\u001b[0m\u001b[0;34m,\u001b[0m\u001b[0mnormalize_plurals\u001b[0m\u001b[0;34m=\u001b[0m\u001b[0mFalse\u001b[0m\u001b[0;34m,\u001b[0m\u001b[0mbackground_color\u001b[0m\u001b[0;34m=\u001b[0m\u001b[0;34m'White'\u001b[0m\u001b[0;34m)\u001b[0m\u001b[0;34m.\u001b[0m\u001b[0mgenerate_from_frequencies\u001b[0m\u001b[0;34m(\u001b[0m\u001b[0mdiction\u001b[0m\u001b[0;34m)\u001b[0m\u001b[0;34m\u001b[0m\u001b[0m\n",
      "\u001b[0;31mValueError\u001b[0m: invalid literal for int() with base 10: '%!PS-Adobe-3.0 EPSF-3.0\\n'"
     ]
    }
   ],
   "source": [
    "from os import path\n",
    "from wordcloud import WordCloud\n",
    "import matplotlib.pyplot as plt\n",
    "import random\n",
    "\n",
    "def grey_color_func(word, font_size, position, orientation, random_state=None,**kwargs):\n",
    "    return \"hsl(0, 0%%, %d%%)\" % random.randint(0, 0)\n",
    "\n",
    "for filename in os.listdir('./Latest/'):\n",
    "    if filename[0]>'A':\n",
    "        continue\n",
    "    f = open(\"./Latest/\"+filename,\"r\")\n",
    "    diction = {}\n",
    "    for line in f:\n",
    "        temp = \"\"\n",
    "        if len(line.split(\",\")) > 2:\n",
    "            for word in line.split(\",\")[:-1]:\n",
    "                temp+=word\n",
    "        else:\n",
    "            temp = line.split(\",\")[0]\n",
    "        diction[temp] = int(line.split(\",\")[-1])\n",
    "#     diction = {'Foraging': 185, 'Royal jelly': 114, 'Pollination': 393, 'Apis': 133, 'Hymenoptera': 177, 'Apis mellifera': 480, 'Insect': 119, 'Bees': 140, 'Apidae': 117, 'Apis cerana': 162}\n",
    "    wordcloud = WordCloud(width=900,height=500, max_words=21,relative_scaling=1,normalize_plurals=False,background_color='White').generate_from_frequencies(diction)\n",
    "\n",
    "    print diction\n",
    "    plt.imshow(wordcloud.recolor(color_func=grey_color_func, random_state=3), interpolation='bilinear')\n",
    "    plt.axis(\"off\")\n",
    "    plt.savefig(\"./Latest/\"+filename[:-4]+\"Cloud.eps\",dpi=1200)\n",
    "    plt.close()"
   ]
  },
  {
   "cell_type": "code",
   "execution_count": null,
   "metadata": {},
   "outputs": [],
   "source": []
  }
 ],
 "metadata": {
  "kernelspec": {
   "display_name": "Python 2",
   "language": "python",
   "name": "python2"
  },
  "language_info": {
   "codemirror_mode": {
    "name": "ipython",
    "version": 2
   },
   "file_extension": ".py",
   "mimetype": "text/x-python",
   "name": "python",
   "nbconvert_exporter": "python",
   "pygments_lexer": "ipython2",
   "version": "2.7.15rc1"
  }
 },
 "nbformat": 4,
 "nbformat_minor": 2
}
