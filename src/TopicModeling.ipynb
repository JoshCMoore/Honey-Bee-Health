{
 "cells": [
  {
   "cell_type": "code",
   "execution_count": 128,
   "metadata": {},
   "outputs": [],
   "source": [
    "import string\n",
    "import re\n",
    "import os\n",
    "import tempfile\n",
    "import logging\n",
    "from gensim import corpora\n",
    "from gensim import models\n",
    "from gensim.corpora import Dictionary\n",
    "numberOfTopics = 200"
   ]
  },
  {
   "cell_type": "code",
   "execution_count": 129,
   "metadata": {},
   "outputs": [],
   "source": [
    "table = open(\"../data/paperTable.tsv\",\"r\")\n",
    "entries = []\n",
    "for line in table:\n",
    "    entries.append(line.split('\\t'))\n",
    "table.close()"
   ]
  },
  {
   "cell_type": "code",
   "execution_count": 130,
   "metadata": {},
   "outputs": [],
   "source": [
    "# Read in abstract year of publication, title of abstract, and abstract text\n",
    "abstracts = []\n",
    "titleOfAbstract = []\n",
    "yearOfAbstract = []\n",
    "for articles in entries:\n",
    "    titleOfAbstract.append(articles[0])\n",
    "    abstracts.append(articles[1]+articles[2]+articles[3])\n",
    "    yearOfAbstract.append(articles[4][:-1])"
   ]
  },
  {
   "cell_type": "code",
   "execution_count": 131,
   "metadata": {},
   "outputs": [],
   "source": [
    "# Create a set of frequent words\n",
    "stopFile = open(\"../data/stopwords.txt\",\"r\")\n",
    "stopWords = stopFile.read().splitlines()\n",
    "stopWords.append(\"\\xc2\\xa9\") #This is the copyright symbol, this shows up in every abstract and should not be apart of the corpus\n",
    "stopWords.extend([\"\\u2019\",\"\\u03bc\",\"bee\",\"bees\",\"honey\",\"honeybee\",\"honeybees\"])\n",
    "stopList = set(stopWords)\n",
    "\n",
    "# Lowercase each document, split it by white space and filter out stopWords\n",
    "texts = []\n",
    "for document in abstracts:\n",
    "    docwords = []\n",
    "    for word in document.lower().split():\n",
    "        word = re.sub(r'[^\\w\\s]','',word)\n",
    "        word = re.sub(r'\\.+$','',word)\n",
    "        isNumber = re.compile('^[0-9]+$')\n",
    "        if isNumber.search(word):\n",
    "            word = ''\n",
    "        if word not in stopList and word!='':\n",
    "            docwords.append(word)\n",
    "    texts.append(docwords)\n",
    "\n",
    "# Count word frequencies\n",
    "from collections import defaultdict\n",
    "frequency = defaultdict(int)\n",
    "for text in texts:\n",
    "    for token in text:\n",
    "        frequency[token] += 1\n",
    "        \n",
    "processedCorpus = [[token for token in text if frequency[token] > 5] for text in texts]"
   ]
  },
  {
   "cell_type": "code",
   "execution_count": 132,
   "metadata": {},
   "outputs": [
    {
     "name": "stderr",
     "output_type": "stream",
     "text": [
      "2018-05-23 22:42:29,434 : INFO : adding document #0 to Dictionary(0 unique tokens: [])\n",
      "2018-05-23 22:42:29,706 : INFO : built Dictionary(3860 unique tokens: [u'limited', u'represent', u'believed', u'alleles', u'copy']...) from 1044 documents (total 148749 corpus positions)\n",
      "2018-05-23 22:42:29,709 : INFO : saving Dictionary object under c:\\users\\user\\appdata\\local\\temp\\words.dict, separately None\n",
      "2018-05-23 22:42:29,717 : INFO : saved c:\\users\\user\\appdata\\local\\temp\\words.dict\n"
     ]
    }
   ],
   "source": [
    "# Save the dictionary of tokens\n",
    "tempFolder = tempfile.gettempdir()\n",
    "dictionary = corpora.Dictionary(processedCorpus)\n",
    "dictionary.save(os.path.join(tempFolder,'words.dict'))"
   ]
  },
  {
   "cell_type": "code",
   "execution_count": 133,
   "metadata": {},
   "outputs": [
    {
     "name": "stderr",
     "output_type": "stream",
     "text": [
      "2018-05-23 22:42:30,043 : INFO : storing corpus in Matrix Market format to c:\\users\\user\\appdata\\local\\temp\\words.dict\n",
      "2018-05-23 22:42:30,046 : INFO : saving sparse matrix to c:\\users\\user\\appdata\\local\\temp\\words.dict\n",
      "2018-05-23 22:42:30,048 : INFO : PROGRESS: saving document #0\n",
      "2018-05-23 22:42:30,624 : INFO : PROGRESS: saving document #1000\n",
      "2018-05-23 22:42:30,657 : INFO : saved 1044x3860 matrix, density=2.473% (99651/4029840)\n",
      "2018-05-23 22:42:30,661 : INFO : saving MmCorpus index to c:\\users\\user\\appdata\\local\\temp\\words.dict.index\n"
     ]
    }
   ],
   "source": [
    "# Create general corpus and serialize in order for it to be iterated over\n",
    "corpus = [dictionary.doc2bow(text) for text in processedCorpus]\n",
    "corpora.MmCorpus.serialize(os.path.join(tempFolder, 'words.dict'), corpus)"
   ]
  },
  {
   "cell_type": "markdown",
   "metadata": {},
   "source": [
    "The above corpus shows the amount of times every word used in the documents is used in every indevidual document. Every word is represented by a token ID, the list of which can be found in \"words.dict\""
   ]
  },
  {
   "cell_type": "code",
   "execution_count": null,
   "metadata": {},
   "outputs": [
    {
     "name": "stderr",
     "output_type": "stream",
     "text": [
      "2018-05-23 22:42:33,436 : INFO : using symmetric alpha at 0.005\n",
      "2018-05-23 22:42:33,440 : INFO : using symmetric eta at 0.005\n",
      "2018-05-23 22:42:33,444 : INFO : using serial LDA version on this node\n",
      "2018-05-23 22:42:33,607 : INFO : running online (single-pass) LDA training, 200 topics, 1 passes over the supplied corpus of 1044 documents, updating model once every 1044 documents, evaluating perplexity every 1044 documents, iterating 50x with a convergence threshold of 0.001000\n",
      "2018-05-23 22:42:33,608 : WARNING : too few updates, training might not converge; consider increasing the number of passes or iterations to improve accuracy\n"
     ]
    }
   ],
   "source": [
    "# Train the model and set number of topics\n",
    "logging.basicConfig(format='%(asctime)s : %(levelname)s : %(message)s', level=logging.INFO)\n",
    "lda = models.ldamodel.LdaModel(corpus,id2word=dictionary,num_topics=numberOfTopics)"
   ]
  },
  {
   "cell_type": "code",
   "execution_count": null,
   "metadata": {},
   "outputs": [],
   "source": [
    "# Sort the most interesting words per topic per document\n",
    "# This cell does not need to be run if only trying to create Top Nine terms per paper\n",
    "topicOrganizingFile = open(\"../data/topicorganization.tsv\",\"w\")\n",
    "for x in xrange(0,len(abstracts)):\n",
    "    doc = dictionary.doc2bow(abstracts[x].split())\n",
    "    docTopics, wordTopics, phiValues = lda.get_document_topics(doc, per_word_topics=True)\n",
    "    topicOrganizingFile.write(yearOfAbstract[x]+\"\\t\"+titleOfAbstract[x]+\"\\t\")\n",
    "    for y in xrange(0,min(3,len(docTopics))):\n",
    "        topicnumber = docTopics[y][0]\n",
    "        topicOrganizingFile.write(str(lda.show_topic(topicnumber))+\"\\t\")\n",
    "        #Sorts the word topics in decending order based on their greatest phi value\n",
    "        for z in xrange(0,len(phiValues)):\n",
    "            phiValues[z][1].sort(key=lambda q:q[1],reverse=True)\n",
    "        phiValues.sort(key=lambda q:q[1][0][1],reverse=True)\n",
    "        curindex=0\n",
    "        topwords = \"\"\n",
    "        for z in xrange(0,3):\n",
    "            while curindex<len(phiValues) and phiValues[curindex][1][0][0]!=topicnumber:\n",
    "                curindex+=1\n",
    "            if(curindex>=len(phiValues)):break\n",
    "            print len(phiValues)\n",
    "            print dictionary[phiValues[curindex][0]]\n",
    "            topwords+=str(dictionary[phiValues[curindex][0]].encode('utf-8').strip())+\" \"\n",
    "            curindex+=1\n",
    "        filter(lambda a:a[0]!=topicnumber,phiValues)\n",
    "        topicOrganizingFile.write(topwords+\"\\t\")\n",
    "    topicOrganizingFile.write(\"\\n\")\n",
    "topicOrganizingFile.close()\n",
    "\n",
    "        "
   ]
  },
  {
   "cell_type": "code",
   "execution_count": null,
   "metadata": {},
   "outputs": [],
   "source": [
    "topicWords = []\n",
    "for i in range(0,numberOfTopics):\n",
    "    t = lda.get_topic_terms(i,50)\n",
    "    currentWordList = []\n",
    "    for x in t:\n",
    "        word = str(dictionary[x[0]])\n",
    "        if word not in currentWordList:\n",
    "            currentWordList.append(word)\n",
    "    topicWords.append(currentWordList)\n",
    "topicListFile = open(\"../data/TopicWords/List-\"+str(numberOfTopics)+\".txt\",\"w+\")\n",
    "for i in range(0,len(topicWords)):\n",
    "    topicListFile.write(\"Topic \"+str(i)+\":\\n\")\n",
    "    for j in topicWords[i]:\n",
    "        topicListFile.write(j+'\\n')\n",
    "    topicListFile.write('\\n')\n",
    "topicListFile.close()"
   ]
  },
  {
   "cell_type": "code",
   "execution_count": null,
   "metadata": {},
   "outputs": [],
   "source": [
    "#Makes the top nine terms for each document\n",
    "\n",
    "topNineFile = open(\"../data/Docbow/TopNineTerms-\"+str(numberOfTopics)+\".tsv\",\"w\")\n",
    "for x in xrange(0,len(abstracts)):\n",
    "    doc = dictionary.doc2bow(abstracts[x].split()) # Convert to bag of words format first\n",
    "    # Get the topics and words associated with each document\n",
    "    docTopics, wordTopics, phiValues = lda.get_document_topics(doc, per_word_topics=True)\n",
    "    topNineFile.write(yearOfAbstract[x]+\"\\t\"+titleOfAbstract[x]+\"\\t\")\n",
    "    for z in xrange(0,len(phiValues)):\n",
    "        phiValues[z][1].sort(key=lambda q:q[1],reverse=True)\n",
    "    phiValues.sort(key=lambda q:q[1][0][1],reverse=True)\n",
    "    nineWords = \"\"\n",
    "    for x in phiValues[:15]:\n",
    "        nineWords+= dictionary[x[0]] + \" \"\n",
    "    topNineFile.write(nineWords.encode('utf-8')+\"\\n\")"
   ]
  },
  {
   "cell_type": "code",
   "execution_count": 45,
   "metadata": {},
   "outputs": [
    {
     "name": "stderr",
     "output_type": "stream",
     "text": [
      "2018-05-23 21:50:15,805 : INFO : topic #0 (0.005): 0.013*\"mellifera\" + 0.011*\"colonies\" + 0.010*\"apis\" + 0.010*\"species\" + 0.009*\"population\" + 0.009*\"genetic\" + 0.006*\"varroa\" + 0.006*\"effects\" + 0.006*\"colony\" + 0.005*\"food\" + 0.005*\"recombination\" + 0.005*\"control\" + 0.004*\"nosema\" + 0.004*\"imidacloprid\" + 0.004*\"gene\" + 0.004*\"animals\" + 0.004*\"animal\" + 0.004*\"also\" + 0.004*\"proteins\" + 0.004*\"analysis\"\n",
      "2018-05-23 21:50:15,809 : INFO : topic #1 (0.005): 0.010*\"colony\" + 0.010*\"pollen\" + 0.009*\"effects\" + 0.009*\"colonies\" + 0.008*\"mellifera\" + 0.008*\"exposure\" + 0.007*\"summer\" + 0.007*\"apis\" + 0.006*\"concentration\" + 0.006*\"races\" + 0.006*\"pathogens\" + 0.006*\"spring\" + 0.005*\"toxicity\" + 0.005*\"osmotic\" + 0.005*\"losses\" + 0.005*\"three\" + 0.005*\"environmental\" + 0.005*\"seasons\" + 0.005*\"insecticides\" + 0.004*\"diseases\"\n",
      "2018-05-23 21:50:15,812 : INFO : topic #2 (0.005): 0.014*\"pollen\" + 0.012*\"virus\" + 0.009*\"apis\" + 0.008*\"nosema\" + 0.007*\"exposure\" + 0.007*\"colonies\" + 0.007*\"larvae\" + 0.007*\"colony\" + 0.007*\"effects\" + 0.006*\"study\" + 0.006*\"varroa\" + 0.006*\"infection\" + 0.006*\"dose\" + 0.005*\"pesticide\" + 0.005*\"thiamethoxam\" + 0.005*\"imidacloprid\" + 0.005*\"mellifera\" + 0.005*\"animal\" + 0.004*\"mites\" + 0.004*\"dwv\"\n",
      "2018-05-23 21:50:15,815 : INFO : topic #3 (0.005): 0.013*\"mite\" + 0.011*\"colony\" + 0.007*\"mellifera\" + 0.007*\"animal\" + 0.007*\"apis\" + 0.006*\"losses\" + 0.006*\"varroa\" + 0.006*\"immune\" + 0.006*\"growth\" + 0.005*\"foragers\" + 0.005*\"effects\" + 0.005*\"population\" + 0.005*\"virus\" + 0.005*\"populations\" + 0.005*\"mites\" + 0.005*\"control\" + 0.005*\"adult\" + 0.004*\"pesticide\" + 0.004*\"drug\" + 0.004*\"colonies\"\n",
      "2018-05-23 21:50:15,819 : INFO : topic #4 (0.005): 0.012*\"apis\" + 0.009*\"gene\" + 0.009*\"mellifera\" + 0.008*\"dna\" + 0.007*\"studies\" + 0.006*\"genes\" + 0.006*\"routing\" + 0.006*\"lactobacillus\" + 0.005*\"environmental\" + 0.005*\"rna\" + 0.005*\"diversity\" + 0.005*\"sequence\" + 0.005*\"networks\" + 0.005*\"faustovirus\" + 0.005*\"animal\" + 0.005*\"varroa\" + 0.005*\"virus\" + 0.005*\"phylotypes\" + 0.005*\"study\" + 0.004*\"genetic\"\n",
      "2018-05-23 21:50:15,822 : INFO : topic #5 (0.005): 0.009*\"pollen\" + 0.008*\"food\" + 0.007*\"pesticides\" + 0.007*\"colonies\" + 0.007*\"exposure\" + 0.006*\"neonicotinoid\" + 0.006*\"effects\" + 0.006*\"production\" + 0.006*\"hives\" + 0.006*\"seed\" + 0.005*\"derivative\" + 0.005*\"apis\" + 0.005*\"nectar\" + 0.005*\"mellifera\" + 0.005*\"pesticide\" + 0.005*\"soil\" + 0.005*\"compounds\" + 0.005*\"treated\" + 0.005*\"environmental\" + 0.005*\"pollination\"\n",
      "2018-05-23 21:50:15,825 : INFO : topic #6 (0.005): 0.018*\"colonies\" + 0.014*\"nosema\" + 0.013*\"virus\" + 0.011*\"colony\" + 0.010*\"climate\" + 0.010*\"apis\" + 0.009*\"losses\" + 0.009*\"winter\" + 0.007*\"iiv\" + 0.007*\"clothianidin\" + 0.007*\"ccd\" + 0.007*\"varroa\" + 0.007*\"mortality\" + 0.007*\"mellifera\" + 0.007*\"species\" + 0.006*\"pest\" + 0.005*\"australia\" + 0.005*\"rna\" + 0.005*\"research\" + 0.005*\"africa\"\n",
      "2018-05-23 21:50:15,828 : INFO : topic #7 (0.005): 0.024*\"pollen\" + 0.009*\"colonies\" + 0.008*\"colony\" + 0.007*\"study\" + 0.007*\"resistance\" + 0.007*\"brood\" + 0.006*\"found\" + 0.006*\"health\" + 0.006*\"neonicotinoids\" + 0.005*\"cells\" + 0.005*\"drug\" + 0.005*\"analysis\" + 0.005*\"foundation\" + 0.005*\"pyrethroid\" + 0.005*\"samples\" + 0.004*\"beetle\" + 0.004*\"land\" + 0.004*\"control\" + 0.004*\"one\" + 0.004*\"may\"\n",
      "2018-05-23 21:50:15,831 : INFO : topic #8 (0.005): 0.010*\"factors\" + 0.009*\"phytochemicals\" + 0.009*\"infection\" + 0.008*\"effects\" + 0.008*\"virus\" + 0.007*\"phytochemical\" + 0.007*\"pollen\" + 0.007*\"gene\" + 0.007*\"colonies\" + 0.006*\"plant\" + 0.006*\"expression\" + 0.005*\"colony\" + 0.005*\"dwv\" + 0.005*\"also\" + 0.005*\"nectar\" + 0.005*\"animals\" + 0.005*\"species\" + 0.005*\"pesticides\" + 0.005*\"used\" + 0.005*\"increased\"\n",
      "2018-05-23 21:50:15,834 : INFO : topic #9 (0.005): 0.025*\"colonies\" + 0.015*\"mite\" + 0.015*\"varroa\" + 0.012*\"gene\" + 0.012*\"destructor\" + 0.009*\"infestation\" + 0.008*\"apis\" + 0.008*\"colony\" + 0.008*\"viruses\" + 0.007*\"mellifera\" + 0.007*\"propolis\" + 0.007*\"virus\" + 0.007*\"varroidae\" + 0.006*\"mites\" + 0.006*\"rates\" + 0.006*\"expression\" + 0.006*\"use\" + 0.006*\"rna\" + 0.006*\"significantly\" + 0.005*\"pest\"\n",
      "2018-05-23 21:50:15,836 : INFO : topic #10 (0.005): 0.032*\"hybridization\" + 0.027*\"microsporidia\" + 0.026*\"situ\" + 0.018*\"fluorescence\" + 0.016*\"transmission\" + 0.011*\"two\" + 0.010*\"microbiology\" + 0.010*\"probe\" + 0.010*\"vertical\" + 0.009*\"virus\" + 0.008*\"ceranae\" + 0.008*\"microsporidian\" + 0.007*\"study\" + 0.007*\"animals\" + 0.007*\"specific\" + 0.007*\"rna\" + 0.006*\"parasite\" + 0.006*\"n\" + 0.006*\"animal\" + 0.006*\"respectively\"\n",
      "2018-05-23 21:50:15,838 : INFO : topic #11 (0.005): 0.017*\"colonies\" + 0.014*\"colony\" + 0.008*\"hives\" + 0.008*\"mortality\" + 0.007*\"virus\" + 0.007*\"cylinders\" + 0.006*\"food\" + 0.006*\"research\" + 0.006*\"mellifera\" + 0.006*\"monitoring\" + 0.006*\"system\" + 0.005*\"analysis\" + 0.005*\"nosema\" + 0.004*\"sensor\" + 0.004*\"data\" + 0.004*\"failure\" + 0.004*\"high\" + 0.004*\"environmental\" + 0.004*\"pesticides\" + 0.004*\"five\"\n",
      "2018-05-23 21:50:15,842 : INFO : topic #12 (0.005): 0.016*\"colony\" + 0.013*\"pollen\" + 0.012*\"animal\" + 0.009*\"virus\" + 0.008*\"mite\" + 0.008*\"rna\" + 0.007*\"grooming\" + 0.006*\"behavior\" + 0.006*\"nectar\" + 0.005*\"foragers\" + 0.005*\"infection\" + 0.005*\"mellifera\" + 0.005*\"system\" + 0.005*\"abundance\" + 0.005*\"insects\" + 0.005*\"varroa\" + 0.005*\"user\" + 0.005*\"pollens\" + 0.005*\"effects\" + 0.005*\"omega3\"\n",
      "2018-05-23 21:50:15,844 : INFO : topic #13 (0.005): 0.018*\"samples\" + 0.013*\"mass\" + 0.012*\"method\" + 0.011*\"concentrations\" + 0.011*\"analysis\" + 0.011*\"pesticides\" + 0.010*\"ops\" + 0.010*\"spectrometry\" + 0.009*\"chromatography\" + 0.008*\"liquid\" + 0.008*\"detected\" + 0.007*\"pollen\" + 0.007*\"levels\" + 0.007*\"pollutants\" + 0.006*\"environmental\" + 0.006*\"used\" + 0.006*\"extraction\" + 0.006*\"pollution\" + 0.006*\"organic\" + 0.005*\"detection\"\n",
      "2018-05-23 21:50:15,848 : INFO : topic #14 (0.005): 0.015*\"colonies\" + 0.013*\"varroa\" + 0.013*\"climate\" + 0.012*\"virus\" + 0.010*\"mellifera\" + 0.010*\"pesticides\" + 0.009*\"mortality\" + 0.009*\"effects\" + 0.008*\"colony\" + 0.007*\"development\" + 0.007*\"treatment\" + 0.006*\"infestation\" + 0.006*\"fungicides\" + 0.006*\"insecticides\" + 0.006*\"food\" + 0.006*\"environmental\" + 0.006*\"presence\" + 0.006*\"dwv\" + 0.006*\"viruses\" + 0.006*\"subtropical\"\n",
      "2018-05-23 21:50:15,851 : INFO : topic #15 (0.005): 0.010*\"effects\" + 0.008*\"larvae\" + 0.007*\"study\" + 0.007*\"larval\" + 0.007*\"thiamethoxam\" + 0.007*\"two\" + 0.007*\"exposure\" + 0.006*\"adult\" + 0.006*\"learning\" + 0.006*\"sublethal\" + 0.006*\"propolis\" + 0.006*\"chromatography\" + 0.006*\"resins\" + 0.005*\"species\" + 0.005*\"liquid\" + 0.005*\"american\" + 0.005*\"extraction\" + 0.005*\"memory\" + 0.005*\"present\" + 0.005*\"mechanism\"\n",
      "2018-05-23 21:50:15,855 : INFO : topic #16 (0.005): 0.011*\"colonies\" + 0.011*\"pesticides\" + 0.008*\"species\" + 0.008*\"colony\" + 0.007*\"apis\" + 0.007*\"environmental\" + 0.007*\"mellifera\" + 0.005*\"ground\" + 0.005*\"ci\" + 0.005*\"samples\" + 0.005*\"animal\" + 0.005*\"virus\" + 0.005*\"may\" + 0.004*\"two\" + 0.004*\"affect\" + 0.004*\"apiaries\" + 0.004*\"ccd\" + 0.004*\"land\" + 0.004*\"used\" + 0.004*\"use\"\n",
      "2018-05-23 21:50:15,857 : INFO : topic #17 (0.005): 0.019*\"species\" + 0.014*\"pollen\" + 0.011*\"neonicotinoids\" + 0.009*\"nosema\" + 0.008*\"nutritional\" + 0.007*\"ecosystem\" + 0.007*\"land\" + 0.007*\"resources\" + 0.007*\"exposure\" + 0.006*\"apis\" + 0.006*\"environmental\" + 0.006*\"pollination\" + 0.006*\"resource\" + 0.006*\"also\" + 0.006*\"different\" + 0.005*\"plant\" + 0.005*\"quality\" + 0.005*\"effects\" + 0.005*\"change\" + 0.005*\"cell\"\n",
      "2018-05-23 21:50:15,861 : INFO : topic #18 (0.005): 0.015*\"varroa\" + 0.012*\"pollen\" + 0.011*\"exposure\" + 0.011*\"colonies\" + 0.010*\"pesticides\" + 0.007*\"mellifera\" + 0.007*\"propolis\" + 0.006*\"pesticide\" + 0.006*\"colony\" + 0.006*\"composition\" + 0.006*\"environmental\" + 0.006*\"also\" + 0.006*\"destructor\" + 0.005*\"species\" + 0.005*\"effects\" + 0.005*\"foraging\" + 0.005*\"apis\" + 0.005*\"foragers\" + 0.005*\"control\" + 0.004*\"animal\"\n",
      "2018-05-23 21:50:15,864 : INFO : topic #19 (0.005): 0.008*\"effects\" + 0.008*\"colony\" + 0.008*\"viruses\" + 0.007*\"apis\" + 0.007*\"study\" + 0.007*\"bacteria\" + 0.007*\"infection\" + 0.006*\"kunkeei\" + 0.006*\"virus\" + 0.005*\"lactobacillus\" + 0.005*\"survival\" + 0.005*\"mellifera\" + 0.005*\"dna\" + 0.005*\"sequence\" + 0.005*\"rna\" + 0.005*\"l\" + 0.005*\"sequencing\" + 0.005*\"acid\" + 0.004*\"nosema\" + 0.004*\"colonies\"\n"
     ]
    },
    {
     "name": "stderr",
     "output_type": "stream",
     "text": [
      "2018-05-23 21:50:15,868 : INFO : topic #20 (0.005): 0.010*\"queens\" + 0.009*\"viability\" + 0.009*\"colony\" + 0.009*\"species\" + 0.008*\"two\" + 0.008*\"sperm\" + 0.007*\"health\" + 0.007*\"mellifera\" + 0.007*\"effects\" + 0.006*\"queen\" + 0.006*\"insecticides\" + 0.006*\"apis\" + 0.005*\"high\" + 0.005*\"temperature\" + 0.005*\"colonies\" + 0.005*\"animal\" + 0.004*\"data\" + 0.004*\"pollen\" + 0.004*\"mite\" + 0.004*\"gene\"\n",
      "2018-05-23 21:50:15,869 : INFO : topic #21 (0.005): 0.017*\"expression\" + 0.015*\"gene\" + 0.013*\"nosema\" + 0.011*\"ceranae\" + 0.010*\"pesticide\" + 0.009*\"apis\" + 0.009*\"rna\" + 0.008*\"animal\" + 0.008*\"pollen\" + 0.008*\"parasite\" + 0.007*\"pesticides\" + 0.007*\"n\" + 0.007*\"mellifera\" + 0.007*\"disease\" + 0.007*\"treatment\" + 0.007*\"host\" + 0.006*\"genes\" + 0.006*\"immune\" + 0.006*\"effects\" + 0.006*\"matrices\"\n",
      "2018-05-23 21:50:15,872 : INFO : topic #22 (0.005): 0.027*\"virus\" + 0.013*\"colony\" + 0.010*\"colonies\" + 0.008*\"immune\" + 0.007*\"study\" + 0.007*\"animal\" + 0.007*\"destructor\" + 0.007*\"varroa\" + 0.006*\"winter\" + 0.006*\"survival\" + 0.006*\"paralysis\" + 0.005*\"infection\" + 0.005*\"exposure\" + 0.005*\"analysis\" + 0.005*\"apis\" + 0.005*\"wing\" + 0.005*\"genes\" + 0.005*\"food\" + 0.004*\"acute\" + 0.004*\"effects\"\n",
      "2018-05-23 21:50:15,875 : INFO : topic #23 (0.005): 0.014*\"varroa\" + 0.010*\"colony\" + 0.009*\"mites\" + 0.008*\"species\" + 0.007*\"losses\" + 0.006*\"animal\" + 0.006*\"mortality\" + 0.006*\"pollen\" + 0.006*\"destructor\" + 0.006*\"apis\" + 0.005*\"control\" + 0.005*\"virus\" + 0.005*\"chemical\" + 0.005*\"mite\" + 0.004*\"propolis\" + 0.004*\"mellifera\" + 0.004*\"also\" + 0.004*\"levels\" + 0.004*\"risk\" + 0.004*\"crithidia\"\n",
      "2018-05-23 21:50:15,877 : INFO : topic #24 (0.005): 0.014*\"mellifera\" + 0.013*\"apis\" + 0.013*\"virus\" + 0.008*\"colonies\" + 0.008*\"fungicide\" + 0.006*\"bread\" + 0.006*\"article\" + 0.006*\"kunkeei\" + 0.006*\"different\" + 0.006*\"l\" + 0.005*\"lactobacillus\" + 0.005*\"study\" + 0.005*\"fungi\" + 0.005*\"components\" + 0.005*\"fungal\" + 0.005*\"viruses\" + 0.005*\"results\" + 0.005*\"pollen\" + 0.005*\"contamination\" + 0.005*\"species\"\n",
      "2018-05-23 21:50:15,878 : INFO : topic #25 (0.005): 0.020*\"exposure\" + 0.011*\"neonicotinoid\" + 0.010*\"effects\" + 0.010*\"sublethal\" + 0.010*\"chemical\" + 0.009*\"pyrethroid\" + 0.008*\"neonicotinoids\" + 0.008*\"health\" + 0.008*\"insecticides\" + 0.008*\"insecticide\" + 0.008*\"pesticide\" + 0.008*\"mellifera\" + 0.007*\"risk\" + 0.006*\"field\" + 0.006*\"immunity\" + 0.006*\"propolis\" + 0.006*\"apis\" + 0.006*\"colonies\" + 0.006*\"varroa\" + 0.006*\"results\"\n",
      "2018-05-23 21:50:15,881 : INFO : topic #26 (0.005): 0.018*\"soil\" + 0.014*\"water\" + 0.014*\"plants\" + 0.012*\"pollen\" + 0.010*\"insecticides\" + 0.008*\"neonicotinoids\" + 0.008*\"gut\" + 0.008*\"nectar\" + 0.007*\"fipronil\" + 0.007*\"neonicotinoid\" + 0.007*\"pesticide\" + 0.007*\"pesticides\" + 0.006*\"pollutant\" + 0.006*\"exposure\" + 0.006*\"environmental\" + 0.006*\"range\" + 0.006*\"samples\" + 0.005*\"seed\" + 0.005*\"nontarget\" + 0.005*\"soils\"\n",
      "2018-05-23 21:50:15,884 : INFO : topic #27 (0.005): 0.017*\"virus\" + 0.016*\"colonies\" + 0.014*\"genetic\" + 0.009*\"pesticides\" + 0.008*\"feral\" + 0.008*\"managed\" + 0.008*\"study\" + 0.007*\"chromatography\" + 0.006*\"selection\" + 0.006*\"higher\" + 0.006*\"colony\" + 0.006*\"north\" + 0.005*\"immune\" + 0.005*\"method\" + 0.005*\"zsep\" + 0.005*\"dw\" + 0.005*\"analysis\" + 0.004*\"viruses\" + 0.004*\"results\" + 0.004*\"response\"\n",
      "2018-05-23 21:50:15,887 : INFO : topic #28 (0.005): 0.012*\"virus\" + 0.011*\"mite\" + 0.011*\"varroa\" + 0.009*\"cells\" + 0.008*\"mellifera\" + 0.008*\"effects\" + 0.008*\"insecticide\" + 0.007*\"animal\" + 0.007*\"destructor\" + 0.007*\"colonies\" + 0.006*\"apis\" + 0.006*\"insecticides\" + 0.006*\"control\" + 0.006*\"cell\" + 0.005*\"mites\" + 0.005*\"exposure\" + 0.005*\"colony\" + 0.005*\"thiamethoxam\" + 0.005*\"adult\" + 0.005*\"population\"\n",
      "2018-05-23 21:50:15,890 : INFO : topic #29 (0.005): 0.012*\"pollen\" + 0.012*\"colonies\" + 0.009*\"colony\" + 0.008*\"varroa\" + 0.007*\"genetic\" + 0.006*\"study\" + 0.006*\"two\" + 0.006*\"factors\" + 0.006*\"animal\" + 0.006*\"crop\" + 0.006*\"mellifera\" + 0.006*\"snh\" + 0.005*\"apis\" + 0.005*\"control\" + 0.005*\"nosema\" + 0.005*\"population\" + 0.005*\"destructor\" + 0.005*\"foraging\" + 0.005*\"animals\" + 0.005*\"agricultural\"\n",
      "2018-05-23 21:50:15,891 : INFO : topic #30 (0.005): 0.011*\"mellifera\" + 0.009*\"effects\" + 0.008*\"chlorpyrifos\" + 0.008*\"exposure\" + 0.008*\"study\" + 0.007*\"apis\" + 0.006*\"toxicity\" + 0.006*\"data\" + 0.006*\"may\" + 0.006*\"larvae\" + 0.006*\"insecticides\" + 0.005*\"species\" + 0.005*\"pollen\" + 0.005*\"treatment\" + 0.005*\"virus\" + 0.005*\"mites\" + 0.005*\"exposed\" + 0.005*\"brood\" + 0.005*\"control\" + 0.004*\"behavior\"\n",
      "2018-05-23 21:50:15,895 : INFO : topic #31 (0.005): 0.019*\"coumaphos\" + 0.010*\"data\" + 0.009*\"pesticide\" + 0.009*\"flowering\" + 0.008*\"polar\" + 0.008*\"analysis\" + 0.008*\"spore\" + 0.008*\"tube\" + 0.008*\"used\" + 0.008*\"study\" + 0.007*\"varroa\" + 0.007*\"brood\" + 0.007*\"beeswax\" + 0.007*\"mass\" + 0.006*\"chromatography\" + 0.006*\"method\" + 0.005*\"residue\" + 0.005*\"pesticides\" + 0.005*\"detection\" + 0.005*\"propolis\"\n",
      "2018-05-23 21:50:15,900 : INFO : topic #32 (0.005): 0.021*\"mite\" + 0.017*\"varroa\" + 0.011*\"protein\" + 0.011*\"mites\" + 0.011*\"colonies\" + 0.009*\"colony\" + 0.008*\"growth\" + 0.008*\"mellifera\" + 0.007*\"destructor\" + 0.006*\"animal\" + 0.006*\"control\" + 0.006*\"apis\" + 0.006*\"hba\" + 0.006*\"varroidae\" + 0.005*\"genotypes\" + 0.005*\"disease\" + 0.005*\"mortality\" + 0.005*\"population\" + 0.005*\"study\" + 0.005*\"grooming\"\n",
      "2018-05-23 21:50:15,904 : INFO : topic #33 (0.005): 0.021*\"nosema\" + 0.018*\"ceranae\" + 0.013*\"apis\" + 0.011*\"colony\" + 0.010*\"mellifera\" + 0.009*\"exposure\" + 0.009*\"animal\" + 0.009*\"brood\" + 0.009*\"n\" + 0.008*\"syrup\" + 0.008*\"neonicotinoids\" + 0.008*\"disease\" + 0.008*\"pesticide\" + 0.007*\"pesticides\" + 0.006*\"toxicity\" + 0.006*\"colonies\" + 0.006*\"effects\" + 0.006*\"sublethal\" + 0.006*\"high\" + 0.005*\"genetic\"\n",
      "2018-05-23 21:50:15,907 : INFO : topic #34 (0.005): 0.009*\"virus\" + 0.007*\"colonies\" + 0.007*\"days\" + 0.006*\"lactobacillus\" + 0.006*\"rna\" + 0.006*\"study\" + 0.005*\"number\" + 0.005*\"exposure\" + 0.005*\"pesticide\" + 0.004*\"glands\" + 0.004*\"pollination\" + 0.004*\"environmental\" + 0.004*\"species\" + 0.004*\"varroa\" + 0.004*\"ecosystem\" + 0.004*\"change\" + 0.004*\"mellifera\" + 0.004*\"treatment\" + 0.004*\"also\" + 0.004*\"protein\"\n",
      "2018-05-23 21:50:15,911 : INFO : topic #35 (0.005): 0.012*\"virus\" + 0.010*\"colony\" + 0.008*\"mites\" + 0.007*\"insect\" + 0.007*\"spiroplasma\" + 0.006*\"pesticides\" + 0.006*\"study\" + 0.006*\"analysis\" + 0.006*\"colonies\" + 0.006*\"species\" + 0.006*\"pollen\" + 0.005*\"plant\" + 0.005*\"rna\" + 0.005*\"system\" + 0.005*\"poulsonii\" + 0.005*\"business\" + 0.005*\"effects\" + 0.005*\"work\" + 0.005*\"nectar\" + 0.005*\"genome\"\n",
      "2018-05-23 21:50:15,914 : INFO : topic #36 (0.005): 0.015*\"virus\" + 0.009*\"plant\" + 0.009*\"larvae\" + 0.008*\"extracts\" + 0.007*\"cell\" + 0.006*\"propolis\" + 0.006*\"extract\" + 0.006*\"animal\" + 0.006*\"pollen\" + 0.006*\"study\" + 0.006*\"colony\" + 0.006*\"boscalid\" + 0.005*\"different\" + 0.005*\"pathogen\" + 0.005*\"active\" + 0.005*\"species\" + 0.005*\"losses\" + 0.005*\"picornaviridae\" + 0.005*\"compounds\" + 0.005*\"drug\"\n",
      "2018-05-23 21:50:15,917 : INFO : topic #37 (0.005): 0.013*\"virus\" + 0.009*\"mellifera\" + 0.008*\"animal\" + 0.007*\"effects\" + 0.006*\"doses\" + 0.006*\"found\" + 0.006*\"disease\" + 0.005*\"pesticide\" + 0.005*\"study\" + 0.005*\"health\" + 0.005*\"apis\" + 0.005*\"species\" + 0.005*\"imi\" + 0.005*\"analysis\" + 0.005*\"levels\" + 0.005*\"water\" + 0.004*\"mortality\" + 0.004*\"learning\" + 0.004*\"may\" + 0.004*\"metolachlor\"\n",
      "2018-05-23 21:50:15,921 : INFO : topic #38 (0.005): 0.024*\"mass\" + 0.018*\"spectrometry\" + 0.016*\"pesticides\" + 0.014*\"pesticide\" + 0.011*\"environmental\" + 0.010*\"liquid\" + 0.009*\"chromatography\" + 0.008*\"metabolites\" + 0.007*\"compounds\" + 0.007*\"exposure\" + 0.006*\"detection\" + 0.006*\"mellifera\" + 0.006*\"apis\" + 0.006*\"analysis\" + 0.006*\"residue\" + 0.006*\"boscalid\" + 0.005*\"insecticides\" + 0.005*\"monitoring\" + 0.005*\"agricultural\" + 0.005*\"residues\"\n",
      "2018-05-23 21:50:15,924 : INFO : topic #39 (0.005): 0.017*\"nosema\" + 0.014*\"ceranae\" + 0.013*\"apis\" + 0.010*\"n\" + 0.010*\"response\" + 0.009*\"colonies\" + 0.008*\"effects\" + 0.008*\"pollen\" + 0.008*\"immune\" + 0.008*\"katp\" + 0.007*\"mellifera\" + 0.007*\"treatment\" + 0.007*\"important\" + 0.006*\"significant\" + 0.006*\"antiviral\" + 0.006*\"viral\" + 0.006*\"crops\" + 0.006*\"virus\" + 0.006*\"pathogens\" + 0.005*\"survival\"\n"
     ]
    },
    {
     "name": "stderr",
     "output_type": "stream",
     "text": [
      "2018-05-23 21:50:15,927 : INFO : topic #40 (0.005): 0.010*\"apis\" + 0.008*\"environmental\" + 0.008*\"effects\" + 0.007*\"virus\" + 0.007*\"mellifera\" + 0.006*\"may\" + 0.006*\"colony\" + 0.006*\"indigenous\" + 0.006*\"data\" + 0.006*\"nosema\" + 0.006*\"species\" + 0.006*\"research\" + 0.005*\"results\" + 0.005*\"sequence\" + 0.004*\"ceranae\" + 0.004*\"development\" + 0.004*\"crops\" + 0.004*\"animals\" + 0.004*\"exposure\" + 0.004*\"analysis\"\n",
      "2018-05-23 21:50:15,930 : INFO : topic #41 (0.005): 0.015*\"mites\" + 0.014*\"varroa\" + 0.011*\"nosema\" + 0.011*\"colonies\" + 0.010*\"mite\" + 0.009*\"apis\" + 0.008*\"n\" + 0.008*\"mellifera\" + 0.007*\"brood\" + 0.006*\"host\" + 0.006*\"colony\" + 0.006*\"analysis\" + 0.006*\"exposed\" + 0.005*\"ceranae\" + 0.005*\"exposure\" + 0.005*\"selection\" + 0.005*\"days\" + 0.005*\"species\" + 0.005*\"resistance\" + 0.005*\"infestation\"\n",
      "2018-05-23 21:50:15,933 : INFO : topic #42 (0.005): 0.009*\"apis\" + 0.009*\"colony\" + 0.009*\"mellifera\" + 0.009*\"mite\" + 0.006*\"destructor\" + 0.006*\"used\" + 0.006*\"effect\" + 0.006*\"health\" + 0.006*\"exposure\" + 0.006*\"behavior\" + 0.005*\"virus\" + 0.005*\"varroa\" + 0.005*\"pesticides\" + 0.005*\"hive\" + 0.005*\"neonicotinoid\" + 0.005*\"environmental\" + 0.004*\"results\" + 0.004*\"may\" + 0.004*\"gl\" + 0.004*\"dna\"\n",
      "2018-05-23 21:50:15,934 : INFO : topic #43 (0.005): 0.013*\"pollination\" + 0.009*\"food\" + 0.008*\"viruses\" + 0.008*\"pesticides\" + 0.008*\"also\" + 0.008*\"apis\" + 0.007*\"mellifera\" + 0.007*\"colony\" + 0.007*\"ecological\" + 0.006*\"pollinators\" + 0.006*\"thermal\" + 0.006*\"species\" + 0.006*\"present\" + 0.005*\"vdv1\" + 0.005*\"wild\" + 0.005*\"hives\" + 0.005*\"imidacloprid\" + 0.005*\"temperature\" + 0.005*\"ccd\" + 0.005*\"colonies\"\n",
      "2018-05-23 21:50:15,938 : INFO : topic #44 (0.005): 0.028*\"maize\" + 0.016*\"colonies\" + 0.014*\"pollen\" + 0.012*\"samples\" + 0.010*\"imidacloprid\" + 0.009*\"neonicotinoid\" + 0.009*\"clothianidin\" + 0.009*\"effects\" + 0.008*\"seed\" + 0.008*\"l\" + 0.008*\"used\" + 0.008*\"nectar\" + 0.007*\"sowing\" + 0.006*\"flowering\" + 0.006*\"plants\" + 0.006*\"average\" + 0.006*\"events\" + 0.006*\"mortality\" + 0.006*\"areas\" + 0.005*\"health\"\n",
      "2018-05-23 21:50:15,943 : INFO : topic #45 (0.005): 0.022*\"virus\" + 0.014*\"mites\" + 0.014*\"varroa\" + 0.011*\"combs\" + 0.009*\"colony\" + 0.009*\"dwv\" + 0.007*\"destructor\" + 0.007*\"effects\" + 0.007*\"colonies\" + 0.006*\"mathematical\" + 0.006*\"disease\" + 0.006*\"viruses\" + 0.005*\"flight\" + 0.005*\"animal\" + 0.005*\"mellifera\" + 0.005*\"varroidae\" + 0.005*\"total\" + 0.005*\"number\" + 0.005*\"irradiation\" + 0.005*\"parasite\"\n",
      "2018-05-23 21:50:15,947 : INFO : topic #46 (0.005): 0.014*\"larvae\" + 0.011*\"adult\" + 0.011*\"wireless\" + 0.009*\"diet\" + 0.009*\"effect\" + 0.008*\"health\" + 0.008*\"colonies\" + 0.008*\"ceranae\" + 0.007*\"infected\" + 0.007*\"things\" + 0.007*\"expression\" + 0.007*\"beneficial\" + 0.007*\"performance\" + 0.007*\"mixture\" + 0.007*\"sensor\" + 0.006*\"may\" + 0.006*\"improve\" + 0.006*\"pathogens\" + 0.006*\"carbohydrates\" + 0.006*\"animal\"\n",
      "2018-05-23 21:50:15,951 : INFO : topic #47 (0.005): 0.008*\"varroa\" + 0.008*\"gene\" + 0.008*\"mass\" + 0.008*\"mellifera\" + 0.007*\"spectrometry\" + 0.007*\"detection\" + 0.007*\"apis\" + 0.006*\"expression\" + 0.006*\"insecticides\" + 0.006*\"imidacloprid\" + 0.006*\"electrophoresis\" + 0.006*\"capillary\" + 0.005*\"behavior\" + 0.005*\"used\" + 0.005*\"wireless\" + 0.005*\"study\" + 0.005*\"acid\" + 0.005*\"different\" + 0.005*\"neonicotinoid\" + 0.005*\"pesticides\"\n",
      "2018-05-23 21:50:15,956 : INFO : topic #48 (0.005): 0.009*\"effects\" + 0.007*\"colony\" + 0.007*\"mellifera\" + 0.007*\"pollen\" + 0.007*\"apis\" + 0.006*\"species\" + 0.006*\"gm\" + 0.006*\"mortality\" + 0.006*\"protein\" + 0.005*\"spectrometry\" + 0.005*\"mass\" + 0.005*\"chromatography\" + 0.005*\"three\" + 0.005*\"important\" + 0.005*\"assessment\" + 0.005*\"agricultural\" + 0.005*\"animal\" + 0.005*\"liquid\" + 0.005*\"body\" + 0.005*\"health\"\n",
      "2018-05-23 21:50:15,959 : INFO : topic #49 (0.005): 0.012*\"pollen\" + 0.011*\"colony\" + 0.010*\"mellifera\" + 0.008*\"apis\" + 0.007*\"colonies\" + 0.007*\"pesticides\" + 0.006*\"species\" + 0.006*\"gene\" + 0.006*\"analysis\" + 0.006*\"pesticide\" + 0.005*\"study\" + 0.005*\"effects\" + 0.005*\"genes\" + 0.004*\"acid\" + 0.004*\"health\" + 0.004*\"animals\" + 0.004*\"insecticides\" + 0.004*\"animal\" + 0.004*\"samples\" + 0.004*\"varroa\"\n",
      "2018-05-23 21:50:15,961 : INFO : topic #50 (0.005): 0.010*\"food\" + 0.008*\"pollinator\" + 0.007*\"pollen\" + 0.007*\"transgenic\" + 0.007*\"wild\" + 0.007*\"protein\" + 0.006*\"disease\" + 0.006*\"apis\" + 0.006*\"crops\" + 0.006*\"species\" + 0.006*\"environmental\" + 0.005*\"flowers\" + 0.005*\"nosema\" + 0.005*\"rna\" + 0.005*\"use\" + 0.005*\"sodium\" + 0.005*\"populations\" + 0.005*\"biotechnology\" + 0.004*\"colony\" + 0.004*\"production\"\n",
      "2018-05-23 21:50:15,964 : INFO : topic #51 (0.005): 0.019*\"pollen\" + 0.010*\"mellifera\" + 0.008*\"mass\" + 0.008*\"ops\" + 0.008*\"exposure\" + 0.008*\"colony\" + 0.007*\"summer\" + 0.007*\"egypt\" + 0.007*\"apis\" + 0.007*\"effects\" + 0.007*\"liquid\" + 0.007*\"chromatography\" + 0.006*\"collected\" + 0.006*\"hive\" + 0.006*\"spring\" + 0.006*\"spectrometry\" + 0.006*\"colonies\" + 0.006*\"used\" + 0.006*\"samples\" + 0.006*\"animal\"\n",
      "2018-05-23 21:50:15,967 : INFO : topic #52 (0.005): 0.020*\"virus\" + 0.011*\"pollen\" + 0.010*\"expression\" + 0.010*\"rna\" + 0.009*\"sequence\" + 0.008*\"mellifera\" + 0.007*\"study\" + 0.007*\"apis\" + 0.006*\"food\" + 0.006*\"analysis\" + 0.006*\"protein\" + 0.006*\"viruses\" + 0.006*\"monitoring\" + 0.006*\"p450\" + 0.006*\"genome\" + 0.005*\"animal\" + 0.005*\"colonies\" + 0.005*\"samples\" + 0.005*\"legs\" + 0.005*\"colony\"\n",
      "2018-05-23 21:50:15,973 : INFO : topic #53 (0.005): 0.012*\"effects\" + 0.011*\"analysis\" + 0.010*\"gm\" + 0.009*\"pesticides\" + 0.008*\"crops\" + 0.008*\"pesticide\" + 0.007*\"chromatography\" + 0.007*\"detection\" + 0.007*\"cultivation\" + 0.007*\"scientific\" + 0.006*\"mass\" + 0.006*\"propolis\" + 0.005*\"resistance\" + 0.005*\"phase\" + 0.005*\"effect\" + 0.005*\"using\" + 0.005*\"pollen\" + 0.005*\"environment\" + 0.005*\"environmental\" + 0.005*\"spectrometry\"\n",
      "2018-05-23 21:50:15,974 : INFO : topic #54 (0.005): 0.017*\"colonies\" + 0.010*\"mellifera\" + 0.009*\"apis\" + 0.009*\"animal\" + 0.008*\"virus\" + 0.008*\"varroa\" + 0.007*\"survival\" + 0.007*\"destructor\" + 0.007*\"cell\" + 0.007*\"nosema\" + 0.006*\"protein\" + 0.006*\"gene\" + 0.006*\"colony\" + 0.006*\"native\" + 0.005*\"population\" + 0.005*\"compounds\" + 0.005*\"article\" + 0.005*\"animals\" + 0.005*\"sequence\" + 0.005*\"plants\"\n",
      "2018-05-23 21:50:15,979 : INFO : topic #55 (0.005): 0.017*\"disease\" + 0.017*\"effects\" + 0.010*\"forage\" + 0.009*\"dynamics\" + 0.009*\"sublethal\" + 0.009*\"colony\" + 0.009*\"apis\" + 0.008*\"including\" + 0.007*\"mortality\" + 0.007*\"field\" + 0.007*\"management\" + 0.007*\"pyrethroid\" + 0.006*\"neonicotinoid\" + 0.006*\"foraging\" + 0.006*\"ld50\" + 0.005*\"exposed\" + 0.005*\"mellifera\" + 0.005*\"far\" + 0.005*\"results\" + 0.005*\"multiple\"\n",
      "2018-05-23 21:50:15,980 : INFO : topic #56 (0.005): 0.010*\"control\" + 0.010*\"colonies\" + 0.009*\"varroa\" + 0.008*\"collapse\" + 0.008*\"colony\" + 0.007*\"disease\" + 0.006*\"mellifera\" + 0.006*\"pesticide\" + 0.005*\"destructor\" + 0.005*\"hive\" + 0.005*\"natural\" + 0.005*\"gene\" + 0.005*\"population\" + 0.005*\"environmental\" + 0.004*\"apis\" + 0.004*\"use\" + 0.004*\"animal\" + 0.004*\"conditions\" + 0.004*\"resistance\" + 0.004*\"products\"\n",
      "2018-05-23 21:50:15,983 : INFO : topic #57 (0.005): 0.017*\"colonies\" + 0.012*\"colony\" + 0.011*\"varroa\" + 0.007*\"health\" + 0.007*\"mellifera\" + 0.007*\"apis\" + 0.006*\"mite\" + 0.006*\"imidacloprid\" + 0.006*\"insecticides\" + 0.005*\"brood\" + 0.005*\"study\" + 0.005*\"nosema\" + 0.005*\"virus\" + 0.005*\"pollen\" + 0.005*\"hive\" + 0.005*\"samples\" + 0.004*\"residues\" + 0.004*\"exposure\" + 0.004*\"toxicity\" + 0.004*\"mites\"\n",
      "2018-05-23 21:50:15,986 : INFO : topic #58 (0.005): 0.025*\"pollen\" + 0.011*\"effect\" + 0.011*\"exposure\" + 0.010*\"effects\" + 0.008*\"nectar\" + 0.007*\"neonicotinoids\" + 0.007*\"animal\" + 0.007*\"neonicotinoid\" + 0.007*\"diet\" + 0.006*\"study\" + 0.006*\"toxicity\" + 0.006*\"pesticides\" + 0.006*\"larval\" + 0.005*\"colony\" + 0.005*\"studies\" + 0.005*\"thiamethoxam\" + 0.005*\"development\" + 0.005*\"food\" + 0.005*\"agricultural\" + 0.005*\"nonhuman\"\n",
      "2018-05-23 21:50:15,990 : INFO : topic #59 (0.005): 0.019*\"pollen\" + 0.013*\"rna\" + 0.010*\"control\" + 0.009*\"gene\" + 0.008*\"effects\" + 0.007*\"protein\" + 0.007*\"apis\" + 0.007*\"animal\" + 0.007*\"expression\" + 0.006*\"colonies\" + 0.006*\"mellifera\" + 0.006*\"sequence\" + 0.005*\"bacterial\" + 0.005*\"colony\" + 0.005*\"paraquat\" + 0.005*\"two\" + 0.005*\"varroa\" + 0.005*\"response\" + 0.005*\"results\" + 0.004*\"nosema\"\n"
     ]
    },
    {
     "name": "stderr",
     "output_type": "stream",
     "text": [
      "2018-05-23 21:50:15,993 : INFO : topic #60 (0.005): 0.012*\"pollen\" + 0.011*\"effect\" + 0.010*\"dch\" + 0.010*\"species\" + 0.009*\"acid\" + 0.008*\"diversity\" + 0.008*\"kunkeei\" + 0.008*\"larvae\" + 0.008*\"protein\" + 0.007*\"also\" + 0.006*\"apis\" + 0.006*\"diet\" + 0.006*\"mellifera\" + 0.006*\"food\" + 0.006*\"exposure\" + 0.006*\"content\" + 0.006*\"potential\" + 0.006*\"oxalic\" + 0.006*\"mexico\" + 0.006*\"pesticide\"\n",
      "2018-05-23 21:50:15,996 : INFO : topic #61 (0.005): 0.010*\"losses\" + 0.009*\"health\" + 0.009*\"colony\" + 0.009*\"nosema\" + 0.009*\"mellifera\" + 0.008*\"breeding\" + 0.007*\"apis\" + 0.006*\"programs\" + 0.006*\"animal\" + 0.006*\"effects\" + 0.006*\"europe\" + 0.006*\"review\" + 0.006*\"management\" + 0.006*\"colonies\" + 0.006*\"behavior\" + 0.006*\"pesticides\" + 0.005*\"use\" + 0.005*\"ceranae\" + 0.005*\"effect\" + 0.005*\"grooming\"\n",
      "2018-05-23 21:50:15,999 : INFO : topic #62 (0.005): 0.033*\"virus\" + 0.012*\"viruses\" + 0.009*\"colonies\" + 0.009*\"paralysis\" + 0.008*\"gene\" + 0.007*\"colony\" + 0.007*\"apis\" + 0.006*\"mellifera\" + 0.006*\"nosema\" + 0.006*\"pathogens\" + 0.006*\"disease\" + 0.006*\"health\" + 0.005*\"detoxification\" + 0.005*\"exposure\" + 0.005*\"acute\" + 0.005*\"may\" + 0.005*\"study\" + 0.004*\"cell\" + 0.004*\"use\" + 0.004*\"insect\"\n",
      "2018-05-23 21:50:16,003 : INFO : topic #63 (0.005): 0.011*\"pesticides\" + 0.010*\"extraction\" + 0.010*\"food\" + 0.009*\"chromatography\" + 0.008*\"pesticide\" + 0.007*\"mellifera\" + 0.006*\"liquid\" + 0.006*\"mass\" + 0.006*\"development\" + 0.006*\"effects\" + 0.006*\"sustainability\" + 0.006*\"health\" + 0.005*\"method\" + 0.005*\"studies\" + 0.005*\"exposure\" + 0.005*\"industry\" + 0.005*\"samples\" + 0.005*\"survival\" + 0.004*\"spectrometry\" + 0.004*\"solid\"\n",
      "2018-05-23 21:50:16,007 : INFO : topic #64 (0.005): 0.011*\"mass\" + 0.010*\"spectrometry\" + 0.009*\"varroa\" + 0.009*\"using\" + 0.009*\"insecticides\" + 0.008*\"analysis\" + 0.007*\"control\" + 0.007*\"chromatography\" + 0.007*\"pesticides\" + 0.006*\"pesticide\" + 0.006*\"water\" + 0.006*\"neonicotinoid\" + 0.006*\"study\" + 0.006*\"concentration\" + 0.006*\"animal\" + 0.006*\"insecticide\" + 0.005*\"propolis\" + 0.005*\"gene\" + 0.005*\"liquid\" + 0.005*\"samples\"\n",
      "2018-05-23 21:50:16,010 : INFO : topic #65 (0.005): 0.010*\"pesticides\" + 0.010*\"exposure\" + 0.009*\"used\" + 0.009*\"pesticide\" + 0.008*\"risk\" + 0.008*\"varroa\" + 0.007*\"assessment\" + 0.007*\"pollen\" + 0.007*\"virus\" + 0.006*\"apis\" + 0.006*\"mite\" + 0.005*\"effects\" + 0.005*\"colonies\" + 0.005*\"mellifera\" + 0.005*\"pollinator\" + 0.004*\"environmental\" + 0.004*\"survival\" + 0.004*\"study\" + 0.004*\"animal\" + 0.004*\"field\"\n",
      "2018-05-23 21:50:16,013 : INFO : topic #66 (0.005): 0.014*\"virus\" + 0.014*\"analysis\" + 0.011*\"n\" + 0.010*\"ceranae\" + 0.010*\"nosema\" + 0.010*\"study\" + 0.009*\"apis\" + 0.009*\"presence\" + 0.009*\"extraction\" + 0.008*\"sequence\" + 0.008*\"faustovirus\" + 0.008*\"animal\" + 0.007*\"high\" + 0.006*\"viral\" + 0.006*\"liquid\" + 0.006*\"beebread\" + 0.005*\"dna\" + 0.005*\"colonies\" + 0.005*\"samples\" + 0.004*\"chromatography\"\n",
      "2018-05-23 21:50:16,017 : INFO : topic #67 (0.005): 0.011*\"apis\" + 0.009*\"effects\" + 0.009*\"mellifera\" + 0.007*\"pollinator\" + 0.006*\"colony\" + 0.006*\"gene\" + 0.006*\"effect\" + 0.005*\"exposure\" + 0.005*\"pesticides\" + 0.005*\"different\" + 0.005*\"species\" + 0.005*\"food\" + 0.005*\"study\" + 0.005*\"nosema\" + 0.005*\"animals\" + 0.005*\"animal\" + 0.005*\"loss\" + 0.005*\"pollen\" + 0.005*\"expression\" + 0.005*\"imidacloprid\"\n",
      "2018-05-23 21:50:16,019 : INFO : topic #68 (0.005): 0.015*\"pollen\" + 0.008*\"study\" + 0.008*\"conditions\" + 0.007*\"larvae\" + 0.007*\"ccd\" + 0.007*\"dna\" + 0.007*\"colony\" + 0.006*\"losses\" + 0.006*\"gene\" + 0.006*\"hives\" + 0.005*\"health\" + 0.004*\"larval\" + 0.004*\"colonies\" + 0.004*\"species\" + 0.004*\"used\" + 0.004*\"mellifera\" + 0.004*\"landscape\" + 0.004*\"mortality\" + 0.004*\"thermal\" + 0.004*\"analysis\"\n",
      "2018-05-23 21:50:16,025 : INFO : topic #69 (0.005): 0.015*\"nosema\" + 0.013*\"water\" + 0.012*\"exposure\" + 0.007*\"insecticides\" + 0.007*\"clothianidin\" + 0.006*\"risk\" + 0.006*\"effects\" + 0.006*\"apis\" + 0.006*\"neonicotinoid\" + 0.006*\"study\" + 0.006*\"pollinators\" + 0.005*\"use\" + 0.005*\"carbendazim\" + 0.005*\"impact\" + 0.005*\"environmental\" + 0.005*\"assessment\" + 0.005*\"pesticide\" + 0.005*\"concentrations\" + 0.005*\"also\" + 0.005*\"control\"\n",
      "2018-05-23 21:50:16,026 : INFO : topic #70 (0.005): 0.013*\"nosema\" + 0.013*\"ceranae\" + 0.011*\"colony\" + 0.010*\"effects\" + 0.010*\"n\" + 0.009*\"infection\" + 0.008*\"beekeeping\" + 0.008*\"apis\" + 0.008*\"pesticides\" + 0.006*\"health\" + 0.006*\"level\" + 0.005*\"pollination\" + 0.005*\"animals\" + 0.005*\"studies\" + 0.005*\"males\" + 0.005*\"environment\" + 0.005*\"potential\" + 0.005*\"analysis\" + 0.005*\"physiology\" + 0.005*\"productivity\"\n",
      "2018-05-23 21:50:16,029 : INFO : topic #71 (0.005): 0.025*\"pollen\" + 0.008*\"effects\" + 0.008*\"exposure\" + 0.008*\"study\" + 0.008*\"pesticide\" + 0.008*\"pesticides\" + 0.007*\"insecticides\" + 0.007*\"found\" + 0.007*\"plants\" + 0.007*\"neonicotinoid\" + 0.006*\"environmental\" + 0.006*\"used\" + 0.005*\"crops\" + 0.005*\"mellifera\" + 0.005*\"apis\" + 0.005*\"insecticide\" + 0.005*\"colony\" + 0.005*\"pollinator\" + 0.005*\"foraging\" + 0.004*\"acid\"\n",
      "2018-05-23 21:50:16,033 : INFO : topic #72 (0.005): 0.027*\"virus\" + 0.014*\"mite\" + 0.011*\"destructor\" + 0.010*\"colony\" + 0.009*\"apis\" + 0.009*\"mellifera\" + 0.009*\"varroa\" + 0.008*\"infestation\" + 0.008*\"wireless\" + 0.007*\"detected\" + 0.006*\"colonies\" + 0.006*\"management\" + 0.005*\"host\" + 0.005*\"hmp\" + 0.005*\"environmental\" + 0.005*\"viruses\" + 0.005*\"study\" + 0.005*\"lmp\" + 0.005*\"brood\" + 0.005*\"wing\"\n",
      "2018-05-23 21:50:16,038 : INFO : topic #73 (0.005): 0.013*\"pesticide\" + 0.008*\"animal\" + 0.007*\"nosema\" + 0.007*\"pesticides\" + 0.006*\"samples\" + 0.006*\"may\" + 0.006*\"study\" + 0.006*\"mellifera\" + 0.006*\"activity\" + 0.006*\"mortality\" + 0.006*\"insecticides\" + 0.005*\"pollen\" + 0.005*\"ngg\" + 0.005*\"insecticide\" + 0.005*\"derivative\" + 0.005*\"interactions\" + 0.005*\"detected\" + 0.004*\"apis\" + 0.004*\"exposure\" + 0.004*\"health\"\n",
      "2018-05-23 21:50:16,039 : INFO : topic #74 (0.005): 0.012*\"colonies\" + 0.009*\"pollen\" + 0.007*\"mite\" + 0.007*\"acaricides\" + 0.007*\"colony\" + 0.007*\"queens\" + 0.006*\"pesticide\" + 0.006*\"varroa\" + 0.006*\"found\" + 0.005*\"control\" + 0.005*\"study\" + 0.005*\"queen\" + 0.005*\"pesticides\" + 0.005*\"larvae\" + 0.005*\"effects\" + 0.005*\"tested\" + 0.004*\"animals\" + 0.004*\"fall\" + 0.004*\"nectar\" + 0.004*\"two\"\n",
      "2018-05-23 21:50:16,045 : INFO : topic #75 (0.005): 0.013*\"population\" + 0.012*\"wild\" + 0.010*\"conservation\" + 0.009*\"fumagillin\" + 0.007*\"pollination\" + 0.007*\"derivative\" + 0.007*\"method\" + 0.006*\"effects\" + 0.006*\"tools\" + 0.006*\"diversity\" + 0.006*\"services\" + 0.006*\"pollinators\" + 0.006*\"pesticide\" + 0.005*\"liquid\" + 0.005*\"gene\" + 0.005*\"genetics\" + 0.005*\"time\" + 0.005*\"acid\" + 0.005*\"spectrometry\" + 0.005*\"genetic\"\n",
      "2018-05-23 21:50:16,046 : INFO : topic #76 (0.005): 0.012*\"apis\" + 0.011*\"pollen\" + 0.010*\"colony\" + 0.010*\"n\" + 0.009*\"colonies\" + 0.009*\"nosema\" + 0.007*\"virus\" + 0.007*\"mellifera\" + 0.007*\"memory\" + 0.006*\"may\" + 0.006*\"ceranae\" + 0.006*\"species\" + 0.005*\"learning\" + 0.005*\"effects\" + 0.005*\"agricultural\" + 0.005*\"losses\" + 0.004*\"agriculture\" + 0.004*\"population\" + 0.004*\"exposure\" + 0.004*\"results\"\n",
      "2018-05-23 21:50:16,049 : INFO : topic #77 (0.005): 0.014*\"pollen\" + 0.012*\"varroa\" + 0.010*\"colonies\" + 0.007*\"mellifera\" + 0.007*\"pesticide\" + 0.006*\"mite\" + 0.006*\"mites\" + 0.006*\"nosema\" + 0.006*\"chemical\" + 0.006*\"two\" + 0.006*\"study\" + 0.006*\"food\" + 0.006*\"et\" + 0.006*\"managed\" + 0.006*\"colony\" + 0.005*\"behavior\" + 0.005*\"population\" + 0.005*\"destructor\" + 0.005*\"feral\" + 0.005*\"animals\"\n",
      "2018-05-23 21:50:16,053 : INFO : topic #78 (0.005): 0.014*\"colonies\" + 0.013*\"varroa\" + 0.011*\"species\" + 0.009*\"larvae\" + 0.008*\"gene\" + 0.008*\"bacterial\" + 0.007*\"mites\" + 0.007*\"varroidae\" + 0.006*\"nosema\" + 0.006*\"different\" + 0.006*\"animal\" + 0.006*\"bacteria\" + 0.006*\"presence\" + 0.006*\"animals\" + 0.005*\"study\" + 0.005*\"expression\" + 0.005*\"two\" + 0.005*\"genes\" + 0.005*\"destructor\" + 0.005*\"ceranae\"\n",
      "2018-05-23 21:50:16,056 : INFO : topic #79 (0.005): 0.017*\"pesticides\" + 0.012*\"exposure\" + 0.010*\"environmental\" + 0.009*\"colony\" + 0.009*\"pesticide\" + 0.007*\"effects\" + 0.006*\"health\" + 0.006*\"effect\" + 0.006*\"pollen\" + 0.006*\"risk\" + 0.006*\"larvae\" + 0.006*\"extraction\" + 0.006*\"development\" + 0.006*\"ileum\" + 0.005*\"mortality\" + 0.005*\"clothianidin\" + 0.005*\"diet\" + 0.005*\"dysbiosis\" + 0.005*\"imidacloprid\" + 0.005*\"spectrometry\"\n"
     ]
    },
    {
     "name": "stderr",
     "output_type": "stream",
     "text": [
      "2018-05-23 21:50:16,059 : INFO : topic #80 (0.005): 0.010*\"varroa\" + 0.009*\"colonies\" + 0.007*\"mellifera\" + 0.007*\"species\" + 0.007*\"colony\" + 0.006*\"larvae\" + 0.006*\"pollen\" + 0.006*\"sequence\" + 0.006*\"apis\" + 0.005*\"kbv\" + 0.005*\"pesticide\" + 0.005*\"health\" + 0.005*\"effects\" + 0.005*\"lab\" + 0.005*\"may\" + 0.005*\"insecticides\" + 0.005*\"virus\" + 0.005*\"used\" + 0.005*\"rna\" + 0.005*\"control\"\n",
      "2018-05-23 21:50:16,062 : INFO : topic #81 (0.005): 0.011*\"food\" + 0.008*\"gene\" + 0.008*\"virus\" + 0.008*\"queens\" + 0.007*\"expression\" + 0.007*\"production\" + 0.007*\"industry\" + 0.007*\"population\" + 0.007*\"sustainability\" + 0.006*\"colony\" + 0.006*\"apis\" + 0.006*\"animal\" + 0.006*\"genes\" + 0.006*\"chemical\" + 0.006*\"social\" + 0.006*\"development\" + 0.005*\"immune\" + 0.005*\"pollen\" + 0.005*\"environmental\" + 0.004*\"analysis\"\n",
      "2018-05-23 21:50:16,065 : INFO : topic #82 (0.005): 0.029*\"loss\" + 0.022*\"colony\" + 0.020*\"heart\" + 0.018*\"colonies\" + 0.012*\"octopamine\" + 0.012*\"mellifera\" + 0.011*\"average\" + 0.009*\"apis\" + 0.009*\"beekeepers\" + 0.008*\"respondents\" + 0.008*\"winter\" + 0.007*\"total\" + 0.007*\"phentolamine\" + 0.006*\"reported\" + 0.006*\"fly\" + 0.006*\"flupyradifurone\" + 0.006*\"fruit\" + 0.006*\"higher\" + 0.006*\"number\" + 0.006*\"nectar\"\n",
      "2018-05-23 21:50:16,069 : INFO : topic #83 (0.005): 0.013*\"colonies\" + 0.012*\"colony\" + 0.009*\"pollen\" + 0.008*\"apis\" + 0.008*\"environmental\" + 0.007*\"pesticide\" + 0.007*\"mellifera\" + 0.006*\"effects\" + 0.006*\"animal\" + 0.006*\"pesticides\" + 0.006*\"varroa\" + 0.006*\"mite\" + 0.005*\"exposure\" + 0.005*\"levels\" + 0.004*\"infestation\" + 0.004*\"rates\" + 0.004*\"study\" + 0.004*\"populations\" + 0.004*\"destructor\" + 0.004*\"samples\"\n",
      "2018-05-23 21:50:16,072 : INFO : topic #84 (0.005): 0.009*\"animal\" + 0.009*\"effects\" + 0.008*\"study\" + 0.008*\"colony\" + 0.007*\"colonies\" + 0.006*\"immune\" + 0.006*\"interactions\" + 0.006*\"pesticides\" + 0.006*\"mellifera\" + 0.006*\"nosema\" + 0.006*\"pollen\" + 0.005*\"animals\" + 0.005*\"stress\" + 0.005*\"apis\" + 0.005*\"health\" + 0.005*\"results\" + 0.005*\"exposure\" + 0.005*\"response\" + 0.005*\"mortality\" + 0.005*\"activity\"\n",
      "2018-05-23 21:50:16,075 : INFO : topic #85 (0.005): 0.020*\"effects\" + 0.011*\"risk\" + 0.010*\"study\" + 0.008*\"used\" + 0.008*\"treatment\" + 0.007*\"colony\" + 0.007*\"colonies\" + 0.007*\"varroa\" + 0.007*\"mellifera\" + 0.007*\"extract\" + 0.007*\"destructor\" + 0.007*\"studies\" + 0.006*\"results\" + 0.006*\"thiamethoxam\" + 0.006*\"via\" + 0.006*\"dust\" + 0.006*\"apis\" + 0.006*\"derivative\" + 0.006*\"control\" + 0.006*\"exposure\"\n",
      "2018-05-23 21:50:16,078 : INFO : topic #86 (0.005): 0.011*\"varroa\" + 0.007*\"effects\" + 0.007*\"gene\" + 0.007*\"study\" + 0.006*\"expression\" + 0.006*\"insecticides\" + 0.006*\"learning\" + 0.006*\"destructor\" + 0.006*\"colonies\" + 0.006*\"sensor\" + 0.006*\"analysis\" + 0.005*\"pesticides\" + 0.005*\"risk\" + 0.005*\"residues\" + 0.005*\"nosema\" + 0.005*\"derivative\" + 0.005*\"pesticide\" + 0.004*\"behavior\" + 0.004*\"detection\" + 0.004*\"chromatography\"\n",
      "2018-05-23 21:50:16,079 : INFO : topic #87 (0.005): 0.013*\"animal\" + 0.009*\"insect\" + 0.009*\"expression\" + 0.008*\"mitochondria\" + 0.008*\"control\" + 0.008*\"flight\" + 0.008*\"food\" + 0.007*\"rnai\" + 0.007*\"protein\" + 0.007*\"gene\" + 0.007*\"function\" + 0.007*\"species\" + 0.006*\"pristine\" + 0.006*\"nutritional\" + 0.006*\"genes\" + 0.006*\"rates\" + 0.006*\"metabolism\" + 0.005*\"animals\" + 0.005*\"behavior\" + 0.005*\"exposure\"\n",
      "2018-05-23 21:50:16,082 : INFO : topic #88 (0.005): 0.024*\"protein\" + 0.012*\"pollen\" + 0.010*\"pesticide\" + 0.009*\"pesticides\" + 0.008*\"species\" + 0.008*\"intake\" + 0.007*\"sequence\" + 0.007*\"plant\" + 0.007*\"apis\" + 0.006*\"nutrient\" + 0.006*\"plants\" + 0.005*\"samples\" + 0.005*\"exposure\" + 0.005*\"mitochondrial\" + 0.005*\"method\" + 0.005*\"nutritional\" + 0.005*\"native\" + 0.005*\"study\" + 0.005*\"gene\" + 0.005*\"mellifera\"\n",
      "2018-05-23 21:50:16,086 : INFO : topic #89 (0.005): 0.012*\"virus\" + 0.011*\"colonies\" + 0.009*\"destructor\" + 0.007*\"nosema\" + 0.007*\"health\" + 0.007*\"mite\" + 0.006*\"colony\" + 0.006*\"mellifera\" + 0.006*\"varroa\" + 0.006*\"gene\" + 0.006*\"expression\" + 0.005*\"apis\" + 0.005*\"mites\" + 0.005*\"study\" + 0.005*\"pollen\" + 0.005*\"insect\" + 0.005*\"protein\" + 0.005*\"social\" + 0.005*\"number\" + 0.005*\"food\"\n",
      "2018-05-23 21:50:16,092 : INFO : topic #90 (0.005): 0.015*\"colonies\" + 0.011*\"lactobacillus\" + 0.009*\"colony\" + 0.009*\"acid\" + 0.008*\"pesticide\" + 0.007*\"protein\" + 0.007*\"animal\" + 0.006*\"bifidobacterium\" + 0.006*\"health\" + 0.006*\"pesticides\" + 0.006*\"effects\" + 0.006*\"use\" + 0.006*\"intake\" + 0.005*\"probiotics\" + 0.005*\"sugar\" + 0.005*\"apis\" + 0.005*\"article\" + 0.005*\"animals\" + 0.005*\"mellifera\" + 0.005*\"disease\"\n",
      "2018-05-23 21:50:16,092 : INFO : topic #91 (0.005): 0.008*\"apis\" + 0.007*\"mellifera\" + 0.007*\"varroa\" + 0.007*\"species\" + 0.006*\"populations\" + 0.006*\"mites\" + 0.005*\"data\" + 0.005*\"colonies\" + 0.005*\"stress\" + 0.005*\"immune\" + 0.005*\"mite\" + 0.005*\"analysis\" + 0.005*\"colony\" + 0.005*\"found\" + 0.005*\"bacteria\" + 0.005*\"factors\" + 0.004*\"study\" + 0.004*\"may\" + 0.004*\"cell\" + 0.004*\"pesticides\"\n",
      "2018-05-23 21:50:16,096 : INFO : topic #92 (0.005): 0.011*\"pollen\" + 0.010*\"effects\" + 0.009*\"exposure\" + 0.008*\"animal\" + 0.007*\"apis\" + 0.006*\"colony\" + 0.006*\"learning\" + 0.005*\"mellifera\" + 0.005*\"used\" + 0.005*\"study\" + 0.005*\"oilseed\" + 0.005*\"memory\" + 0.005*\"rice\" + 0.005*\"colonies\" + 0.005*\"protein\" + 0.004*\"atrazine\" + 0.004*\"rape\" + 0.004*\"control\" + 0.004*\"neonicotinoid\" + 0.004*\"animals\"\n",
      "2018-05-23 21:50:16,099 : INFO : topic #93 (0.005): 0.015*\"pesticide\" + 0.011*\"colony\" + 0.010*\"use\" + 0.010*\"united\" + 0.009*\"states\" + 0.009*\"animal\" + 0.008*\"health\" + 0.007*\"species\" + 0.007*\"body\" + 0.007*\"pesticides\" + 0.007*\"effects\" + 0.006*\"development\" + 0.006*\"risk\" + 0.006*\"behavior\" + 0.006*\"adult\" + 0.006*\"environmental\" + 0.006*\"sublethal\" + 0.006*\"stingless\" + 0.006*\"survival\" + 0.005*\"ccd\"\n",
      "2018-05-23 21:50:16,104 : INFO : topic #94 (0.005): 0.017*\"colonies\" + 0.015*\"nosema\" + 0.012*\"mellifera\" + 0.011*\"treatment\" + 0.010*\"apis\" + 0.009*\"morphometric\" + 0.007*\"imidacloprid\" + 0.006*\"differences\" + 0.006*\"insecticides\" + 0.006*\"virus\" + 0.006*\"expression\" + 0.006*\"ceranae\" + 0.005*\"genetic\" + 0.005*\"insecticide\" + 0.005*\"solar\" + 0.005*\"fumagillin\" + 0.005*\"showed\" + 0.005*\"gene\" + 0.005*\"mortality\" + 0.005*\"destructor\"\n",
      "2018-05-23 21:50:16,105 : INFO : topic #95 (0.005): 0.016*\"virus\" + 0.011*\"varroa\" + 0.009*\"study\" + 0.008*\"pressures\" + 0.007*\"policy\" + 0.007*\"gene\" + 0.006*\"pollinators\" + 0.006*\"driving\" + 0.006*\"development\" + 0.006*\"use\" + 0.006*\"rna\" + 0.005*\"apis\" + 0.005*\"queens\" + 0.005*\"agricultural\" + 0.005*\"analysis\" + 0.005*\"pollinator\" + 0.005*\"destructor\" + 0.005*\"rural\" + 0.005*\"insect\" + 0.005*\"data\"\n",
      "2018-05-23 21:50:16,108 : INFO : topic #96 (0.005): 0.021*\"pesticide\" + 0.011*\"pesticides\" + 0.009*\"exposure\" + 0.009*\"bombus\" + 0.008*\"animal\" + 0.008*\"behavior\" + 0.007*\"mass\" + 0.007*\"chromatography\" + 0.007*\"spectrometry\" + 0.006*\"chlorpyrifos\" + 0.006*\"beeswax\" + 0.006*\"carbendazim\" + 0.006*\"effects\" + 0.006*\"drug\" + 0.006*\"resins\" + 0.006*\"colony\" + 0.006*\"propolis\" + 0.005*\"used\" + 0.005*\"also\" + 0.005*\"effect\"\n",
      "2018-05-23 21:50:16,109 : INFO : topic #97 (0.005): 0.014*\"pollen\" + 0.011*\"virus\" + 0.009*\"colony\" + 0.008*\"may\" + 0.007*\"mellifera\" + 0.007*\"colonies\" + 0.007*\"apis\" + 0.007*\"foraging\" + 0.007*\"effects\" + 0.006*\"immune\" + 0.006*\"behavior\" + 0.006*\"l\" + 0.006*\"forage\" + 0.006*\"nectar\" + 0.006*\"life\" + 0.005*\"infection\" + 0.005*\"mortality\" + 0.004*\"food\" + 0.004*\"gene\" + 0.004*\"workers\"\n",
      "2018-05-23 21:50:16,114 : INFO : topic #98 (0.005): 0.016*\"pesticides\" + 0.015*\"virus\" + 0.012*\"antiviral\" + 0.012*\"pesticide\" + 0.010*\"mortality\" + 0.009*\"apis\" + 0.009*\"conditions\" + 0.009*\"mellifera\" + 0.008*\"response\" + 0.008*\"environmental\" + 0.008*\"risk\" + 0.008*\"assessment\" + 0.007*\"eg\" + 0.007*\"health\" + 0.007*\"toxicity\" + 0.007*\"mite\" + 0.007*\"defense\" + 0.007*\"factors\" + 0.007*\"test\" + 0.006*\"infestation\"\n",
      "2018-05-23 21:50:16,118 : INFO : topic #99 (0.005): 0.010*\"species\" + 0.010*\"compounds\" + 0.009*\"potential\" + 0.008*\"colony\" + 0.008*\"varroa\" + 0.007*\"mellifera\" + 0.007*\"forager\" + 0.007*\"immune\" + 0.007*\"virus\" + 0.006*\"apis\" + 0.006*\"animal\" + 0.006*\"environmental\" + 0.005*\"mites\" + 0.005*\"model\" + 0.005*\"gene\" + 0.005*\"cerana\" + 0.005*\"host\" + 0.005*\"mite\" + 0.005*\"rate\" + 0.005*\"control\"\n"
     ]
    },
    {
     "name": "stderr",
     "output_type": "stream",
     "text": [
      "2018-05-23 21:50:16,121 : INFO : topic #100 (0.005): 0.011*\"colony\" + 0.008*\"mellifera\" + 0.007*\"varroa\" + 0.007*\"pollen\" + 0.007*\"cell\" + 0.006*\"rna\" + 0.006*\"sequence\" + 0.006*\"pesticides\" + 0.006*\"may\" + 0.005*\"losses\" + 0.005*\"apis\" + 0.005*\"dna\" + 0.005*\"effects\" + 0.005*\"analysis\" + 0.004*\"study\" + 0.004*\"virus\" + 0.004*\"gene\" + 0.004*\"conditions\" + 0.004*\"genetic\" + 0.004*\"using\"\n",
      "2018-05-23 21:50:16,124 : INFO : topic #101 (0.005): 0.010*\"pollen\" + 0.007*\"protein\" + 0.007*\"sequence\" + 0.007*\"acid\" + 0.007*\"presence\" + 0.007*\"gene\" + 0.006*\"insect\" + 0.006*\"apis\" + 0.005*\"dna\" + 0.005*\"animal\" + 0.005*\"study\" + 0.005*\"analysis\" + 0.005*\"colonies\" + 0.005*\"mellifera\" + 0.005*\"behavior\" + 0.005*\"oxalic\" + 0.004*\"control\" + 0.004*\"varroa\" + 0.004*\"destructor\" + 0.004*\"species\"\n",
      "2018-05-23 21:50:16,127 : INFO : topic #102 (0.005): 0.016*\"colonies\" + 0.014*\"colony\" + 0.014*\"ci\" + 0.013*\"losses\" + 0.012*\"winter\" + 0.012*\"beekeepers\" + 0.012*\"varroa\" + 0.009*\"mortality\" + 0.009*\"rates\" + 0.008*\"infestation\" + 0.008*\"loss\" + 0.008*\"destructor\" + 0.007*\"total\" + 0.007*\"mellifera\" + 0.006*\"apis\" + 0.006*\"data\" + 0.006*\"levels\" + 0.006*\"summer\" + 0.006*\"average\" + 0.006*\"study\"\n",
      "2018-05-23 21:50:16,131 : INFO : topic #103 (0.005): 0.017*\"colonies\" + 0.012*\"colony\" + 0.011*\"mites\" + 0.008*\"population\" + 0.007*\"virus\" + 0.007*\"animal\" + 0.006*\"female\" + 0.006*\"dwv\" + 0.006*\"mellifera\" + 0.006*\"pesticides\" + 0.006*\"male\" + 0.005*\"varroa\" + 0.005*\"mite\" + 0.005*\"spermatozoa\" + 0.005*\"health\" + 0.005*\"genetic\" + 0.005*\"acaricide\" + 0.004*\"control\" + 0.004*\"may\" + 0.004*\"important\"\n",
      "2018-05-23 21:50:16,134 : INFO : topic #104 (0.005): 0.014*\"virus\" + 0.013*\"nosema\" + 0.011*\"colonies\" + 0.011*\"pollen\" + 0.011*\"plants\" + 0.011*\"apis\" + 0.009*\"mellifera\" + 0.009*\"samples\" + 0.007*\"ceranae\" + 0.007*\"paralysis\" + 0.005*\"high\" + 0.005*\"used\" + 0.005*\"species\" + 0.005*\"acute\" + 0.004*\"host\" + 0.004*\"three\" + 0.004*\"levels\" + 0.004*\"maize\" + 0.004*\"colony\" + 0.004*\"varroa\"\n",
      "2018-05-23 21:50:16,138 : INFO : topic #105 (0.005): 0.012*\"apis\" + 0.011*\"effects\" + 0.009*\"mellifera\" + 0.009*\"nosema\" + 0.007*\"species\" + 0.007*\"pollen\" + 0.006*\"sublethal\" + 0.006*\"insecticides\" + 0.006*\"varroa\" + 0.006*\"risk\" + 0.006*\"colonies\" + 0.006*\"population\" + 0.006*\"pesticide\" + 0.005*\"colony\" + 0.005*\"assessment\" + 0.005*\"populations\" + 0.005*\"pollinator\" + 0.005*\"exposure\" + 0.005*\"study\" + 0.004*\"results\"\n",
      "2018-05-23 21:50:16,141 : INFO : topic #106 (0.005): 0.015*\"pollen\" + 0.011*\"nectar\" + 0.010*\"apis\" + 0.009*\"mellifera\" + 0.009*\"colony\" + 0.008*\"colonies\" + 0.007*\"heart\" + 0.006*\"samples\" + 0.006*\"nosema\" + 0.005*\"found\" + 0.005*\"hive\" + 0.005*\"effects\" + 0.005*\"residues\" + 0.005*\"virus\" + 0.005*\"octopamine\" + 0.005*\"insect\" + 0.005*\"risk\" + 0.005*\"seed\" + 0.004*\"crop\" + 0.004*\"sequence\"\n",
      "2018-05-23 21:50:16,142 : INFO : topic #107 (0.005): 0.020*\"virus\" + 0.014*\"colony\" + 0.013*\"colonies\" + 0.012*\"nosema\" + 0.007*\"mite\" + 0.007*\"varroa\" + 0.007*\"apis\" + 0.006*\"dwv\" + 0.006*\"effects\" + 0.005*\"mellifera\" + 0.005*\"animal\" + 0.005*\"deformed\" + 0.005*\"survival\" + 0.005*\"study\" + 0.005*\"adult\" + 0.004*\"health\" + 0.004*\"wing\" + 0.004*\"varroidae\" + 0.004*\"behavior\" + 0.004*\"animals\"\n",
      "2018-05-23 21:50:16,148 : INFO : topic #108 (0.005): 0.020*\"colonies\" + 0.010*\"effects\" + 0.010*\"mellifera\" + 0.010*\"mite\" + 0.008*\"varroa\" + 0.008*\"arv1\" + 0.007*\"found\" + 0.006*\"virus\" + 0.006*\"apis\" + 0.006*\"rates\" + 0.006*\"viruses\" + 0.006*\"adult\" + 0.006*\"species\" + 0.006*\"policy\" + 0.006*\"destructor\" + 0.005*\"infestation\" + 0.005*\"bt\" + 0.005*\"research\" + 0.005*\"cells\" + 0.004*\"study\"\n",
      "2018-05-23 21:50:16,151 : INFO : topic #109 (0.005): 0.008*\"pollination\" + 0.008*\"infant\" + 0.008*\"environmental\" + 0.008*\"species\" + 0.007*\"pesticide\" + 0.007*\"insecticides\" + 0.007*\"botulism\" + 0.007*\"mellifera\" + 0.007*\"apis\" + 0.006*\"pollen\" + 0.006*\"exposure\" + 0.006*\"wild\" + 0.006*\"development\" + 0.005*\"effects\" + 0.005*\"animals\" + 0.005*\"colony\" + 0.005*\"gut\" + 0.005*\"risk\" + 0.005*\"protein\" + 0.005*\"may\"\n",
      "2018-05-23 21:50:16,154 : INFO : topic #110 (0.005): 0.010*\"pollen\" + 0.010*\"larvae\" + 0.010*\"gene\" + 0.009*\"chlorpyrifos\" + 0.008*\"study\" + 0.008*\"exposure\" + 0.007*\"genes\" + 0.007*\"genetic\" + 0.006*\"mellifera\" + 0.006*\"ops\" + 0.006*\"atrazine\" + 0.006*\"fluids\" + 0.006*\"analysis\" + 0.005*\"sequence\" + 0.005*\"colony\" + 0.005*\"p450\" + 0.005*\"apis\" + 0.005*\"pesticide\" + 0.005*\"larva\" + 0.005*\"growth\"\n",
      "2018-05-23 21:50:16,158 : INFO : topic #111 (0.005): 0.018*\"pollen\" + 0.013*\"g1\" + 0.012*\"pg\" + 0.010*\"species\" + 0.009*\"study\" + 0.009*\"resources\" + 0.008*\"diversity\" + 0.008*\"resource\" + 0.007*\"pesticide\" + 0.007*\"insecticides\" + 0.007*\"may\" + 0.006*\"plant\" + 0.006*\"stress\" + 0.006*\"different\" + 0.006*\"however\" + 0.006*\"highest\" + 0.005*\"rapeseed\" + 0.005*\"abundance\" + 0.005*\"observed\" + 0.005*\"poland\"\n",
      "2018-05-23 21:50:16,161 : INFO : topic #112 (0.005): 0.016*\"colony\" + 0.015*\"aspergillus\" + 0.015*\"land\" + 0.009*\"spp\" + 0.008*\"colonies\" + 0.007*\"larvae\" + 0.007*\"species\" + 0.007*\"cover\" + 0.006*\"adult\" + 0.006*\"animals\" + 0.006*\"losses\" + 0.005*\"strains\" + 0.005*\"use\" + 0.005*\"mellifera\" + 0.005*\"apiaries\" + 0.005*\"study\" + 0.005*\"apiary\" + 0.005*\"worker\" + 0.005*\"associated\" + 0.005*\"high\"\n",
      "2018-05-23 21:50:16,164 : INFO : topic #113 (0.005): 0.018*\"effects\" + 0.008*\"species\" + 0.007*\"animal\" + 0.007*\"exposure\" + 0.007*\"studies\" + 0.006*\"neonicotinoids\" + 0.006*\"study\" + 0.006*\"analysis\" + 0.006*\"drug\" + 0.006*\"managed\" + 0.006*\"native\" + 0.005*\"insecticides\" + 0.005*\"genes\" + 0.005*\"wild\" + 0.005*\"mellifera\" + 0.005*\"animals\" + 0.005*\"atrazine\" + 0.005*\"derivative\" + 0.005*\"thiamethoxam\" + 0.005*\"genetic\"\n",
      "2018-05-23 21:50:16,171 : INFO : topic #114 (0.005): 0.023*\"nosema\" + 0.012*\"apis\" + 0.009*\"varroa\" + 0.009*\"pesticides\" + 0.008*\"ceranae\" + 0.008*\"method\" + 0.007*\"mellifera\" + 0.007*\"gas\" + 0.007*\"chromatography\" + 0.007*\"extraction\" + 0.007*\"results\" + 0.006*\"pesticide\" + 0.006*\"samples\" + 0.006*\"poisoning\" + 0.006*\"analysis\" + 0.005*\"bulgaria\" + 0.005*\"toxicity\" + 0.005*\"acaricide\" + 0.005*\"populations\" + 0.005*\"mite\"\n",
      "2018-05-23 21:50:16,176 : INFO : topic #115 (0.005): 0.020*\"mg100\" + 0.017*\"mg\" + 0.014*\"metabolism\" + 0.013*\"nicotine\" + 0.012*\"content\" + 0.012*\"stress\" + 0.010*\"pesticide\" + 0.009*\"pesticides\" + 0.009*\"protein\" + 0.009*\"glycogen\" + 0.009*\"energetic\" + 0.008*\"drug\" + 0.008*\"cytochrome\" + 0.008*\"detoxification\" + 0.007*\"major\" + 0.006*\"lipid\" + 0.006*\"energy\" + 0.006*\"among\" + 0.006*\"nectar\" + 0.005*\"body\"\n",
      "2018-05-23 21:50:16,178 : INFO : topic #116 (0.005): 0.011*\"genome\" + 0.011*\"genes\" + 0.011*\"virus\" + 0.010*\"nosema\" + 0.009*\"expression\" + 0.008*\"gene\" + 0.008*\"pollen\" + 0.008*\"study\" + 0.006*\"animal\" + 0.006*\"species\" + 0.006*\"iapv\" + 0.005*\"immune\" + 0.005*\"mortality\" + 0.005*\"capsid\" + 0.005*\"host\" + 0.005*\"larvae\" + 0.005*\"analysis\" + 0.005*\"apis\" + 0.004*\"pesticides\" + 0.004*\"proteins\"\n",
      "2018-05-23 21:50:16,181 : INFO : topic #117 (0.005): 0.012*\"apis\" + 0.011*\"nosema\" + 0.009*\"ceranae\" + 0.008*\"varroa\" + 0.008*\"mellifera\" + 0.007*\"mites\" + 0.007*\"animal\" + 0.007*\"brood\" + 0.006*\"effects\" + 0.006*\"population\" + 0.006*\"n\" + 0.005*\"viruses\" + 0.005*\"species\" + 0.005*\"article\" + 0.005*\"virus\" + 0.005*\"colonies\" + 0.005*\"may\" + 0.005*\"drug\" + 0.004*\"protein\" + 0.004*\"mite\"\n",
      "2018-05-23 21:50:16,186 : INFO : topic #118 (0.005): 0.012*\"acid\" + 0.011*\"lab\" + 0.010*\"climate\" + 0.010*\"food\" + 0.009*\"growth\" + 0.008*\"apis\" + 0.007*\"larvae\" + 0.006*\"varroa\" + 0.006*\"mellifera\" + 0.006*\"mortality\" + 0.006*\"data\" + 0.005*\"pollen\" + 0.005*\"study\" + 0.005*\"pesticides\" + 0.005*\"inhibition\" + 0.005*\"pollens\" + 0.005*\"paenibacillus\" + 0.004*\"health\" + 0.004*\"winter\" + 0.004*\"two\"\n",
      "2018-05-23 21:50:16,188 : INFO : topic #119 (0.005): 0.012*\"effects\" + 0.012*\"species\" + 0.011*\"nosema\" + 0.010*\"protein\" + 0.009*\"flowering\" + 0.009*\"pesticides\" + 0.009*\"flower\" + 0.007*\"nectar\" + 0.007*\"andrena\" + 0.006*\"impact\" + 0.006*\"pesticide\" + 0.006*\"pollen\" + 0.006*\"flies\" + 0.006*\"sublethal\" + 0.006*\"apis\" + 0.006*\"plants\" + 0.005*\"insect\" + 0.005*\"salix\" + 0.005*\"spp\" + 0.005*\"flowers\"\n",
      "2018-05-23 21:50:16,191 : INFO : topic #120 (0.005): 0.013*\"research\" + 0.008*\"transgenic\" + 0.007*\"ccd\" + 0.007*\"pollinator\" + 0.007*\"flowers\" + 0.007*\"may\" + 0.006*\"stress\" + 0.006*\"genomes\" + 0.006*\"colonies\" + 0.006*\"crops\" + 0.005*\"pesticide\" + 0.005*\"will\" + 0.005*\"million\" + 0.005*\"asymmetry\" + 0.005*\"pollination\" + 0.005*\"toxicity\" + 0.004*\"study\" + 0.004*\"ceranae\" + 0.004*\"organisms\" + 0.004*\"nosema\"\n"
     ]
    },
    {
     "name": "stderr",
     "output_type": "stream",
     "text": [
      "2018-05-23 21:50:16,197 : INFO : topic #121 (0.005): 0.011*\"colony\" + 0.010*\"land\" + 0.008*\"pollen\" + 0.007*\"use\" + 0.007*\"colonies\" + 0.007*\"apis\" + 0.007*\"mellifera\" + 0.007*\"cover\" + 0.006*\"effects\" + 0.006*\"maps\" + 0.006*\"ecosystem\" + 0.005*\"health\" + 0.005*\"ccd\" + 0.005*\"varroa\" + 0.005*\"virus\" + 0.005*\"two\" + 0.005*\"also\" + 0.004*\"propolis\" + 0.004*\"animal\" + 0.004*\"nosema\"\n",
      "2018-05-23 21:50:16,201 : INFO : topic #122 (0.005): 0.019*\"pollen\" + 0.014*\"effects\" + 0.013*\"aspergillus\" + 0.010*\"pollens\" + 0.009*\"diet\" + 0.008*\"neonicotinoid\" + 0.007*\"drug\" + 0.007*\"colonies\" + 0.007*\"fumigatus\" + 0.006*\"derivative\" + 0.006*\"animal\" + 0.006*\"effect\" + 0.006*\"interactions\" + 0.006*\"used\" + 0.006*\"parasite\" + 0.005*\"colony\" + 0.005*\"reproduction\" + 0.005*\"toxicity\" + 0.005*\"dna\" + 0.005*\"animals\"\n",
      "2018-05-23 21:50:16,204 : INFO : topic #123 (0.005): 0.013*\"tradeoffs\" + 0.012*\"dcas\" + 0.010*\"virus\" + 0.009*\"infection\" + 0.008*\"pesticide\" + 0.008*\"locations\" + 0.007*\"drones\" + 0.007*\"risk\" + 0.006*\"rico\" + 0.006*\"puerto\" + 0.006*\"nosema\" + 0.006*\"article\" + 0.006*\"associated\" + 0.006*\"presence\" + 0.006*\"social\" + 0.006*\"male\" + 0.006*\"pesticides\" + 0.005*\"behavior\" + 0.005*\"found\" + 0.005*\"effects\"\n",
      "2018-05-23 21:50:16,207 : INFO : topic #124 (0.005): 0.014*\"pollination\" + 0.010*\"mellifera\" + 0.010*\"demand\" + 0.009*\"systems\" + 0.009*\"supply\" + 0.007*\"pollen\" + 0.007*\"dna\" + 0.007*\"factors\" + 0.007*\"disease\" + 0.007*\"guts\" + 0.007*\"surveillance\" + 0.006*\"risk\" + 0.006*\"colonies\" + 0.006*\"species\" + 0.006*\"apis\" + 0.006*\"colony\" + 0.006*\"analysis\" + 0.005*\"high\" + 0.005*\"crop\" + 0.005*\"otus\"\n",
      "2018-05-23 21:50:16,210 : INFO : topic #125 (0.005): 0.023*\"virus\" + 0.017*\"insect\" + 0.010*\"viruses\" + 0.009*\"varroidae\" + 0.009*\"apis\" + 0.009*\"pupae\" + 0.009*\"study\" + 0.008*\"using\" + 0.007*\"rna\" + 0.007*\"sbpv\" + 0.006*\"exposure\" + 0.006*\"mite\" + 0.006*\"transmission\" + 0.006*\"field\" + 0.006*\"dead\" + 0.006*\"infected\" + 0.005*\"unigenes\" + 0.005*\"sequencing\" + 0.005*\"colonies\" + 0.005*\"animals\"\n",
      "2018-05-23 21:50:16,213 : INFO : topic #126 (0.005): 0.016*\"species\" + 0.013*\"apis\" + 0.011*\"mellifera\" + 0.010*\"mortality\" + 0.010*\"toxicity\" + 0.007*\"chemicals\" + 0.007*\"differences\" + 0.006*\"exposure\" + 0.006*\"colony\" + 0.006*\"pollen\" + 0.006*\"virus\" + 0.006*\"used\" + 0.006*\"effect\" + 0.006*\"activity\" + 0.005*\"flowering\" + 0.005*\"nosema\" + 0.005*\"dch\" + 0.005*\"piles\" + 0.005*\"pesticide\" + 0.004*\"may\"\n",
      "2018-05-23 21:50:16,216 : INFO : topic #127 (0.005): 0.017*\"mellifera\" + 0.012*\"apis\" + 0.011*\"colonies\" + 0.010*\"colony\" + 0.009*\"mites\" + 0.008*\"varroa\" + 0.008*\"m\" + 0.006*\"losses\" + 0.006*\"beekeepers\" + 0.005*\"health\" + 0.005*\"analysis\" + 0.005*\"study\" + 0.005*\"virus\" + 0.004*\"may\" + 0.004*\"crops\" + 0.004*\"pesticide\" + 0.004*\"declines\" + 0.004*\"toxicity\" + 0.004*\"acaricides\" + 0.004*\"drug\"\n",
      "2018-05-23 21:50:16,219 : INFO : topic #128 (0.005): 0.020*\"virus\" + 0.014*\"colony\" + 0.009*\"pollination\" + 0.008*\"queen\" + 0.008*\"apis\" + 0.008*\"health\" + 0.006*\"crop\" + 0.006*\"mellifera\" + 0.005*\"larvae\" + 0.005*\"study\" + 0.004*\"effects\" + 0.004*\"pesticides\" + 0.004*\"bacteria\" + 0.004*\"used\" + 0.004*\"disease\" + 0.004*\"pathogens\" + 0.004*\"colonies\" + 0.004*\"factors\" + 0.004*\"monitoring\" + 0.004*\"environmental\"\n",
      "2018-05-23 21:50:16,223 : INFO : topic #129 (0.005): 0.012*\"species\" + 0.012*\"pollen\" + 0.010*\"virus\" + 0.007*\"colony\" + 0.007*\"pesticides\" + 0.006*\"may\" + 0.005*\"mellifera\" + 0.005*\"apis\" + 0.005*\"health\" + 0.005*\"food\" + 0.005*\"high\" + 0.005*\"rna\" + 0.005*\"protein\" + 0.004*\"analysis\" + 0.004*\"insect\" + 0.004*\"used\" + 0.004*\"management\" + 0.004*\"plants\" + 0.004*\"bombus\" + 0.004*\"interactions\"\n",
      "2018-05-23 21:50:16,224 : INFO : topic #130 (0.005): 0.017*\"pollen\" + 0.011*\"virus\" + 0.011*\"quality\" + 0.010*\"colony\" + 0.010*\"mite\" + 0.009*\"varroa\" + 0.008*\"colonies\" + 0.008*\"health\" + 0.006*\"mortality\" + 0.006*\"foraging\" + 0.006*\"destructor\" + 0.005*\"monitoring\" + 0.005*\"infestation\" + 0.005*\"effects\" + 0.005*\"nutritional\" + 0.005*\"higher\" + 0.005*\"pesticides\" + 0.005*\"viruses\" + 0.005*\"study\" + 0.005*\"population\"\n",
      "2018-05-23 21:50:16,226 : INFO : topic #131 (0.005): 0.010*\"colony\" + 0.008*\"pesticides\" + 0.008*\"expression\" + 0.008*\"colonies\" + 0.007*\"current\" + 0.007*\"study\" + 0.007*\"insecticides\" + 0.007*\"exposure\" + 0.007*\"gene\" + 0.007*\"imidacloprid\" + 0.006*\"sodium\" + 0.006*\"effects\" + 0.006*\"virus\" + 0.006*\"mellifera\" + 0.006*\"metabolism\" + 0.005*\"pathogens\" + 0.005*\"apis\" + 0.005*\"detoxification\" + 0.005*\"insecticide\" + 0.005*\"insect\"\n",
      "2018-05-23 21:50:16,230 : INFO : topic #132 (0.005): 0.018*\"colony\" + 0.012*\"losses\" + 0.007*\"apis\" + 0.007*\"colonies\" + 0.006*\"study\" + 0.006*\"mellifera\" + 0.006*\"species\" + 0.006*\"virus\" + 0.005*\"gut\" + 0.005*\"winter\" + 0.005*\"animals\" + 0.005*\"analysis\" + 0.004*\"glands\" + 0.004*\"ci\" + 0.004*\"genetic\" + 0.004*\"population\" + 0.004*\"pesticide\" + 0.004*\"host\" + 0.004*\"gene\" + 0.004*\"agricultural\"\n",
      "2018-05-23 21:50:16,233 : INFO : topic #133 (0.005): 0.011*\"exposure\" + 0.008*\"virus\" + 0.007*\"colony\" + 0.007*\"study\" + 0.007*\"range\" + 0.006*\"biological\" + 0.006*\"mass\" + 0.006*\"extraction\" + 0.006*\"nosema\" + 0.006*\"thiamethoxam\" + 0.005*\"social\" + 0.005*\"enzyme\" + 0.005*\"activity\" + 0.005*\"apis\" + 0.005*\"environmental\" + 0.005*\"effects\" + 0.005*\"animal\" + 0.005*\"species\" + 0.005*\"sublethal\" + 0.005*\"mellifera\"\n",
      "2018-05-23 21:50:16,236 : INFO : topic #134 (0.005): 0.015*\"virus\" + 0.013*\"colonies\" + 0.013*\"colony\" + 0.012*\"losses\" + 0.011*\"apis\" + 0.010*\"varroa\" + 0.009*\"mellifera\" + 0.007*\"temperature\" + 0.007*\"winter\" + 0.006*\"destructor\" + 0.006*\"viruses\" + 0.006*\"viral\" + 0.006*\"effects\" + 0.005*\"high\" + 0.005*\"may\" + 0.005*\"new\" + 0.005*\"thiamethoxam\" + 0.005*\"mortality\" + 0.004*\"mites\" + 0.004*\"nosema\"\n",
      "2018-05-23 21:50:16,237 : INFO : topic #135 (0.005): 0.013*\"larvae\" + 0.012*\"gene\" + 0.009*\"p\" + 0.009*\"virus\" + 0.008*\"sugar\" + 0.008*\"host\" + 0.008*\"iapv\" + 0.008*\"colonies\" + 0.008*\"rna\" + 0.008*\"bacillibactin\" + 0.007*\"siderophore\" + 0.006*\"infestation\" + 0.006*\"paenibacillus\" + 0.006*\"pollen\" + 0.006*\"colony\" + 0.006*\"destructor\" + 0.006*\"dusting\" + 0.006*\"expression\" + 0.006*\"degree\" + 0.005*\"analysis\"\n",
      "2018-05-23 21:50:16,242 : INFO : topic #136 (0.005): 0.013*\"pollen\" + 0.008*\"analysis\" + 0.008*\"colony\" + 0.008*\"fungicides\" + 0.007*\"varroa\" + 0.007*\"males\" + 0.006*\"pesticide\" + 0.006*\"species\" + 0.006*\"residues\" + 0.006*\"mortality\" + 0.005*\"mites\" + 0.005*\"destructor\" + 0.005*\"associated\" + 0.004*\"levels\" + 0.004*\"behavior\" + 0.004*\"virus\" + 0.004*\"animal\" + 0.004*\"studies\" + 0.004*\"colonies\" + 0.004*\"rna\"\n",
      "2018-05-23 21:50:16,244 : INFO : topic #137 (0.005): 0.012*\"mellifera\" + 0.012*\"colonies\" + 0.011*\"virus\" + 0.009*\"control\" + 0.009*\"varroa\" + 0.008*\"colony\" + 0.007*\"infection\" + 0.007*\"apis\" + 0.006*\"disease\" + 0.006*\"social\" + 0.006*\"n\" + 0.006*\"mite\" + 0.005*\"biological\" + 0.005*\"study\" + 0.005*\"pathogen\" + 0.005*\"host\" + 0.005*\"ceranae\" + 0.004*\"viruses\" + 0.004*\"immunity\" + 0.004*\"feral\"\n",
      "2018-05-23 21:50:16,246 : INFO : topic #138 (0.005): 0.018*\"acid\" + 0.013*\"pollen\" + 0.012*\"varroa\" + 0.011*\"effects\" + 0.009*\"fatty\" + 0.008*\"virus\" + 0.008*\"study\" + 0.007*\"nosema\" + 0.007*\"results\" + 0.007*\"mortality\" + 0.006*\"infection\" + 0.006*\"samples\" + 0.006*\"acids\" + 0.006*\"colony\" + 0.006*\"dust\" + 0.006*\"sowing\" + 0.006*\"mite\" + 0.005*\"animal\" + 0.005*\"sensitivity\" + 0.004*\"level\"\n",
      "2018-05-23 21:50:16,249 : INFO : topic #139 (0.005): 0.013*\"brood\" + 0.013*\"colonies\" + 0.012*\"health\" + 0.011*\"varroa\" + 0.009*\"animal\" + 0.009*\"pesticides\" + 0.007*\"environment\" + 0.006*\"study\" + 0.006*\"behavior\" + 0.006*\"colony\" + 0.006*\"genetic\" + 0.006*\"cerana\" + 0.006*\"mellifera\" + 0.005*\"exposure\" + 0.005*\"vsh\" + 0.005*\"removal\" + 0.005*\"resistance\" + 0.005*\"contribute\" + 0.005*\"phenotype\" + 0.005*\"two\"\n",
      "2018-05-23 21:50:16,253 : INFO : topic #140 (0.005): 0.011*\"colony\" + 0.010*\"colonies\" + 0.010*\"mortality\" + 0.010*\"neonicotinoid\" + 0.009*\"apis\" + 0.009*\"pollen\" + 0.009*\"insecticides\" + 0.007*\"spectrometry\" + 0.007*\"mellifera\" + 0.007*\"method\" + 0.007*\"samples\" + 0.006*\"mass\" + 0.005*\"nosema\" + 0.005*\"loss\" + 0.005*\"extraction\" + 0.005*\"chromatography\" + 0.005*\"liquid\" + 0.005*\"two\" + 0.005*\"corn\" + 0.005*\"ceranae\"\n",
      "2018-05-23 21:50:16,256 : INFO : topic #141 (0.005): 0.019*\"pollen\" + 0.012*\"colony\" + 0.009*\"pesticides\" + 0.009*\"environmental\" + 0.008*\"colonies\" + 0.007*\"pesticide\" + 0.007*\"analysis\" + 0.006*\"animal\" + 0.006*\"imidacloprid\" + 0.006*\"mellifera\" + 0.005*\"effects\" + 0.005*\"treatment\" + 0.005*\"behavior\" + 0.005*\"study\" + 0.005*\"mortality\" + 0.005*\"sonication\" + 0.004*\"apis\" + 0.004*\"pollination\" + 0.004*\"apoidea\" + 0.004*\"method\"\n"
     ]
    },
    {
     "name": "stderr",
     "output_type": "stream",
     "text": [
      "2018-05-23 21:50:16,259 : INFO : topic #142 (0.005): 0.026*\"gis\" + 0.020*\"residues\" + 0.013*\"pesticide\" + 0.012*\"pesticides\" + 0.012*\"spatial\" + 0.009*\"samples\" + 0.007*\"wild\" + 0.007*\"research\" + 0.007*\"males\" + 0.007*\"used\" + 0.007*\"apis\" + 0.006*\"ppm\" + 0.006*\"analyses\" + 0.006*\"time\" + 0.006*\"decrease\" + 0.006*\"will\" + 0.006*\"geographic\" + 0.006*\"paper\" + 0.005*\"light\" + 0.005*\"pollen\"\n",
      "2018-05-23 21:50:16,260 : INFO : topic #143 (0.005): 0.011*\"effects\" + 0.009*\"imidacloprid\" + 0.007*\"toxicity\" + 0.007*\"concentrations\" + 0.007*\"gene\" + 0.007*\"insecticides\" + 0.007*\"significantly\" + 0.006*\"derivative\" + 0.006*\"study\" + 0.006*\"may\" + 0.006*\"however\" + 0.006*\"high\" + 0.005*\"pesticides\" + 0.005*\"mortality\" + 0.005*\"animals\" + 0.005*\"environmental\" + 0.005*\"insecticide\" + 0.005*\"chlorpyrifos\" + 0.005*\"symbiont\" + 0.005*\"drug\"\n",
      "2018-05-23 21:50:16,263 : INFO : topic #144 (0.005): 0.011*\"species\" + 0.011*\"exposure\" + 0.010*\"pollen\" + 0.010*\"plant\" + 0.009*\"mellifera\" + 0.008*\"pesticide\" + 0.008*\"apis\" + 0.007*\"colony\" + 0.007*\"use\" + 0.007*\"pesticides\" + 0.007*\"gene\" + 0.006*\"varroa\" + 0.006*\"destructor\" + 0.005*\"nectar\" + 0.005*\"expression\" + 0.005*\"sequence\" + 0.005*\"found\" + 0.005*\"may\" + 0.004*\"effects\" + 0.004*\"colonies\"\n",
      "2018-05-23 21:50:16,266 : INFO : topic #145 (0.005): 0.015*\"colonies\" + 0.012*\"apis\" + 0.011*\"mellifera\" + 0.010*\"virus\" + 0.009*\"viruses\" + 0.009*\"varroa\" + 0.007*\"colony\" + 0.007*\"pathogens\" + 0.006*\"parasites\" + 0.006*\"destructor\" + 0.006*\"food\" + 0.006*\"brood\" + 0.005*\"prevalence\" + 0.005*\"found\" + 0.005*\"study\" + 0.005*\"health\" + 0.005*\"dwv\" + 0.005*\"detected\" + 0.005*\"animal\" + 0.005*\"also\"\n",
      "2018-05-23 21:50:16,269 : INFO : topic #146 (0.005): 0.014*\"exposure\" + 0.010*\"pesticides\" + 0.008*\"dna\" + 0.008*\"pesticide\" + 0.008*\"species\" + 0.007*\"analysis\" + 0.007*\"effects\" + 0.006*\"fipronil\" + 0.006*\"pollen\" + 0.006*\"ld50\" + 0.006*\"varroa\" + 0.006*\"using\" + 0.005*\"destructor\" + 0.005*\"used\" + 0.005*\"food\" + 0.005*\"contact\" + 0.005*\"important\" + 0.005*\"study\" + 0.005*\"sequence\" + 0.004*\"exposed\"\n",
      "2018-05-23 21:50:16,273 : INFO : topic #147 (0.005): 0.013*\"plants\" + 0.009*\"native\" + 0.009*\"chitin\" + 0.008*\"varroa\" + 0.008*\"wild\" + 0.007*\"gene\" + 0.007*\"synthesis\" + 0.007*\"destructor\" + 0.007*\"apis\" + 0.006*\"species\" + 0.006*\"expression\" + 0.006*\"pollen\" + 0.006*\"mellifera\" + 0.005*\"protein\" + 0.005*\"study\" + 0.005*\"two\" + 0.005*\"abundance\" + 0.005*\"exotic\" + 0.005*\"diversity\" + 0.005*\"new\"\n",
      "2018-05-23 21:50:16,275 : INFO : topic #148 (0.005): 0.014*\"effects\" + 0.012*\"colony\" + 0.011*\"pesticides\" + 0.010*\"exposure\" + 0.008*\"varroa\" + 0.008*\"colonies\" + 0.008*\"toxicity\" + 0.007*\"t\" + 0.007*\"species\" + 0.006*\"pesticide\" + 0.006*\"levels\" + 0.006*\"male\" + 0.006*\"derivative\" + 0.005*\"study\" + 0.005*\"significant\" + 0.005*\"imidacloprid\" + 0.005*\"nosema\" + 0.005*\"treatments\" + 0.005*\"management\" + 0.005*\"may\"\n",
      "2018-05-23 21:50:16,276 : INFO : topic #149 (0.005): 0.026*\"pollen\" + 0.010*\"diet\" + 0.009*\"effects\" + 0.008*\"exposure\" + 0.008*\"mite\" + 0.007*\"pesticide\" + 0.007*\"colonies\" + 0.007*\"colony\" + 0.007*\"varroa\" + 0.006*\"study\" + 0.006*\"development\" + 0.006*\"mellifera\" + 0.006*\"pesticides\" + 0.005*\"control\" + 0.005*\"significant\" + 0.004*\"selenium\" + 0.004*\"levels\" + 0.004*\"used\" + 0.004*\"hazard\" + 0.004*\"immunity\"\n",
      "2018-05-23 21:50:16,279 : INFO : topic #150 (0.005): 0.013*\"varroa\" + 0.011*\"spiroplasma\" + 0.011*\"colonies\" + 0.010*\"colony\" + 0.010*\"infections\" + 0.009*\"data\" + 0.008*\"prevalence\" + 0.008*\"mites\" + 0.008*\"health\" + 0.008*\"destructor\" + 0.007*\"population\" + 0.007*\"pollen\" + 0.007*\"animal\" + 0.007*\"may\" + 0.006*\"melliferum\" + 0.006*\"animals\" + 0.006*\"infection\" + 0.006*\"virus\" + 0.006*\"effects\" + 0.006*\"results\"\n",
      "2018-05-23 21:50:16,280 : INFO : topic #151 (0.005): 0.009*\"learning\" + 0.008*\"may\" + 0.008*\"effects\" + 0.008*\"colonies\" + 0.008*\"varroa\" + 0.007*\"mite\" + 0.007*\"study\" + 0.007*\"mellifera\" + 0.006*\"viruses\" + 0.006*\"virus\" + 0.006*\"apis\" + 0.006*\"used\" + 0.006*\"pesticides\" + 0.005*\"animals\" + 0.005*\"exposure\" + 0.005*\"olfactory\" + 0.005*\"different\" + 0.005*\"foraging\" + 0.005*\"disease\" + 0.005*\"larvae\"\n",
      "2018-05-23 21:50:16,285 : INFO : topic #152 (0.005): 0.013*\"sodium\" + 0.013*\"neurons\" + 0.012*\"olfactory\" + 0.010*\"gene\" + 0.009*\"permethrin\" + 0.009*\"effects\" + 0.009*\"channel\" + 0.009*\"inactivation\" + 0.008*\"activity\" + 0.008*\"current\" + 0.008*\"control\" + 0.007*\"chi18h8\" + 0.007*\"cell\" + 0.007*\"disease\" + 0.006*\"tetramethrin\" + 0.006*\"pyrethroid\" + 0.006*\"potential\" + 0.006*\"pathogens\" + 0.006*\"pyrethroids\" + 0.006*\"detection\"\n",
      "2018-05-23 21:50:16,286 : INFO : topic #153 (0.005): 0.012*\"varroa\" + 0.011*\"colony\" + 0.010*\"pollen\" + 0.010*\"colonies\" + 0.008*\"exposure\" + 0.008*\"mite\" + 0.007*\"virus\" + 0.007*\"also\" + 0.007*\"insect\" + 0.007*\"study\" + 0.007*\"different\" + 0.006*\"viruses\" + 0.005*\"social\" + 0.005*\"mortality\" + 0.005*\"genetic\" + 0.005*\"pathway\" + 0.005*\"using\" + 0.005*\"control\" + 0.005*\"may\" + 0.005*\"analysis\"\n",
      "2018-05-23 21:50:16,290 : INFO : topic #154 (0.005): 0.034*\"pollen\" + 0.015*\"virus\" + 0.009*\"colonies\" + 0.006*\"animal\" + 0.006*\"pesticide\" + 0.005*\"mellifera\" + 0.005*\"pesticides\" + 0.005*\"apis\" + 0.005*\"species\" + 0.004*\"found\" + 0.004*\"health\" + 0.004*\"landscape\" + 0.004*\"nectar\" + 0.004*\"foraging\" + 0.004*\"adult\" + 0.004*\"rj\" + 0.004*\"exposure\" + 0.004*\"plant\" + 0.004*\"resource\" + 0.004*\"analysis\"\n",
      "2018-05-23 21:50:16,293 : INFO : topic #155 (0.005): 0.012*\"rna\" + 0.011*\"virus\" + 0.009*\"social\" + 0.007*\"ceranae\" + 0.007*\"nosema\" + 0.006*\"sequence\" + 0.006*\"species\" + 0.006*\"host\" + 0.005*\"effects\" + 0.005*\"pesticide\" + 0.005*\"genome\" + 0.005*\"mechanisms\" + 0.005*\"tails\" + 0.005*\"polya\" + 0.005*\"use\" + 0.005*\"mellifera\" + 0.004*\"development\" + 0.004*\"neonicotinoid\" + 0.004*\"genomes\" + 0.004*\"environmental\"\n",
      "2018-05-23 21:50:16,296 : INFO : topic #156 (0.005): 0.017*\"varroa\" + 0.015*\"pollen\" + 0.009*\"destructor\" + 0.009*\"mites\" + 0.008*\"gene\" + 0.007*\"virus\" + 0.007*\"protein\" + 0.007*\"mite\" + 0.007*\"study\" + 0.007*\"colonies\" + 0.006*\"different\" + 0.006*\"expression\" + 0.005*\"larvae\" + 0.005*\"genes\" + 0.005*\"viruses\" + 0.005*\"varroidae\" + 0.005*\"animals\" + 0.005*\"apis\" + 0.005*\"analysis\" + 0.004*\"mellifera\"\n",
      "2018-05-23 21:50:16,301 : INFO : topic #157 (0.005): 0.009*\"data\" + 0.009*\"colony\" + 0.009*\"seed\" + 0.006*\"insecticide\" + 0.006*\"losses\" + 0.006*\"animal\" + 0.006*\"neonicotinoid\" + 0.005*\"nosema\" + 0.005*\"farmers\" + 0.005*\"pest\" + 0.005*\"apis\" + 0.005*\"colonies\" + 0.005*\"incidents\" + 0.005*\"control\" + 0.005*\"treatments\" + 0.005*\"treatment\" + 0.005*\"reported\" + 0.005*\"parasitism\" + 0.004*\"research\" + 0.004*\"mellifera\"\n",
      "2018-05-23 21:50:16,305 : INFO : topic #158 (0.005): 0.016*\"varroa\" + 0.010*\"mite\" + 0.010*\"colony\" + 0.009*\"pesticides\" + 0.009*\"mites\" + 0.009*\"exposure\" + 0.008*\"food\" + 0.007*\"colonies\" + 0.007*\"population\" + 0.007*\"pesticide\" + 0.007*\"n\" + 0.007*\"pest\" + 0.007*\"varroidae\" + 0.007*\"destructor\" + 0.007*\"apis\" + 0.006*\"virus\" + 0.005*\"crops\" + 0.005*\"pollinators\" + 0.005*\"mellifera\" + 0.005*\"study\"\n",
      "2018-05-23 21:50:16,309 : INFO : topic #159 (0.005): 0.012*\"varroa\" + 0.011*\"colony\" + 0.011*\"mite\" + 0.010*\"colonies\" + 0.010*\"population\" + 0.009*\"mortality\" + 0.008*\"virus\" + 0.008*\"africanized\" + 0.007*\"mites\" + 0.007*\"insect\" + 0.007*\"behavior\" + 0.007*\"mellifera\" + 0.007*\"adult\" + 0.006*\"apis\" + 0.006*\"exposure\" + 0.006*\"effect\" + 0.006*\"study\" + 0.006*\"epns\" + 0.006*\"used\" + 0.005*\"foraging\"\n",
      "2018-05-23 21:50:16,312 : INFO : topic #160 (0.005): 0.012*\"colony\" + 0.011*\"colonies\" + 0.009*\"important\" + 0.008*\"conditions\" + 0.008*\"environmental\" + 0.008*\"treatment\" + 0.007*\"including\" + 0.007*\"losses\" + 0.007*\"viruses\" + 0.006*\"destructor\" + 0.006*\"analysis\" + 0.006*\"mites\" + 0.006*\"factors\" + 0.005*\"pathogens\" + 0.005*\"mellifera\" + 0.005*\"data\" + 0.005*\"ceranae\" + 0.005*\"thymovar\" + 0.005*\"varroa\" + 0.005*\"control\"\n",
      "2018-05-23 21:50:16,313 : INFO : topic #161 (0.005): 0.015*\"virus\" + 0.009*\"pollen\" + 0.009*\"pesticide\" + 0.009*\"colonies\" + 0.008*\"l\" + 0.007*\"kunkeei\" + 0.006*\"analysis\" + 0.006*\"animal\" + 0.006*\"colony\" + 0.006*\"diversity\" + 0.006*\"using\" + 0.005*\"genetic\" + 0.005*\"new\" + 0.005*\"population\" + 0.005*\"nosema\" + 0.005*\"different\" + 0.005*\"study\" + 0.005*\"species\" + 0.005*\"genome\" + 0.004*\"mellifera\"\n"
     ]
    },
    {
     "name": "stderr",
     "output_type": "stream",
     "text": [
      "2018-05-23 21:50:16,316 : INFO : topic #162 (0.005): 0.022*\"pollen\" + 0.011*\"food\" + 0.011*\"thymol\" + 0.010*\"diet\" + 0.009*\"development\" + 0.007*\"fungi\" + 0.007*\"acid\" + 0.007*\"plant\" + 0.007*\"growth\" + 0.006*\"antifungal\" + 0.006*\"larval\" + 0.005*\"aspergillus\" + 0.005*\"survival\" + 0.005*\"penicillium\" + 0.005*\"drones\" + 0.005*\"mellifera\" + 0.005*\"species\" + 0.005*\"molecular\" + 0.005*\"study\" + 0.005*\"insecticidal\"\n",
      "2018-05-23 21:50:16,321 : INFO : topic #163 (0.005): 0.020*\"losses\" + 0.016*\"colony\" + 0.016*\"winter\" + 0.011*\"colonies\" + 0.009*\"factors\" + 0.009*\"virus\" + 0.008*\"different\" + 0.006*\"management\" + 0.006*\"study\" + 0.006*\"health\" + 0.006*\"regions\" + 0.006*\"bombus\" + 0.005*\"apiaries\" + 0.005*\"practices\" + 0.005*\"argentina\" + 0.005*\"collapse\" + 0.005*\"higher\" + 0.004*\"data\" + 0.004*\"pollen\" + 0.004*\"rna\"\n",
      "2018-05-23 21:50:16,322 : INFO : topic #164 (0.005): 0.009*\"colony\" + 0.009*\"colonies\" + 0.008*\"pollen\" + 0.008*\"development\" + 0.008*\"virus\" + 0.006*\"gene\" + 0.006*\"apis\" + 0.006*\"mellifera\" + 0.005*\"queen\" + 0.005*\"queens\" + 0.005*\"derivative\" + 0.005*\"female\" + 0.005*\"growth\" + 0.005*\"animal\" + 0.005*\"beekeepers\" + 0.005*\"animals\" + 0.005*\"protein\" + 0.004*\"n\" + 0.004*\"species\" + 0.004*\"control\"\n",
      "2018-05-23 21:50:16,325 : INFO : topic #165 (0.005): 0.018*\"antimicrobial\" + 0.012*\"insect\" + 0.012*\"paenibacillus\" + 0.009*\"immunity\" + 0.009*\"larvae\" + 0.008*\"genes\" + 0.008*\"evolutionary\" + 0.007*\"cationic\" + 0.007*\"insects\" + 0.007*\"studies\" + 0.007*\"effects\" + 0.007*\"amps\" + 0.006*\"molecular\" + 0.006*\"agent\" + 0.006*\"article\" + 0.006*\"peptides\" + 0.005*\"elsevier\" + 0.005*\"poulsonii\" + 0.005*\"gene\" + 0.005*\"fitness\"\n",
      "2018-05-23 21:50:16,328 : INFO : topic #166 (0.005): 0.015*\"crops\" + 0.011*\"camelina\" + 0.009*\"cover\" + 0.008*\"imidacloprid\" + 0.008*\"neonicotinoid\" + 0.008*\"pollinator\" + 0.007*\"insect\" + 0.007*\"pesticides\" + 0.006*\"winter\" + 0.006*\"canola\" + 0.006*\"water\" + 0.006*\"exposure\" + 0.006*\"neonicotinoids\" + 0.006*\"high\" + 0.005*\"three\" + 0.005*\"spectrometry\" + 0.005*\"insecticides\" + 0.005*\"liquid\" + 0.005*\"seed\" + 0.005*\"agricultural\"\n",
      "2018-05-23 21:50:16,331 : INFO : topic #167 (0.005): 0.017*\"pollen\" + 0.013*\"foraging\" + 0.008*\"larvae\" + 0.007*\"method\" + 0.007*\"nicotine\" + 0.007*\"colony\" + 0.007*\"detoxification\" + 0.006*\"varroa\" + 0.006*\"residues\" + 0.006*\"pesticides\" + 0.006*\"social\" + 0.006*\"nectar\" + 0.006*\"metabolic\" + 0.006*\"extraction\" + 0.005*\"study\" + 0.005*\"analysis\" + 0.005*\"nosema\" + 0.005*\"liquid\" + 0.005*\"food\" + 0.005*\"samples\"\n",
      "2018-05-23 21:50:16,334 : INFO : topic #168 (0.005): 0.016*\"protein\" + 0.013*\"virus\" + 0.010*\"population\" + 0.008*\"sequence\" + 0.007*\"pesticides\" + 0.007*\"mellifera\" + 0.006*\"epidemiological\" + 0.006*\"iapv\" + 0.006*\"varroa\" + 0.006*\"expression\" + 0.006*\"proteins\" + 0.005*\"capsid\" + 0.005*\"gene\" + 0.005*\"use\" + 0.005*\"recombinant\" + 0.005*\"health\" + 0.005*\"apis\" + 0.005*\"declines\" + 0.004*\"results\" + 0.004*\"genome\"\n",
      "2018-05-23 21:50:16,338 : INFO : topic #169 (0.005): 0.008*\"food\" + 0.008*\"colony\" + 0.007*\"research\" + 0.007*\"pathogens\" + 0.006*\"proteins\" + 0.006*\"may\" + 0.006*\"thiacloprid\" + 0.006*\"social\" + 0.006*\"apis\" + 0.006*\"range\" + 0.006*\"study\" + 0.005*\"aeruginosa\" + 0.005*\"effects\" + 0.005*\"network\" + 0.005*\"worker\" + 0.005*\"conditions\" + 0.004*\"invasion\" + 0.004*\"microsporidia\" + 0.004*\"piles\" + 0.004*\"imidacloprid\"\n",
      "2018-05-23 21:50:16,342 : INFO : topic #170 (0.005): 0.009*\"colonies\" + 0.009*\"impact\" + 0.009*\"control\" + 0.008*\"gene\" + 0.007*\"pollinators\" + 0.007*\"products\" + 0.007*\"study\" + 0.006*\"food\" + 0.006*\"immune\" + 0.006*\"amitraz\" + 0.006*\"insect\" + 0.005*\"pesticide\" + 0.005*\"animal\" + 0.005*\"human\" + 0.005*\"weeks\" + 0.005*\"use\" + 0.005*\"expression\" + 0.005*\"pollination\" + 0.005*\"significant\" + 0.005*\"two\"\n",
      "2018-05-23 21:50:16,344 : INFO : topic #171 (0.005): 0.014*\"pollination\" + 0.014*\"crops\" + 0.011*\"health\" + 0.010*\"nosema\" + 0.007*\"colony\" + 0.007*\"us\" + 0.007*\"economic\" + 0.007*\"apis\" + 0.007*\"industrial\" + 0.007*\"ccd\" + 0.007*\"service\" + 0.006*\"agriculture\" + 0.006*\"disease\" + 0.006*\"pesticide\" + 0.006*\"diseases\" + 0.006*\"mellifera\" + 0.006*\"colonies\" + 0.006*\"pesticides\" + 0.006*\"parasites\" + 0.006*\"ceranae\"\n",
      "2018-05-23 21:50:16,348 : INFO : topic #172 (0.005): 0.012*\"virus\" + 0.008*\"colony\" + 0.008*\"genetic\" + 0.008*\"mellifera\" + 0.008*\"gene\" + 0.008*\"colonies\" + 0.007*\"variation\" + 0.007*\"higher\" + 0.007*\"analysis\" + 0.007*\"expression\" + 0.006*\"apis\" + 0.006*\"samples\" + 0.006*\"pathogen\" + 0.005*\"animal\" + 0.005*\"pathogens\" + 0.005*\"health\" + 0.005*\"v\" + 0.005*\"immune\" + 0.005*\"study\" + 0.005*\"genes\"\n",
      "2018-05-23 21:50:16,351 : INFO : topic #173 (0.005): 0.014*\"colony\" + 0.013*\"apis\" + 0.011*\"varroa\" + 0.009*\"colonies\" + 0.008*\"nosema\" + 0.008*\"mellifera\" + 0.008*\"risk\" + 0.007*\"pollen\" + 0.007*\"effects\" + 0.005*\"used\" + 0.005*\"environmental\" + 0.005*\"animal\" + 0.005*\"animals\" + 0.005*\"studies\" + 0.005*\"pesticide\" + 0.005*\"derivative\" + 0.005*\"imidacloprid\" + 0.005*\"levels\" + 0.004*\"analysis\" + 0.004*\"collapse\"\n",
      "2018-05-23 21:50:16,355 : INFO : topic #174 (0.005): 0.014*\"destructor\" + 0.011*\"environmental\" + 0.010*\"monitoring\" + 0.009*\"risk\" + 0.008*\"factors\" + 0.008*\"v\" + 0.008*\"mite\" + 0.008*\"animal\" + 0.007*\"study\" + 0.007*\"management\" + 0.007*\"varroa\" + 0.006*\"data\" + 0.006*\"breeding\" + 0.006*\"colonies\" + 0.006*\"pesticide\" + 0.006*\"livestock\" + 0.005*\"pesticides\" + 0.005*\"system\" + 0.005*\"activities\" + 0.005*\"apis\"\n",
      "2018-05-23 21:50:16,358 : INFO : topic #175 (0.005): 0.027*\"pollen\" + 0.026*\"l\" + 0.018*\"cuphea\" + 0.016*\"oilseed\" + 0.015*\"crops\" + 0.012*\"protein\" + 0.011*\"camelina\" + 0.009*\"napus\" + 0.008*\"officinalis\" + 0.008*\"nectar\" + 0.008*\"beneficial\" + 0.008*\"pollinator\" + 0.007*\"dwv\" + 0.007*\"virus\" + 0.007*\"brassica\" + 0.007*\"production\" + 0.007*\"insects\" + 0.007*\"apis\" + 0.006*\"bqcv\" + 0.006*\"sbv\"\n",
      "2018-05-23 21:50:16,361 : INFO : topic #176 (0.005): 0.020*\"pollen\" + 0.013*\"pesticide\" + 0.010*\"brood\" + 0.008*\"residues\" + 0.008*\"effects\" + 0.008*\"overwintered\" + 0.008*\"nosema\" + 0.007*\"apis\" + 0.007*\"colony\" + 0.006*\"sites\" + 0.006*\"comb\" + 0.006*\"protein\" + 0.006*\"low\" + 0.006*\"detected\" + 0.005*\"exposure\" + 0.005*\"ceranae\" + 0.005*\"longevity\" + 0.005*\"fallow\" + 0.005*\"pesticides\" + 0.005*\"samples\"\n",
      "2018-05-23 21:50:16,365 : INFO : topic #177 (0.005): 0.013*\"systems\" + 0.011*\"environmental\" + 0.007*\"food\" + 0.007*\"land\" + 0.006*\"production\" + 0.006*\"agricultural\" + 0.006*\"virus\" + 0.006*\"pollination\" + 0.006*\"mass\" + 0.005*\"health\" + 0.005*\"monitoring\" + 0.005*\"analysis\" + 0.005*\"ecosystem\" + 0.005*\"management\" + 0.005*\"adaptive\" + 0.004*\"governance\" + 0.004*\"communication\" + 0.004*\"contaminants\" + 0.004*\"study\" + 0.004*\"pesticide\"\n",
      "2018-05-23 21:50:16,368 : INFO : topic #178 (0.005): 0.021*\"exposure\" + 0.016*\"pollen\" + 0.014*\"memory\" + 0.014*\"imidacloprid\" + 0.013*\"effects\" + 0.013*\"pesticides\" + 0.009*\"animal\" + 0.009*\"coumaphos\" + 0.009*\"learning\" + 0.008*\"nitro\" + 0.008*\"derivative\" + 0.008*\"exposed\" + 0.008*\"behavior\" + 0.007*\"neonicotinoid\" + 0.007*\"compounds\" + 0.006*\"decline\" + 0.006*\"colony\" + 0.006*\"thiamethoxam\" + 0.006*\"mellifera\" + 0.006*\"sublethal\"\n",
      "2018-05-23 21:50:16,371 : INFO : topic #179 (0.005): 0.016*\"pollen\" + 0.015*\"almond\" + 0.010*\"nectar\" + 0.009*\"also\" + 0.008*\"wild\" + 0.008*\"pesticides\" + 0.008*\"crop\" + 0.008*\"pollination\" + 0.008*\"agricultural\" + 0.008*\"weeds\" + 0.007*\"weed\" + 0.007*\"services\" + 0.007*\"mellifera\" + 0.006*\"world\" + 0.006*\"environmental\" + 0.006*\"apoidea\" + 0.005*\"animal\" + 0.005*\"apis\" + 0.005*\"health\" + 0.005*\"crops\"\n",
      "2018-05-23 21:50:16,375 : INFO : topic #180 (0.005): 0.021*\"varroa\" + 0.010*\"genetic\" + 0.009*\"pesticide\" + 0.008*\"mellifera\" + 0.008*\"apis\" + 0.008*\"colonies\" + 0.007*\"virus\" + 0.007*\"nosema\" + 0.006*\"destructor\" + 0.006*\"mortality\" + 0.005*\"exposure\" + 0.005*\"diversity\" + 0.005*\"development\" + 0.005*\"comb\" + 0.005*\"brood\" + 0.005*\"residues\" + 0.005*\"results\" + 0.005*\"host\" + 0.005*\"mites\" + 0.005*\"mite\"\n",
      "2018-05-23 21:50:16,378 : INFO : topic #181 (0.005): 0.015*\"colonies\" + 0.010*\"beekeeping\" + 0.009*\"pollination\" + 0.009*\"mellifera\" + 0.007*\"varroa\" + 0.007*\"apis\" + 0.006*\"virus\" + 0.006*\"production\" + 0.006*\"wild\" + 0.006*\"practice\" + 0.006*\"infestation\" + 0.006*\"north\" + 0.006*\"among\" + 0.005*\"social\" + 0.005*\"treatment\" + 0.005*\"animal\" + 0.005*\"mexico\" + 0.005*\"species\" + 0.005*\"food\" + 0.005*\"study\"\n"
     ]
    },
    {
     "name": "stderr",
     "output_type": "stream",
     "text": [
      "2018-05-23 21:50:16,381 : INFO : topic #182 (0.005): 0.022*\"virus\" + 0.019*\"colony\" + 0.016*\"rna\" + 0.010*\"colonies\" + 0.010*\"risk\" + 0.010*\"mites\" + 0.008*\"apis\" + 0.008*\"varroa\" + 0.007*\"collapse\" + 0.007*\"mellifera\" + 0.006*\"gene\" + 0.006*\"associated\" + 0.006*\"important\" + 0.006*\"mite\" + 0.006*\"beekeeping\" + 0.006*\"population\" + 0.005*\"states\" + 0.005*\"brood\" + 0.005*\"found\" + 0.005*\"immune\"\n",
      "2018-05-23 21:50:16,384 : INFO : topic #183 (0.005): 0.010*\"apis\" + 0.009*\"mellifera\" + 0.009*\"exposure\" + 0.009*\"effects\" + 0.008*\"animal\" + 0.008*\"pesticide\" + 0.007*\"thiamethoxam\" + 0.007*\"colony\" + 0.007*\"gene\" + 0.007*\"animals\" + 0.006*\"pollen\" + 0.006*\"derivative\" + 0.006*\"behavior\" + 0.006*\"colonies\" + 0.006*\"health\" + 0.005*\"development\" + 0.005*\"residue\" + 0.005*\"results\" + 0.005*\"study\" + 0.005*\"larva\"\n",
      "2018-05-23 21:50:16,387 : INFO : topic #184 (0.005): 0.009*\"pesticides\" + 0.008*\"entomological\" + 0.007*\"new\" + 0.007*\"may\" + 0.007*\"varroa\" + 0.007*\"growth\" + 0.006*\"zealand\" + 0.006*\"pathogens\" + 0.006*\"combs\" + 0.006*\"effect\" + 0.006*\"control\" + 0.005*\"risk\" + 0.005*\"trichoderma\" + 0.005*\"entomology\" + 0.005*\"used\" + 0.005*\"losses\" + 0.005*\"colony\" + 0.005*\"acid\" + 0.005*\"winter\" + 0.005*\"study\"\n",
      "2018-05-23 21:50:16,390 : INFO : topic #185 (0.005): 0.019*\"pollen\" + 0.010*\"colonies\" + 0.008*\"pesticide\" + 0.007*\"pesticides\" + 0.007*\"study\" + 0.006*\"samples\" + 0.006*\"virus\" + 0.006*\"method\" + 0.006*\"apis\" + 0.006*\"mellifera\" + 0.006*\"ceranae\" + 0.005*\"different\" + 0.005*\"found\" + 0.005*\"also\" + 0.005*\"viruses\" + 0.005*\"larvae\" + 0.005*\"effects\" + 0.005*\"imidacloprid\" + 0.005*\"n\" + 0.005*\"species\"\n",
      "2018-05-23 21:50:16,391 : INFO : topic #186 (0.005): 0.011*\"exposure\" + 0.011*\"pollination\" + 0.011*\"larvae\" + 0.011*\"network\" + 0.010*\"chlorpyrifos\" + 0.008*\"analysis\" + 0.008*\"animal\" + 0.007*\"colony\" + 0.007*\"cytochrome\" + 0.007*\"shifts\" + 0.007*\"pollen\" + 0.007*\"sublethal\" + 0.006*\"effects\" + 0.006*\"doses\" + 0.006*\"ctcyp6ex3\" + 0.006*\"social\" + 0.006*\"behavior\" + 0.006*\"larva\" + 0.006*\"atrazine\" + 0.006*\"environmental\"\n",
      "2018-05-23 21:50:16,394 : INFO : topic #187 (0.005): 0.013*\"larvae\" + 0.010*\"mellifera\" + 0.009*\"cell\" + 0.009*\"apis\" + 0.007*\"pesticides\" + 0.007*\"protein\" + 0.007*\"death\" + 0.007*\"stress\" + 0.006*\"apoidea\" + 0.006*\"species\" + 0.006*\"may\" + 0.005*\"pollen\" + 0.005*\"detected\" + 0.005*\"analysis\" + 0.005*\"midgut\" + 0.005*\"africanized\" + 0.005*\"animal\" + 0.005*\"rna\" + 0.005*\"varroa\" + 0.004*\"apoptotic\"\n",
      "2018-05-23 21:50:16,395 : INFO : topic #188 (0.005): 0.019*\"gene\" + 0.012*\"expression\" + 0.011*\"rna\" + 0.009*\"varroa\" + 0.008*\"host\" + 0.007*\"virus\" + 0.006*\"genes\" + 0.006*\"apis\" + 0.006*\"microsporidia\" + 0.005*\"study\" + 0.005*\"samples\" + 0.005*\"nosema\" + 0.005*\"animals\" + 0.005*\"animal\" + 0.004*\"colonies\" + 0.004*\"results\" + 0.004*\"destructor\" + 0.004*\"colony\" + 0.004*\"mellifera\" + 0.004*\"effects\"\n",
      "2018-05-23 21:50:16,398 : INFO : topic #189 (0.005): 0.009*\"p450\" + 0.008*\"virus\" + 0.008*\"host\" + 0.007*\"larvae\" + 0.007*\"cytochrome\" + 0.007*\"enzyme\" + 0.006*\"nosema\" + 0.006*\"wireless\" + 0.006*\"mellifera\" + 0.006*\"metabolites\" + 0.006*\"nmp\" + 0.006*\"apis\" + 0.006*\"pathogens\" + 0.006*\"adults\" + 0.005*\"within\" + 0.005*\"exposure\" + 0.005*\"metabolism\" + 0.005*\"health\" + 0.005*\"method\" + 0.005*\"gut\"\n",
      "2018-05-23 21:50:16,401 : INFO : topic #190 (0.005): 0.011*\"derivative\" + 0.011*\"effects\" + 0.010*\"pesticides\" + 0.009*\"exposure\" + 0.009*\"concentrations\" + 0.009*\"colony\" + 0.007*\"thiacloprid\" + 0.007*\"fungicide\" + 0.007*\"animal\" + 0.006*\"colonies\" + 0.006*\"compounds\" + 0.006*\"pollen\" + 0.006*\"neonicotinoid\" + 0.006*\"pesticide\" + 0.006*\"neonicotinoids\" + 0.006*\"sublethal\" + 0.005*\"effect\" + 0.005*\"exposed\" + 0.005*\"gl\" + 0.005*\"immunocompetence\"\n",
      "2018-05-23 21:50:16,404 : INFO : topic #191 (0.005): 0.012*\"colonies\" + 0.011*\"virus\" + 0.008*\"protein\" + 0.008*\"apis\" + 0.007*\"pesticides\" + 0.007*\"nosema\" + 0.007*\"mellifera\" + 0.007*\"larvae\" + 0.007*\"colony\" + 0.006*\"varroa\" + 0.006*\"pesticide\" + 0.006*\"spore\" + 0.006*\"study\" + 0.006*\"exposure\" + 0.006*\"ceranae\" + 0.005*\"queen\" + 0.005*\"ps\" + 0.005*\"adult\" + 0.005*\"survival\" + 0.005*\"n\"\n",
      "2018-05-23 21:50:16,407 : INFO : topic #192 (0.005): 0.014*\"varroa\" + 0.009*\"apis\" + 0.008*\"mite\" + 0.008*\"land\" + 0.008*\"use\" + 0.007*\"mellifera\" + 0.007*\"management\" + 0.007*\"colony\" + 0.007*\"systems\" + 0.006*\"colonies\" + 0.005*\"health\" + 0.005*\"food\" + 0.005*\"human\" + 0.005*\"may\" + 0.005*\"microbiome\" + 0.005*\"infestation\" + 0.005*\"production\" + 0.005*\"eastern\" + 0.004*\"conservation\" + 0.004*\"results\"\n",
      "2018-05-23 21:50:16,411 : INFO : topic #193 (0.005): 0.029*\"proteins\" + 0.021*\"virus\" + 0.018*\"structural\" + 0.018*\"varroa\" + 0.016*\"detection\" + 0.014*\"proteomics\" + 0.013*\"pathogen\" + 0.013*\"pollination\" + 0.012*\"presence\" + 0.011*\"immune\" + 0.010*\"supply\" + 0.009*\"also\" + 0.008*\"varroidae\" + 0.008*\"viruses\" + 0.008*\"mite\" + 0.008*\"spectrometry\" + 0.008*\"tandem\" + 0.008*\"destructor\" + 0.007*\"mass\" + 0.007*\"demand\"\n",
      "2018-05-23 21:50:16,414 : INFO : topic #194 (0.005): 0.011*\"used\" + 0.010*\"insecticides\" + 0.008*\"maize\" + 0.008*\"exposure\" + 0.007*\"effects\" + 0.007*\"nosema\" + 0.007*\"pollen\" + 0.007*\"animal\" + 0.006*\"pollinator\" + 0.006*\"insect\" + 0.006*\"mortality\" + 0.006*\"ceranae\" + 0.006*\"neonicotinoid\" + 0.005*\"exposed\" + 0.005*\"microsporidia\" + 0.005*\"thiacloprid\" + 0.005*\"derivative\" + 0.005*\"apis\" + 0.005*\"fipronil\" + 0.005*\"fungal\"\n",
      "2018-05-23 21:50:16,420 : INFO : topic #195 (0.005): 0.012*\"expression\" + 0.011*\"gene\" + 0.010*\"exposure\" + 0.009*\"colonies\" + 0.009*\"worker\" + 0.008*\"exposed\" + 0.008*\"animal\" + 0.007*\"response\" + 0.007*\"ops\" + 0.007*\"detoxification\" + 0.007*\"insecticides\" + 0.007*\"apis\" + 0.007*\"colony\" + 0.006*\"mellifera\" + 0.006*\"concentrations\" + 0.006*\"concentration\" + 0.006*\"chlorpyrifos\" + 0.006*\"mixture\" + 0.006*\"immune\" + 0.006*\"different\"\n",
      "2018-05-23 21:50:16,424 : INFO : topic #196 (0.005): 0.013*\"virus\" + 0.011*\"rna\" + 0.008*\"gene\" + 0.008*\"health\" + 0.007*\"animal\" + 0.006*\"small\" + 0.005*\"colonies\" + 0.005*\"diseases\" + 0.005*\"managed\" + 0.005*\"effects\" + 0.005*\"prevalence\" + 0.005*\"colony\" + 0.005*\"control\" + 0.005*\"detected\" + 0.005*\"pollination\" + 0.004*\"sequence\" + 0.004*\"apis\" + 0.004*\"insect\" + 0.004*\"animals\" + 0.004*\"high\"\n",
      "2018-05-23 21:50:16,427 : INFO : topic #197 (0.005): 0.011*\"pesticide\" + 0.009*\"animal\" + 0.008*\"pesticides\" + 0.007*\"effects\" + 0.007*\"exposure\" + 0.006*\"behavior\" + 0.006*\"mellifera\" + 0.006*\"apis\" + 0.006*\"expression\" + 0.006*\"species\" + 0.005*\"environmental\" + 0.005*\"semen\" + 0.005*\"mortality\" + 0.005*\"adult\" + 0.005*\"gene\" + 0.005*\"worker\" + 0.004*\"control\" + 0.004*\"colony\" + 0.004*\"drug\" + 0.004*\"study\"\n",
      "2018-05-23 21:50:16,431 : INFO : topic #198 (0.005): 0.019*\"acid\" + 0.012*\"species\" + 0.010*\"fatty\" + 0.010*\"samples\" + 0.009*\"pollen\" + 0.007*\"animal\" + 0.007*\"research\" + 0.006*\"acids\" + 0.006*\"invertebrates\" + 0.006*\"residue\" + 0.006*\"wasp\" + 0.005*\"results\" + 0.005*\"may\" + 0.005*\"study\" + 0.005*\"flumethrin\" + 0.005*\"colonies\" + 0.005*\"animals\" + 0.005*\"china\" + 0.005*\"identified\" + 0.004*\"sperm\"\n",
      "2018-05-23 21:50:16,437 : INFO : topic #199 (0.005): 0.019*\"heart\" + 0.012*\"protein\" + 0.010*\"effects\" + 0.009*\"insect\" + 0.008*\"study\" + 0.008*\"amitraz\" + 0.008*\"virus\" + 0.008*\"pollen\" + 0.007*\"rate\" + 0.007*\"sequence\" + 0.007*\"physiology\" + 0.006*\"behavior\" + 0.006*\"genome\" + 0.006*\"katp\" + 0.006*\"animal\" + 0.006*\"higher\" + 0.006*\"concentrations\" + 0.006*\"function\" + 0.006*\"ceranae\" + 0.005*\"caused\"\n"
     ]
    }
   ],
   "source": [
    "#Makes the top 3 terms for the top 5 documents\n",
    "#\n",
    "#with open('../data/Docbow/TopFifteenFor'+str(numberOfTopics)+'1.tsv','w') as top15:\n",
    "    t = lda.print_topics(num_topics=numberOfTopics,num_words=20)\n",
    "    for topic in range(0,5):\n",
    "        top15.write(str(t[topic][1].split(\"+\")[0:3])+\"\\n\")\n"
   ]
  },
  {
   "cell_type": "code",
   "execution_count": 127,
   "metadata": {},
   "outputs": [
    {
     "name": "stderr",
     "output_type": "stream",
     "text": [
      "2018-05-23 22:41:32,640 : INFO : CorpusAccumulator accumulated stats from 1000 documents\n"
     ]
    }
   ],
   "source": [
    "top5 = lda.top_topics(corpus=corpus,topn=25)[0:5]\n",
    "top15 = []\n",
    "for t in top5:\n",
    "    wordsAdded = 0\n",
    "    temp = set([])\n",
    "    for w in t[0][0:10]:\n",
    "        temp.add(w[1])\n",
    "    top15.append(temp)\n",
    "output = []\n",
    "with open('../data/Docbow/TopFifteenFor'+str(numberOfTopics)+'.tsv','w') as fileToWrite:\n",
    "    for wordSet in top15:\n",
    "        wordsAdded = 0\n",
    "        for word in wordSet:\n",
    "            if word not in output and wordsAdded < 3:\n",
    "                output.append(word)\n",
    "                fileToWrite.write(word+\",\")\n",
    "                wordsAdded += 1\n",
    "            elif wordsAdded == 3:\n",
    "                break\n",
    "        fileToWrite.write(\"\\n\")"
   ]
  },
  {
   "cell_type": "code",
   "execution_count": null,
   "metadata": {},
   "outputs": [],
   "source": []
  }
 ],
 "metadata": {
  "kernelspec": {
   "display_name": "Python 2",
   "language": "python",
   "name": "python2"
  },
  "language_info": {
   "codemirror_mode": {
    "name": "ipython",
    "version": 2
   },
   "file_extension": ".py",
   "mimetype": "text/x-python",
   "name": "python",
   "nbconvert_exporter": "python",
   "pygments_lexer": "ipython2",
   "version": "2.7.14"
  }
 },
 "nbformat": 4,
 "nbformat_minor": 2
}
