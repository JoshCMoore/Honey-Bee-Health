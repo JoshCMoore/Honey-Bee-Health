{
 "cells": [
  {
   "cell_type": "code",
   "execution_count": 1,
   "metadata": {},
   "outputs": [
    {
     "name": "stderr",
     "output_type": "stream",
     "text": [
      "C:\\Users\\USER\\Anaconda3\\envs\\py27\\lib\\site-packages\\gensim\\utils.py:1197: UserWarning: detected Windows; aliasing chunkize to chunkize_serial\n",
      "  warnings.warn(\"detected Windows; aliasing chunkize to chunkize_serial\")\n"
     ]
    }
   ],
   "source": [
    "import string\n",
    "import re\n",
    "import os\n",
    "import tempfile\n",
    "import logging\n",
    "import csv\n",
    "from datetime import datetime\n",
    "from gensim import corpora\n",
    "from gensim import models\n",
    "from gensim.corpora import Dictionary\n",
    "from collections import namedtuple\n",
    "import gensim.parsing.preprocessing as processing\n",
    "from os import listdir\n",
    "import CustomApi as api\n",
    "#Start Global Variables and Types\n",
    "\n",
    "#document dir\n",
    "docs = \"../data/documents/\"\n",
    "\n",
    "#Number of topics the model should index\n",
    "numberOfTopics = 125\n",
    "\n",
    "#Number of passes the model should make\n",
    "passes = 10\n",
    "\n",
    "#End Global Variables and Types"
   ]
  },
  {
   "cell_type": "code",
   "execution_count": 17,
   "metadata": {},
   "outputs": [],
   "source": [
    "files = listdir(docs+\"lt2006/\")\n",
    "entries = []"
   ]
  },
  {
   "cell_type": "code",
   "execution_count": 18,
   "metadata": {},
   "outputs": [],
   "source": [
    "for file in files:\n",
    "    with open(docs+\"lt2006/\"+file,\"rb\") as csvfile:\n",
    "        spamreader = csv.reader(csvfile)\n",
    "        for row in spamreader:\n",
    "            if \"Authors\" not in row[0] and row[15] !='[No abstract available]':\n",
    "                entries.append(row)\n",
    "        "
   ]
  },
  {
   "cell_type": "code",
   "execution_count": 19,
   "metadata": {},
   "outputs": [
    {
     "data": {
      "text/plain": [
       "'Evidence of the Juvenile Hormone Methyl(2E,6E)-10,11-epoxy-3,7,11-trimethyl-2,6-dodecadienoate(JH-3) in Insects of Four Orders'"
      ]
     },
     "execution_count": 19,
     "metadata": {},
     "output_type": "execute_result"
    }
   ],
   "source": [
    "#title of an abstract\n",
    "entries[0][1]\n"
   ]
  },
  {
   "cell_type": "code",
   "execution_count": 20,
   "metadata": {},
   "outputs": [],
   "source": [
    "# Create a set of frequent words\n",
    "stopFile = open(\"../data/stopwords.txt\",\"r\")\n",
    "stopWords = stopFile.read().splitlines() #This is the copyright symbol, this shows up in every abstract and should not be apart of the corpus\n",
    "stopWords.extend([u\"\\u2019\",u\"\\u03bc\",\"bee\",\"bees\",\"honey\",\"honeybee\",\"honeybees\",u\"\\xa9\",u\"\\xc2\"])\n",
    "stopList = set(stopWords)\n",
    "with open(\"../data/extraStopWords.txt\",\"r\") as extraStopFile:\n",
    "    stopWords.extend(extraStopFile.read().split(\"\\n\"))\n",
    "# Lowercase each document, split it by white space and filter out stopWords\n",
    "processing.STOPWORDS = stopWords\n",
    "def removeStops(text):\n",
    "    return processing.stem_text(processing.remove_stopwords(text.lower().translate(None, string.punctuation)))\n",
    "# Each abstract has a 'title':String, 'date':datetime.datetime, and 'text':String\n",
    "abstracts = [api.MyAbstract._make([art[1],datetime.strptime(art[2], '%Y'),removeStops(art[15])]) for art in entries]\n",
    "abstracts.sort(key=lambda q: q.date.year)\n",
    "entries = None\n",
    "# Count word frequencies\n",
    "selections = []\n",
    "\n",
    "access = lambda x: x.date.year\n",
    "lastIndex = 0\n",
    "for i in range(1957,2007):\n",
    "    index = api.binarySearch(abstracts,i,access)\n",
    "    if  index != -1:\n",
    "        selections.append(abstracts[lastIndex:index+1])\n",
    "        lastIndex = index+1\n",
    "        "
   ]
  },
  {
   "cell_type": "code",
   "execution_count": 21,
   "metadata": {},
   "outputs": [],
   "source": [
    "from collections import defaultdict\n",
    "def createCorpus(selection):\n",
    "    frequency = defaultdict(int)\n",
    "    for abst in abstracts:\n",
    "        for token in abst.text.split(\" \"):\n",
    "            frequency[token] += 1\n",
    "    tempFolder = tempfile.gettempdir()\n",
    "    processedCorpus = [[token for token in abst.text.split(\" \") if frequency[token] > 5] for abst in selection]\n",
    "    dictionary = corpora.Dictionary(processedCorpus)\n",
    "    dictionary.save(os.path.join(tempFolder,'words.dict'))\n",
    "    # Create general corpus and serialize in order for it to be iterated over\n",
    "    corpus = [dictionary.doc2bow(text) for text in processedCorpus]\n",
    "    corpora.MmCorpus.serialize(os.path.join(tempFolder, 'words.dict'), corpus)\n",
    "    return api.MyCorpora._make([corpus,dictionary])\n",
    "    \n",
    "\n",
    "\n",
    "# Save the dictionary of tokens\n",
    "# def createModel():\n",
    "#     tempFolder = tempfile.gettempdir()\n",
    "#     dictionary = corpora.Dictionary(processedCorpusFor(selection))\n",
    "#     dictionary.save(os.path.join(tempFolder,'words.dict'))\n",
    "#     # Create general corpus and serialize in order for it to be iterated over\n",
    "#     corpus = [dictionary.doc2bow(text) for text in processedCorpus]\n",
    "#     corpora.MmCorpus.serialize(os.path.join(tempFolder, 'words.dict'), corpus)\n",
    "    # Train the model and set number of topics\n"
   ]
  },
  {
   "cell_type": "code",
   "execution_count": 22,
   "metadata": {},
   "outputs": [],
   "source": [
    "\n",
    "\n",
    "def exportResults(path, sortedVals):\n",
    "    with open(path+\"nodes.csv\",\"w\") as file:\n",
    "        file.write(\"Id,Label,Weight\\n\")\n",
    "        for val in sortedVals:\n",
    "            file.write(str(val[\"tag\"])+\",\"+val[\"word\"].encode('utf8')+','+str(val['occurences'])+'\\n')\n",
    "    with open(path+'edges.csv',\"w\") as file:\n",
    "        file.write(\"Source,Target\\n\")\n",
    "        for val in sortedVals:\n",
    "            for i in range(0,len(val[\"words\"])):\n",
    "                file.write(str(val[\"tag\"])+\",\"+str(val[\"words\"][i])+\"\\n\")"
   ]
  },
  {
   "cell_type": "code",
   "execution_count": 23,
   "metadata": {},
   "outputs": [],
   "source": [
    "import math as m\n",
    "def getResults(topics):\n",
    "    occurences = {}\n",
    "    id_tag = 0\n",
    "    topics[len(topics)-1]\n",
    "    for topic in topics:\n",
    "        words = topic[0]\n",
    "        for w in words:\n",
    "            if w[1] not in occurences.keys():\n",
    "                tokens = [occurences[t][\"tag\"] if t in occurences.keys() else t for t in [token[1] for token in words]]\n",
    "                tokens.remove(w[1])\n",
    "                occurences[w[1]] = {\"prob\":w[0],\"occurences\":1,\"words\":tokens, \"tag\" : id_tag, \"word\":w[1]}\n",
    "                id_tag += 1\n",
    "            else:\n",
    "                occurences[w[1]][\"occurences\"] += 1\n",
    "                occurences[w[1]][\"prob\"] = max(occurences[w[1]][\"prob\"], w[0])\n",
    "    for val in occurences.values():\n",
    "        nodes = val[\"words\"]\n",
    "        for i in range(0,len(nodes)):\n",
    "            if isinstance(nodes[i],basestring):\n",
    "                nodes[i] = occurences[nodes[i]][\"tag\"]\n",
    "        occurences[val[\"word\"]][\"words\"] = nodes\n",
    "    return occurences\n"
   ]
  },
  {
   "cell_type": "code",
   "execution_count": null,
   "metadata": {},
   "outputs": [],
   "source": [
    "%%capture\n",
    "size = 0\n",
    "start = 0\n",
    "import os\n",
    "occurences = None\n",
    "for i in range(0,len(selections)):\n",
    "    size += len(selections[i])\n",
    "    if size >=50:\n",
    "        selection = api.flaten(selections[start:i+1])\n",
    "        corpus = createCorpus(selection)\n",
    "        path = docs+'GephiFiles/'+str(selection[0].date.year)+'/'\n",
    "        try:\n",
    "            os.makedirs(path)\n",
    "            print \"made dirs\"\n",
    "        except:\n",
    "            #Already exists\n",
    "            pass\n",
    "        \n",
    "        logging.basicConfig(format='%(asctime)s : %(levelname)s : %(message)s', level=logging.INFO)\n",
    "        lda = models.ldamodel.LdaModel(corpus.corpus,id2word=corpus.id2word,num_topics=numberOfTopics,passes=passes)\n",
    "        topics = lda.top_topics(corpus=corpus.corpus,dictionary=corpus.id2word,topn=10)\n",
    "        topics.sort(key=lambda k:k[1],reverse=True)\n",
    "        occurences = getResults(topics)\n",
    "        sortedVals = sorted(occurences.values(),key=lambda k:k[\"tag\"])\n",
    "        #####Release some of this memory please and thank you\n",
    "        selection = None\n",
    "        occurences = None\n",
    "        #####\n",
    "        exportResults(path,sortedVals)\n",
    "\n",
    "        size = 0\n",
    "        start = i+1"
   ]
  },
  {
   "cell_type": "markdown",
   "metadata": {},
   "source": [
    "The above corpus shows the amount of times every word used in the documents is used in every indevidual document. Every word is represented by a token ID, the list of which can be found in \"words.dict\""
   ]
  },
  {
   "cell_type": "code",
   "execution_count": null,
   "metadata": {},
   "outputs": [],
   "source": [
    "# Sort the most interesting words per topic per document\n",
    "# This cell does not need to be run if only trying to create Top Nine terms per paper\n",
    "topicOrganizingFile = open(\"../data/topicorganization.tsv\",\"w\")\n",
    "for x in xrange(0,len(abstracts)):\n",
    "    doc = dictionary.doc2bow(abstracts[x].split())\n",
    "    docTopics, wordTopics, phiValues = lda.get_document_topics(doc, per_word_topics=True)\n",
    "    topicOrganizingFile.write(yearOfAbstract[x]+\"\\t\"+titleOfAbstract[x]+\"\\t\")\n",
    "    for y in xrange(0,min(3,len(docTopics))):\n",
    "        topicnumber = docTopics[y][0]\n",
    "        topicOrganizingFile.write(str(lda.show_topic(topicnumber))+\"\\t\")\n",
    "        #Sorts the word topics in decending order based on their greatest phi value\n",
    "        for z in xrange(0,len(phiValues)):\n",
    "            phiValues[z][1].sort(key=lambda q:q[1],reverse=True)\n",
    "        phiValues.sort(key=lambda q:q[1][0][1],reverse=True)\n",
    "        curindex=0\n",
    "        topwords = \"\"\n",
    "        for z in xrange(0,3):\n",
    "            while curindex<len(phiValues) and phiValues[curindex][1][0][0]!=topicnumber:\n",
    "                curindex+=1\n",
    "            if(curindex>=len(phiValues)):break\n",
    "            print len(phiValues)\n",
    "            print dictionary[phiValues[curindex][0]]\n",
    "            topwords+=str(dictionary[phiValues[curindex][0]].encode('utf-8').strip())+\" \"\n",
    "            curindex+=1\n",
    "        filter(lambda a:a[0]!=topicnumber,phiValues)\n",
    "        topicOrganizingFile.write(topwords+\"\\t\")\n",
    "    topicOrganizingFile.write(\"\\n\")\n",
    "topicOrganizingFile.close()\n",
    "\n",
    "        "
   ]
  },
  {
   "cell_type": "code",
   "execution_count": null,
   "metadata": {},
   "outputs": [],
   "source": [
    "topicWords = []\n",
    "for i in range(0,numberOfTopics):\n",
    "    t = lda.get_topic_terms(i,50)\n",
    "    currentWordList = []\n",
    "    for x in t:\n",
    "        word = str(dictionary[x[0]])\n",
    "        if word not in currentWordList:\n",
    "            currentWordList.append(word)\n",
    "    topicWords.append(currentWordList)\n",
    "topicListFile = open(\"../data/TopicWords/List-\"+str(numberOfTopics)+\".txt\",\"w+\")\n",
    "for i in range(0,len(topicWords)):\n",
    "    topicListFile.write(\"Topic \"+str(i)+\":\\n\")\n",
    "    for j in topicWords[i]:\n",
    "        topicListFile.write(j+'\\n')\n",
    "    topicListFile.write('\\n')\n",
    "topicListFile.close()"
   ]
  },
  {
   "cell_type": "code",
   "execution_count": null,
   "metadata": {},
   "outputs": [],
   "source": [
    "#Makes the top nine terms for each document\n",
    "\n",
    "topNineFile = open(\"../data/Docbow/TopNineTerms-\"+str(numberOfTopics)+\".tsv\",\"w\")\n",
    "for abstr in abstracts:\n",
    "    doc = dictionary.doc2bow(abstracts[2].split()) # Convert to bag of words format first\n",
    "    # Get the topics and words associated with each document\n",
    "    docTopics, wordTopics, phiValues = lda.get_document_topics(doc, per_word_topics=True)\n",
    "    topNineFile.write(yearOfAbstract[x]+\"\\t\"+abst+\"\\t\")\n",
    "    for z in xrange(0,len(phiValues)):\n",
    "        phiValues[z][1].sort(key=lambda q:q[1],reverse=True)\n",
    "    phiValues.sort(key=lambda q:q[1][0][1],reverse=True)\n",
    "    nineWords = \"\"\n",
    "    for x in phiValues[:15]:\n",
    "        nineWords+= dictionary[x[0]] + \" \"\n",
    "    topNineFile.write(nineWords.encode('utf-8')+\"\\n\")"
   ]
  },
  {
   "cell_type": "code",
   "execution_count": null,
   "metadata": {},
   "outputs": [],
   "source": [
    "first = api.flaten(yearlyCorpora[0])\n",
    "first.sort(key=lambda x: x[0])\n",
    "print api.binarySearch(first,0,lambda x: x[0])\n",
    "print first"
   ]
  },
  {
   "cell_type": "code",
   "execution_count": 35,
   "metadata": {},
   "outputs": [
    {
     "name": "stdout",
     "output_type": "stream",
     "text": [
      "{'term': u'venom', 'words': [u'3', u'dai', u'white', u'prior', u'mice', u'period', u'death', u'inject', u'protein'], 'prob': 0.06478571, 'occurences': 47}\n"
     ]
    }
   ],
   "source": [
    "vals = occurences.values()\n",
    "vals.sort(key=lambda x:x['occurences'],reverse=True)\n",
    "print vals[0]"
   ]
  },
  {
   "cell_type": "code",
   "execution_count": 65,
   "metadata": {},
   "outputs": [],
   "source": [
    "sortedVals = sorted(occurences.values(),key=lambda k:k[\"tag\"])\n"
   ]
  },
  {
   "cell_type": "code",
   "execution_count": 14,
   "metadata": {},
   "outputs": [
    {
     "data": {
      "text/plain": [
       "True"
      ]
     },
     "execution_count": 14,
     "metadata": {},
     "output_type": "execute_result"
    }
   ],
   "source": [
    "\"\\xa9\" in stopWords\n"
   ]
  },
  {
   "cell_type": "code",
   "execution_count": null,
   "metadata": {},
   "outputs": [],
   "source": []
  }
 ],
 "metadata": {
  "kernelspec": {
   "display_name": "Python 2",
   "language": "python",
   "name": "python2"
  },
  "language_info": {
   "codemirror_mode": {
    "name": "ipython",
    "version": 2
   },
   "file_extension": ".py",
   "mimetype": "text/x-python",
   "name": "python",
   "nbconvert_exporter": "python",
   "pygments_lexer": "ipython2",
   "version": "2.7.14"
  }
 },
 "nbformat": 4,
 "nbformat_minor": 2
}
