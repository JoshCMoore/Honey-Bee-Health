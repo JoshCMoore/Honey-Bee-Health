{
 "cells": [
  {
   "cell_type": "code",
   "execution_count": 1,
   "metadata": {},
   "outputs": [
    {
     "name": "stderr",
     "output_type": "stream",
     "text": [
      "C:\\Users\\USER\\Anaconda3\\envs\\py27\\lib\\site-packages\\gensim\\utils.py:1197: UserWarning: detected Windows; aliasing chunkize to chunkize_serial\n",
      "  warnings.warn(\"detected Windows; aliasing chunkize to chunkize_serial\")\n"
     ]
    }
   ],
   "source": [
    "import string\n",
    "import re\n",
    "import os\n",
    "import tempfile\n",
    "import logging\n",
    "from datetime import datetime\n",
    "from gensim import corpora\n",
    "from gensim import models\n",
    "from gensim.corpora import Dictionary\n",
    "import gensim.parsing.preprocessing as processing\n",
    "numberOfTopics = 125"
   ]
  },
  {
   "cell_type": "code",
   "execution_count": 2,
   "metadata": {},
   "outputs": [],
   "source": [
    "table = open(\"../data/paperTable.tsv\",\"r\")\n",
    "entries = []\n",
    "for line in table:\n",
    "    entries.append(line.split('\\t'))\n",
    "table.close()"
   ]
  },
  {
   "cell_type": "code",
   "execution_count": 27,
   "metadata": {},
   "outputs": [],
   "source": [
    "# Create a set of frequent words\n",
    "stopFile = open(\"../data/stopwords.txt\",\"r\")\n",
    "stopWords = stopFile.read().splitlines()\n",
    "stopWords.append(\"\\xc2\\xa9\") #This is the copyright symbol, this shows up in every abstract and should not be apart of the corpus\n",
    "stopWords.extend([\"\\u2019\",\"\\u03bc\",\"bee\",\"bees\",\"honey\",\"honeybee\",\"honeybees\"])\n",
    "stopList = set(stopWords)\n",
    "with open(\"../data/extraStopWords.txt\",\"r\") as extraStopFile:\n",
    "    stopWords.extend(extraStopFile.read().split(\"\\n\"))\n",
    "# Lowercase each document, split it by white space and filter out stopWords\n",
    "stopWords.remove('')\n",
    "processing.STOPWORDS = stopWords\n",
    "def removeStops(text):\n",
    "    return processing.remove_stopwords(text.lower().translate(None, string.punctuation))\n",
    "abstracts = [[art[0],datetime.strptime(art[4][:-1], '%Y-%m-%d'),removeStops((art[1]+art[2]+art[3])) ] for art in entries]\n",
    "abstracts.sort(key=lambda q: q[1].year)\n",
    "\n",
    "# Count word frequencies\n",
    "from collections import defaultdict\n",
    "frequency = defaultdict(int)\n",
    "for abst in abstracts:\n",
    "    for token in abst[2].split(\" \"):\n",
    "        frequency[token] += 1\n",
    "processedCorpus = [[token for token in abst[2].split(\" \") if frequency[token] > 5] for abst in abstracts]"
   ]
  },
  {
   "cell_type": "code",
   "execution_count": 96,
   "metadata": {},
   "outputs": [
    {
     "name": "stderr",
     "output_type": "stream",
     "text": [
      "2018-05-25 15:31:25,062 : INFO : adding document #0 to Dictionary(0 unique tokens: [])\n",
      "2018-05-25 15:31:25,250 : INFO : built Dictionary(3860 unique tokens: [u'limited', u'represent', u'believed', u'alleles', u'copy']...) from 1044 documents (total 148749 corpus positions)\n",
      "2018-05-25 15:31:25,252 : INFO : saving Dictionary object under d:\\temp\\words.dict, separately None\n",
      "2018-05-25 15:31:25,256 : INFO : saved d:\\temp\\words.dict\n"
     ]
    }
   ],
   "source": [
    "# Save the dictionary of tokens\n",
    "tempFolder = tempfile.gettempdir()\n",
    "dictionary = corpora.Dictionary(processedCorpus)\n",
    "dictionary.save(os.path.join(tempFolder,'words.dict'))"
   ]
  },
  {
   "cell_type": "code",
   "execution_count": 97,
   "metadata": {},
   "outputs": [
    {
     "name": "stderr",
     "output_type": "stream",
     "text": [
      "2018-05-25 15:31:25,430 : INFO : storing corpus in Matrix Market format to d:\\temp\\words.dict\n",
      "2018-05-25 15:31:25,433 : INFO : saving sparse matrix to d:\\temp\\words.dict\n",
      "2018-05-25 15:31:25,434 : INFO : PROGRESS: saving document #0\n",
      "2018-05-25 15:31:25,868 : INFO : PROGRESS: saving document #1000\n",
      "2018-05-25 15:31:25,888 : INFO : saved 1044x3860 matrix, density=2.473% (99651/4029840)\n",
      "2018-05-25 15:31:25,888 : INFO : saving MmCorpus index to d:\\temp\\words.dict.index\n"
     ]
    }
   ],
   "source": [
    "# Create general corpus and serialize in order for it to be iterated over\n",
    "corpus = [dictionary.doc2bow(text) for text in processedCorpus]\n",
    "corpora.MmCorpus.serialize(os.path.join(tempFolder, 'words.dict'), corpus)"
   ]
  },
  {
   "cell_type": "markdown",
   "metadata": {},
   "source": [
    "The above corpus shows the amount of times every word used in the documents is used in every indevidual document. Every word is represented by a token ID, the list of which can be found in \"words.dict\""
   ]
  },
  {
   "cell_type": "code",
   "execution_count": 98,
   "metadata": {},
   "outputs": [
    {
     "name": "stderr",
     "output_type": "stream",
     "text": [
      "2018-05-25 15:31:25,903 : INFO : using symmetric alpha at 0.008\n",
      "2018-05-25 15:31:25,904 : INFO : using symmetric eta at 0.008\n",
      "2018-05-25 15:31:25,904 : INFO : using serial LDA version on this node\n",
      "2018-05-25 15:31:25,960 : INFO : running online (single-pass) LDA training, 125 topics, 1 passes over the supplied corpus of 1044 documents, updating model once every 1044 documents, evaluating perplexity every 1044 documents, iterating 50x with a convergence threshold of 0.001000\n",
      "2018-05-25 15:31:25,960 : WARNING : too few updates, training might not converge; consider increasing the number of passes or iterations to improve accuracy\n",
      "2018-05-25 15:31:28,707 : INFO : -19.735 per-word bound, 872495.8 perplexity estimate based on a held-out corpus of 1044 documents with 148749 words\n",
      "2018-05-25 15:31:28,709 : INFO : PROGRESS: pass 0, at document #1044/1044\n",
      "2018-05-25 15:31:30,743 : INFO : topic #8 (0.008): 0.018*\"gene\" + 0.012*\"behavior\" + 0.011*\"mellifera\" + 0.010*\"animal\" + 0.010*\"species\" + 0.009*\"genes\" + 0.008*\"health\" + 0.008*\"apis\" + 0.007*\"pollen\" + 0.007*\"expression\"\n",
      "2018-05-25 15:31:30,743 : INFO : topic #73 (0.008): 0.024*\"colonies\" + 0.012*\"varroa\" + 0.010*\"colony\" + 0.009*\"virus\" + 0.008*\"apis\" + 0.007*\"mite\" + 0.006*\"ccd\" + 0.006*\"health\" + 0.006*\"mellifera\" + 0.006*\"study\"\n",
      "2018-05-25 15:31:30,746 : INFO : topic #103 (0.008): 0.009*\"gene\" + 0.009*\"pollen\" + 0.008*\"expression\" + 0.007*\"animal\" + 0.006*\"cell\" + 0.006*\"tradeoffs\" + 0.006*\"metabolism\" + 0.005*\"genes\" + 0.005*\"apis\" + 0.005*\"crops\"\n",
      "2018-05-25 15:31:30,747 : INFO : topic #6 (0.008): 0.019*\"pollen\" + 0.011*\"virus\" + 0.009*\"pesticides\" + 0.008*\"colonies\" + 0.008*\"effects\" + 0.008*\"pesticide\" + 0.007*\"varroa\" + 0.006*\"apis\" + 0.006*\"samples\" + 0.006*\"environmental\"\n",
      "2018-05-25 15:31:30,749 : INFO : topic #94 (0.008): 0.011*\"pesticide\" + 0.011*\"animal\" + 0.011*\"pesticides\" + 0.010*\"exposure\" + 0.007*\"insecticide\" + 0.007*\"colony\" + 0.007*\"nectar\" + 0.007*\"used\" + 0.006*\"pollen\" + 0.006*\"mellifera\"\n",
      "2018-05-25 15:31:30,752 : INFO : topic diff=67.683464, rho=1.000000\n"
     ]
    }
   ],
   "source": [
    "# Train the model and set number of topics\n",
    "logging.basicConfig(format='%(asctime)s : %(levelname)s : %(message)s', level=logging.INFO)\n",
    "lda = models.ldamodel.LdaModel(corpus,id2word=dictionary,num_topics=numberOfTopics)"
   ]
  },
  {
   "cell_type": "code",
   "execution_count": null,
   "metadata": {},
   "outputs": [],
   "source": [
    "# Sort the most interesting words per topic per document\n",
    "# This cell does not need to be run if only trying to create Top Nine terms per paper\n",
    "topicOrganizingFile = open(\"../data/topicorganization.tsv\",\"w\")\n",
    "for x in xrange(0,len(abstracts)):\n",
    "    doc = dictionary.doc2bow(abstracts[x].split())\n",
    "    docTopics, wordTopics, phiValues = lda.get_document_topics(doc, per_word_topics=True)\n",
    "    topicOrganizingFile.write(yearOfAbstract[x]+\"\\t\"+titleOfAbstract[x]+\"\\t\")\n",
    "    for y in xrange(0,min(3,len(docTopics))):\n",
    "        topicnumber = docTopics[y][0]\n",
    "        topicOrganizingFile.write(str(lda.show_topic(topicnumber))+\"\\t\")\n",
    "        #Sorts the word topics in decending order based on their greatest phi value\n",
    "        for z in xrange(0,len(phiValues)):\n",
    "            phiValues[z][1].sort(key=lambda q:q[1],reverse=True)\n",
    "        phiValues.sort(key=lambda q:q[1][0][1],reverse=True)\n",
    "        curindex=0\n",
    "        topwords = \"\"\n",
    "        for z in xrange(0,3):\n",
    "            while curindex<len(phiValues) and phiValues[curindex][1][0][0]!=topicnumber:\n",
    "                curindex+=1\n",
    "            if(curindex>=len(phiValues)):break\n",
    "            print len(phiValues)\n",
    "            print dictionary[phiValues[curindex][0]]\n",
    "            topwords+=str(dictionary[phiValues[curindex][0]].encode('utf-8').strip())+\" \"\n",
    "            curindex+=1\n",
    "        filter(lambda a:a[0]!=topicnumber,phiValues)\n",
    "        topicOrganizingFile.write(topwords+\"\\t\")\n",
    "    topicOrganizingFile.write(\"\\n\")\n",
    "topicOrganizingFile.close()\n",
    "\n",
    "        "
   ]
  },
  {
   "cell_type": "code",
   "execution_count": null,
   "metadata": {},
   "outputs": [],
   "source": [
    "topicWords = []\n",
    "for i in range(0,numberOfTopics):\n",
    "    t = lda.get_topic_terms(i,50)\n",
    "    currentWordList = []\n",
    "    for x in t:\n",
    "        word = str(dictionary[x[0]])\n",
    "        if word not in currentWordList:\n",
    "            currentWordList.append(word)\n",
    "    topicWords.append(currentWordList)\n",
    "topicListFile = open(\"../data/TopicWords/List-\"+str(numberOfTopics)+\".txt\",\"w+\")\n",
    "for i in range(0,len(topicWords)):\n",
    "    topicListFile.write(\"Topic \"+str(i)+\":\\n\")\n",
    "    for j in topicWords[i]:\n",
    "        topicListFile.write(j+'\\n')\n",
    "    topicListFile.write('\\n')\n",
    "topicListFile.close()"
   ]
  },
  {
   "cell_type": "code",
   "execution_count": null,
   "metadata": {},
   "outputs": [],
   "source": [
    "#Makes the top nine terms for each document\n",
    "\n",
    "topNineFile = open(\"../data/Docbow/TopNineTerms-\"+str(numberOfTopics)+\".tsv\",\"w\")\n",
    "for x in xrange(0,len(abstracts)):\n",
    "    doc = dictionary.doc2bow(abstracts[x].split()) # Convert to bag of words format first\n",
    "    # Get the topics and words associated with each document\n",
    "    docTopics, wordTopics, phiValues = lda.get_document_topics(doc, per_word_topics=True)\n",
    "    topNineFile.write(yearOfAbstract[x]+\"\\t\"+titleOfAbstract[x]+\"\\t\")\n",
    "    for z in xrange(0,len(phiValues)):\n",
    "        phiValues[z][1].sort(key=lambda q:q[1],reverse=True)\n",
    "    phiValues.sort(key=lambda q:q[1][0][1],reverse=True)\n",
    "    nineWords = \"\"\n",
    "    for x in phiValues[:15]:\n",
    "        nineWords+= dictionary[x[0]] + \" \"\n",
    "    topNineFile.write(nineWords.encode('utf-8')+\"\\n\")"
   ]
  },
  {
   "cell_type": "code",
   "execution_count": 99,
   "metadata": {},
   "outputs": [],
   "source": [
    "#Saves the top 5 topics and top 3 words per topic\n",
    "with open(\"../data/Docbow/Top5TopicsTop3WordsTop=\"+str(numberOfTopics)+\".tsv\",\"w\") as file:\n",
    "    docs = [dictionary.doc2bow(a.split()) for a in abstracts] # Convert to bag of words format first\n",
    "    for d in xrange(0,len(docs)):\n",
    "        topics = lda.get_document_topics(bow=docs[d])\n",
    "        topics = sorted(topics,key=lambda k:k[1], reverse=True)\n",
    "        file.write(yearOfAbstract[d]+\":\\t\")\n",
    "        for t in topics[0:4]:\n",
    "            for word in [dictionary[x[0]] for x in lda.get_topic_terms(t[0],topn=3)]:\n",
    "                file.write(word+\"\\t\")\n",
    "        file.write(\"\\n\")"
   ]
  },
  {
   "cell_type": "code",
   "execution_count": null,
   "metadata": {},
   "outputs": [],
   "source": []
  }
 ],
 "metadata": {
  "kernelspec": {
   "display_name": "Python 2",
   "language": "python",
   "name": "python2"
  },
  "language_info": {
   "codemirror_mode": {
    "name": "ipython",
    "version": 2
   },
   "file_extension": ".py",
   "mimetype": "text/x-python",
   "name": "python",
   "nbconvert_exporter": "python",
   "pygments_lexer": "ipython2",
   "version": "2.7.14"
  }
 },
 "nbformat": 4,
 "nbformat_minor": 2
}
