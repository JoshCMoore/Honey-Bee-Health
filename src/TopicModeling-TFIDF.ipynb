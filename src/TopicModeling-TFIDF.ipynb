{
 "cells": [
  {
   "cell_type": "code",
   "execution_count": 76,
   "metadata": {},
   "outputs": [],
   "source": [
    "import re\n",
    "import os\n",
    "import tempfile\n",
    "from collections import defaultdict\n",
    "from gensim import corpora\n",
    "from gensim import models\n",
    "from gensim.models import TfidfModel\n",
    "numberOfTopics = 150"
   ]
  },
  {
   "cell_type": "code",
   "execution_count": 3,
   "metadata": {},
   "outputs": [],
   "source": [
    "table = open(\"../data/paperTable.tsv\",\"r\")\n",
    "entries = []\n",
    "for line in table:\n",
    "    entries.append(line.split('\\t'))\n",
    "table.close()"
   ]
  },
  {
   "cell_type": "code",
   "execution_count": 4,
   "metadata": {},
   "outputs": [],
   "source": [
    "# Read in abstract year, title, and text\n",
    "abstracts = []\n",
    "titleOfAbstract = []\n",
    "yearOfAbstract = []\n",
    "for articles in entries:\n",
    "    titleOfAbstract.append(articles[0])\n",
    "    abstracts.append(articles[1]+articles[2]+articles[3])\n",
    "    yearOfAbstract.append(articles[4][:-1])"
   ]
  },
  {
   "cell_type": "code",
   "execution_count": 6,
   "metadata": {},
   "outputs": [],
   "source": [
    "# Create a set of frequent words\n",
    "stopFile = open(\"../data/stopwords.txt\",\"r\")\n",
    "stopWords = stopFile.read().splitlines()\n",
    "stopWords.append(\"\\xc2\\xa9\") #This is the copyright symbol, this shows up in every abstract and should not be apart of the corpus\n",
    "stopWords.extend([\"\\u2019\",\"\\u03bc\"])\n",
    "\n",
    "stopList = set(stopWords)\n",
    "# Lowercase each document, split it by white space and filter out stopWords\n",
    "texts = []\n",
    "for document in abstracts:\n",
    "    docwords = []\n",
    "    for word in document.lower().split():\n",
    "        word = re.sub(r'[^\\w\\s]','',word)\n",
    "        word = re.sub(r'\\.+$','',word)\n",
    "        isNumber = re.compile('^[0-9]+$')\n",
    "        if isNumber.search(word):\n",
    "            word = ''\n",
    "        if word not in stopList and word!='':\n",
    "            docwords.append(word)\n",
    "    texts.append(docwords)\n",
    "\n",
    "# Count word frequencies\n",
    "frequency = defaultdict(int)\n",
    "for text in texts:\n",
    "    for token in text:\n",
    "        frequency[token] += 1  \n",
    "\n",
    "processedCorpus = [[token for token in text if frequency[token] > 5] for text in texts]"
   ]
  },
  {
   "cell_type": "code",
   "execution_count": 7,
   "metadata": {},
   "outputs": [],
   "source": [
    "#create corpus from processed\n",
    "tempFolder = tempfile.gettempdir()\n",
    "dictionary = corpora.Dictionary(processedCorpus)\n",
    "dictionary.save(os.path.join(tempFolder,'words.dict'))\n",
    "corpus = [dictionary.doc2bow(text) for text in processedCorpus]\n",
    "corpora.MmCorpus.serialize(os.path.join(tempFolder, 'words.dict'), corpus)"
   ]
  },
  {
   "cell_type": "code",
   "execution_count": 77,
   "metadata": {},
   "outputs": [],
   "source": [
    "tfidf = TfidfModel(corpus,id2word=dictionary) \n",
    "lda = models.ldamodel.LdaModel(tfidf[corpus],id2word=dictionary,num_topics=numberOfTopics)"
   ]
  },
  {
   "cell_type": "code",
   "execution_count": 78,
   "metadata": {},
   "outputs": [],
   "source": [
    "topNineFile = open(\"../data/TFIDF/TopNineTerms-\"+str(numberOfTopics)+\".tsv\",\"w\")\n",
    "for x in xrange(0,len(abstracts)):\n",
    "    doc = dictionary.doc2bow(abstracts[x].split())\n",
    "    docTopics, wordTopics, phiValues = lda.get_document_topics(doc, per_word_topics=True)\n",
    "    topNineFile.write(yearOfAbstract[x]+\"\\t\"+titleOfAbstract[x]+\"\\t\")\n",
    "    for z in xrange(0,len(phiValues)):\n",
    "        phiValues[z][1].sort(key=lambda q:q[1],reverse=True)\n",
    "    phiValues.sort(key=lambda q:q[1][0][1],reverse=True)\n",
    "    nineWords = \"\"\n",
    "    for x in phiValues[:9]:\n",
    "        nineWords+= dictionary[x[0]] + \" \"\n",
    "    topNineFile.write(nineWords.encode('utf-8')+\"\\n\")"
   ]
  },
  {
   "cell_type": "code",
   "execution_count": null,
   "metadata": {},
   "outputs": [],
   "source": []
  }
 ],
 "metadata": {
  "kernelspec": {
   "display_name": "Python 2",
   "language": "python",
   "name": "python2"
  },
  "language_info": {
   "codemirror_mode": {
    "name": "ipython",
    "version": 2
   },
   "file_extension": ".py",
   "mimetype": "text/x-python",
   "name": "python",
   "nbconvert_exporter": "python",
   "pygments_lexer": "ipython2",
   "version": "2.7.15"
  }
 },
 "nbformat": 4,
 "nbformat_minor": 2
}
