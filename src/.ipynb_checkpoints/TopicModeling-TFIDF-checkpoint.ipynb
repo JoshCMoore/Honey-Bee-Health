{
 "cells": [
  {
   "cell_type": "code",
   "execution_count": 46,
   "metadata": {},
   "outputs": [],
   "source": [
    "import re\n",
    "import os\n",
    "import tempfile\n",
    "from collections import defaultdict\n",
    "from gensim import corpora\n",
    "from gensim import models\n",
    "from gensim.models import TfidfModel"
   ]
  },
  {
   "cell_type": "code",
   "execution_count": 47,
   "metadata": {},
   "outputs": [],
   "source": [
    "table = open(\"../data/paperTable.tsv\",\"r\")\n",
    "entries = []\n",
    "for line in table:\n",
    "    entries.append(line.split('\\t'))\n",
    "table.close()"
   ]
  },
  {
   "cell_type": "code",
   "execution_count": 48,
   "metadata": {},
   "outputs": [],
   "source": [
    "# Read in abstract year, title, and text\n",
    "abstracts = []\n",
    "titleOfAbstract = []\n",
    "yearOfAbstract = []\n",
    "for articles in entries:\n",
    "    titleOfAbstract.append(articles[0])\n",
    "    abstracts.append(articles[1]+articles[2]+articles[3])\n",
    "    yearOfAbstract.append(articles[4][:-1])"
   ]
  },
  {
   "cell_type": "code",
   "execution_count": 49,
   "metadata": {},
   "outputs": [],
   "source": [
    "# Create a set of frequent words\n",
    "stopFile = open(\"../data/stopWords.txt\",\"r\")\n",
    "stopWords = stopFile.read().splitlines()\n",
    "stopWords.append(\"\\xc2\\xa9\") #This is the copyright symbol, this shows up in every abstract and should not be apart of the corpus\n",
    "stopWords.extend([\"\\u2019\",\"\\u03bc\"])\n",
    "\n",
    "stopList = set(stopWords)\n",
    "# Lowercase each document, split it by white space and filter out stopWords\n",
    "texts = []\n",
    "for document in abstracts:\n",
    "    docwords = []\n",
    "    for word in document.lower().split():\n",
    "        word = re.sub(r'[^\\w\\s]','',word)\n",
    "        word = re.sub(r'\\.+$','',word)\n",
    "        isNumber = re.compile('^[0-9]+$')\n",
    "        if isNumber.search(word):\n",
    "            word = ''\n",
    "        if word not in stopList and word!='':\n",
    "            docwords.append(word)\n",
    "    texts.append(docwords)\n",
    "\n",
    "# Count word frequencies\n",
    "frequency = defaultdict(int)\n",
    "for text in texts:\n",
    "    for token in text:\n",
    "        frequency[token] += 1  \n",
    "\n",
    "processedCorpus = [[token for token in text if frequency[token] > 5] for text in texts]"
   ]
  },
  {
   "cell_type": "code",
   "execution_count": 63,
   "metadata": {},
   "outputs": [],
   "source": [
    "#create corpus from processed\n",
    "tempFolder = tempfile.gettempdir()\n",
    "dictionary = corpora.Dictionary(processedCorpus)\n",
    "dictionary.save(os.path.join(tempFolder,'words.dict'))\n",
    "corpus = [dictionary.doc2bow(text) for text in processedCorpus]\n",
    "corpora.MmCorpus.serialize(os.path.join(tempFolder, 'words.dict'), corpus)"
   ]
  },
  {
   "cell_type": "code",
   "execution_count": 64,
   "metadata": {},
   "outputs": [],
   "source": [
    "tfidf = TfidfModel(corpus,id2word=dictionary) \n",
    "lsi = models.LsiModel(tfidf[corpus], id2word=dictionary, num_topics=25)"
   ]
  },
  {
   "cell_type": "code",
   "execution_count": 65,
   "metadata": {},
   "outputs": [],
   "source": [
    "topNine = []\n",
    "for doc in tfidf[corpus]:\n",
    "    temp = {}\n",
    "    for idd,score in doc:\n",
    "        temp[str(dictionary[idd])] = score\n",
    "    temp = sorted(temp.iteritems(), key=lambda (k,v): (v,k),reverse=True)[:9]\n",
    "    topNine.append([i[0] for i in temp])"
   ]
  },
  {
   "cell_type": "code",
   "execution_count": 61,
   "metadata": {},
   "outputs": [],
   "source": [
    "outputFile = open(\"../data/TFIDF/TopNineTerms-25.tsv\",\"w\") #Change number for number of topics\n",
    "for x in xrange(0,len(topNine)):\n",
    "    writeLine = \"\"\n",
    "    for i in topNine[x]:\n",
    "        writeLine+=i+\" \"\n",
    "    outputFile.write(yearOfAbstract[x]+\"\\t\"+titleOfAbstract[x]+\"\\t\"+writeLine+\"\\t\\n\")\n",
    "outputFile.close()"
   ]
  },
  {
   "cell_type": "code",
   "execution_count": null,
   "metadata": {},
   "outputs": [],
   "source": []
  }
 ],
 "metadata": {
  "kernelspec": {
   "display_name": "Python 2",
   "language": "python",
   "name": "python2"
  },
  "language_info": {
   "codemirror_mode": {
    "name": "ipython",
    "version": 2
   },
   "file_extension": ".py",
   "mimetype": "text/x-python",
   "name": "python",
   "nbconvert_exporter": "python",
   "pygments_lexer": "ipython2",
   "version": "2.7.14"
  }
 },
 "nbformat": 4,
 "nbformat_minor": 2
}
