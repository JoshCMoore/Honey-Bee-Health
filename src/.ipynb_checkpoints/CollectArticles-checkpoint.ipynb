{
 "cells": [
  {
   "cell_type": "code",
   "execution_count": 16,
   "metadata": {},
   "outputs": [],
   "source": [
    "import requests\n",
    "from requests.auth import HTTPBasicAuth\n",
    "from bs4 import BeautifulSoup\n",
    "import urllib"
   ]
  },
  {
   "cell_type": "code",
   "execution_count": 17,
   "metadata": {},
   "outputs": [],
   "source": [
    "#The 'query' key contains the search terms exactly\n",
    "args = {'query':'Apis Mellifera','apiKey':'582c2ee616e8c4119ae4201ce59a5e06'}\n",
    "r = requests.get('http://api.elsevier.com/content/search/scopus?'+urllib.urlencode(args))\n",
    "data = r.json()"
   ]
  },
  {
   "cell_type": "code",
   "execution_count": 18,
   "metadata": {},
   "outputs": [],
   "source": [
    "login = open(\"./LoginInfo.txt\",\"r\")\n",
    "user = login.readline()\n",
    "password = login.readline()\n",
    "login.close()"
   ]
  },
  {
   "cell_type": "code",
   "execution_count": 19,
   "metadata": {},
   "outputs": [
    {
     "name": "stdout",
     "output_type": "stream",
     "text": [
      "Kalman filter\n"
     ]
    }
   ],
   "source": [
    "abstractPage = requests.get(\"https://www.scopus.com/inward/record.uri?partnerID=HzOxMe3b&scp=85039924208&origin=inward\",auth = HTTPBasicAuth(user,password))\n",
    "bSoupObj = BeautifulSoup(abstractPage.content,\"html5lib\")\n",
    "abstractText = bSoupObj.find(\"section\",{\"id\":\"authorKeywords\"}).findAll(\"span\",{\"class\":\"badges\"})\n",
    "# print abstractText\n",
    "print abstractText[1].text"
   ]
  },
  {
   "cell_type": "code",
   "execution_count": 20,
   "metadata": {},
   "outputs": [
    {
     "name": "stdout",
     "output_type": "stream",
     "text": [
      "Color, Food products, Food storage, Hough transforms, Elliptical shapes, Image moments, Object discrimination, Pollen counting, Pollen discriminations, Receiver operating characteristics, Tracking models, Video monitoring, Kalman filters\n"
     ]
    }
   ],
   "source": [
    "sKeywords = \"\"\n",
    "for word in bSoupObj.find(\"section\",{\"id\":\"indexedKeywords\"}).findAll(\"span\"):\n",
    "    sKeywords+= word.text+\", \"\n",
    "print sKeywords[:-2]"
   ]
  },
  {
   "cell_type": "code",
   "execution_count": 21,
   "metadata": {},
   "outputs": [
    {
     "name": "stdout",
     "output_type": "stream",
     "text": [
      "no abs\n",
      "no abs\n",
      "no abs\n",
      "no abs\n",
      "no abs\n",
      "no abs\n",
      "no abs\n",
      "no abs\n",
      "no abs\n",
      "no abs\n",
      "no abs\n",
      "no abs\n",
      "no abs\n",
      "no abs\n",
      "no abs\n",
      "no abs\n",
      "no abs\n",
      "no abs\n",
      "no abs\n",
      "no abs\n",
      "no abs\n",
      "no abs\n",
      "no abs\n",
      "no abs\n",
      "no abs\n",
      "no abs\n",
      "no abs\n",
      "no abs\n",
      "no abs\n",
      "no abs\n",
      "no abs\n",
      "no abs\n",
      "no abs\n",
      "no abs\n",
      "no abs\n",
      "no abs\n",
      "no abs\n",
      "no abs\n",
      "no abs\n",
      "no abs\n",
      "no abs\n",
      "no abs\n",
      "no abs\n",
      "no abs\n",
      "no abs\n",
      "no abs\n",
      "no abs\n",
      "no abs\n",
      "no abs\n",
      "no abs\n",
      "no abs\n",
      "no abs\n",
      "no abs\n",
      "no abs\n",
      "no abs\n",
      "no abs\n",
      "no abs\n",
      "no abs\n"
     ]
    },
    {
     "ename": "KeyError",
     "evalue": "'entry'",
     "output_type": "error",
     "traceback": [
      "\u001b[1;31m---------------------------------------------------------------------------\u001b[0m",
      "\u001b[1;31mKeyError\u001b[0m                                  Traceback (most recent call last)",
      "\u001b[1;32m<ipython-input-21-ff9b372a2f95>\u001b[0m in \u001b[0;36m<module>\u001b[1;34m()\u001b[0m\n\u001b[0;32m     27\u001b[0m     \u001b[0mdata\u001b[0m \u001b[1;33m=\u001b[0m \u001b[0mrequests\u001b[0m\u001b[1;33m.\u001b[0m\u001b[0mget\u001b[0m\u001b[1;33m(\u001b[0m\u001b[1;34m'http://api.elsevier.com/content/search/scopus?query=Honey-Bee-Health&apiKey=eb73f64c03599119a51db065202c555f&start='\u001b[0m\u001b[1;33m+\u001b[0m\u001b[0mstr\u001b[0m\u001b[1;33m(\u001b[0m\u001b[0mstart_point\u001b[0m\u001b[1;33m)\u001b[0m\u001b[1;33m)\u001b[0m\u001b[1;33m.\u001b[0m\u001b[0mjson\u001b[0m\u001b[1;33m(\u001b[0m\u001b[1;33m)\u001b[0m\u001b[1;33m\u001b[0m\u001b[0m\n\u001b[0;32m     28\u001b[0m     \u001b[0mstart_point\u001b[0m\u001b[1;33m+=\u001b[0m\u001b[1;36m25\u001b[0m\u001b[1;33m\u001b[0m\u001b[0m\n\u001b[1;32m---> 29\u001b[1;33m     \u001b[0mentry_size\u001b[0m\u001b[1;33m+=\u001b[0m\u001b[0mlen\u001b[0m\u001b[1;33m(\u001b[0m\u001b[0mdata\u001b[0m\u001b[1;33m[\u001b[0m\u001b[1;34m'search-results'\u001b[0m\u001b[1;33m]\u001b[0m\u001b[1;33m[\u001b[0m\u001b[1;34m'entry'\u001b[0m\u001b[1;33m]\u001b[0m\u001b[1;33m)\u001b[0m\u001b[1;33m\u001b[0m\u001b[0m\n\u001b[0m\u001b[0;32m     30\u001b[0m \u001b[0mf\u001b[0m\u001b[1;33m.\u001b[0m\u001b[0mclose\u001b[0m\u001b[1;33m(\u001b[0m\u001b[1;33m)\u001b[0m\u001b[1;33m\u001b[0m\u001b[0m\n\u001b[0;32m     31\u001b[0m \u001b[1;32mprint\u001b[0m\u001b[1;33m(\u001b[0m\u001b[1;34m\"done\"\u001b[0m\u001b[1;33m)\u001b[0m\u001b[1;33m\u001b[0m\u001b[0m\n",
      "\u001b[1;31mKeyError\u001b[0m: 'entry'"
     ]
    }
   ],
   "source": [
    "f = open(\"../data/paperTable.tsv\",\"w\")\n",
    "entry_size = len(data['search-results']['entry'])\n",
    "start_point = 25\n",
    "while(entry_size>0):\n",
    "    for entry in data['search-results']['entry']:\n",
    "        #gets abstract text\n",
    "        abstractPage = requests.get(entry['link'][2]['@href'],auth = HTTPBasicAuth(user,password))\n",
    "        bSoupObj = BeautifulSoup(abstractPage.content,\"html5lib\")\n",
    "        if(len(bSoupObj.findAll(\"p\"))>1):\n",
    "            abstractText = bSoupObj.findAll(\"p\")[1].text\n",
    "        \n",
    "        #creates lists of keywords, seperated into author keywords and scopus assigned keywords\n",
    "            aKeywords = \"\"\n",
    "            sKeywords = \"\"\n",
    "            if bSoupObj.find(\"section\",{\"id\":\"authorKeywords\"}) is not None:\n",
    "                for word in bSoupObj.find(\"section\",{\"id\":\"authorKeywords\"}).findAll(\"li\"):\n",
    "                    aKeywords+= word.text+\", \"\n",
    "            if bSoupObj.find(\"section\",{\"id\":\"indexedKeywords\"}) is not None:\n",
    "                for word in bSoupObj.find(\"section\",{\"id\":\"indexedKeywords\"}).findAll(\"span\"):\n",
    "                    sKeywords+= word.text+\", \"\n",
    "\n",
    "            #prints title, abstract, tags, and date created\n",
    "            if abstractText.encode(\"utf8\")==\"[No abstract available]\":\n",
    "                print(\"no abs\")\n",
    "            else:\n",
    "                f.write(entry['dc:title'].encode(\"utf8\")+\"\\t\"+abstractText.encode(\"utf8\")+\"\\t\"+aKeywords[:-2].encode(\"utf8\")+\"\\t\"+sKeywords[:-2].encode(\"utf8\")+\"\\t\"+entry['prism:coverDate'].encode(\"utf8\")+\"\\n\")\n",
    "    data = requests.get('http://api.elsevier.com/content/search/scopus?query=Honey-Bee-Health&apiKey=eb73f64c03599119a51db065202c555f&start='+str(start_point)).json()\n",
    "    start_point+=25\n",
    "    if 'entry' in data['search-results']:\n",
    "        entry_size+=len(data['search-results']['entry'])\n",
    "f.close()\n",
    "print(\"done\")"
   ]
  },
  {
   "cell_type": "code",
   "execution_count": 13,
   "metadata": {},
   "outputs": [
    {
     "data": {
      "text/plain": [
       "25"
      ]
     },
     "execution_count": 13,
     "metadata": {},
     "output_type": "execute_result"
    }
   ],
   "source": [
    "len(data['search-results']['entry'])\n"
   ]
  },
  {
   "cell_type": "code",
   "execution_count": null,
   "metadata": {},
   "outputs": [],
   "source": []
  }
 ],
 "metadata": {
  "kernelspec": {
   "display_name": "Python 2",
   "language": "python",
   "name": "python2"
  },
  "language_info": {
   "codemirror_mode": {
    "name": "ipython",
    "version": 2
   },
   "file_extension": ".py",
   "mimetype": "text/x-python",
   "name": "python",
   "nbconvert_exporter": "python",
   "pygments_lexer": "ipython2",
   "version": "2.7.14"
  }
 },
 "nbformat": 4,
 "nbformat_minor": 2
}
